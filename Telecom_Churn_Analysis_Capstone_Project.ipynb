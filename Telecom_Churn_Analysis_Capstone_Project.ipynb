{
  "nbformat": 4,
  "nbformat_minor": 0,
  "metadata": {
    "kernelspec": {
      "display_name": "Python 3",
      "language": "python",
      "name": "python3"
    },
    "language_info": {
      "codemirror_mode": {
        "name": "ipython",
        "version": 3
      },
      "file_extension": ".py",
      "mimetype": "text/x-python",
      "name": "python",
      "nbconvert_exporter": "python",
      "pygments_lexer": "ipython3",
      "version": "3.6.6"
    },
    "colab": {
      "name": "Telecom Churn Analysis - Capstone Project.ipynb",
      "provenance": [],
      "collapsed_sections": [
        "Y06xIdG26kRF",
        "pGCU9eL_XWR2",
        "bGzp8qkgqjOR",
        "JGxnmL1Jc81z",
        "wBP6ebj0drxL",
        "RNlLe8KhAHkk",
        "o0yHxvFGgfS7",
        "fumgTp3zl0rb",
        "hwWjA2dgmWkz",
        "h0J0DM4v-e0z",
        "uDZt9lcy_ht_",
        "RjqoXnkcBCKa"
      ],
      "include_colab_link": true
    }
  },
  "cells": [
    {
      "cell_type": "markdown",
      "metadata": {
        "id": "view-in-github",
        "colab_type": "text"
      },
      "source": [
        "<a href=\"https://colab.research.google.com/github/nikita1128/Telecom-Churn-Analysis/blob/main/Telecom_Churn_Analysis_Capstone_Project.ipynb\" target=\"_parent\"><img src=\"https://colab.research.google.com/assets/colab-badge.svg\" alt=\"Open In Colab\"/></a>"
      ]
    },
    {
      "cell_type": "markdown",
      "metadata": {
        "id": "Y06xIdG26kRF"
      },
      "source": [
        "## <b> Orange S.A., formerly France Télécom S.A., is a French multinational telecommunications corporation. The Orange Telecom's Churn Dataset, consists of cleaned customer activity data (features), along with a churn label specifying whether a customer canceled the subscription.\n",
        "\n",
        "## <b> Explore and analyze the data to discover key factors responsible for customer churn and come up with ways/recommendations to ensure customer retention. </b>"
      ]
    },
    {
      "cell_type": "markdown",
      "source": [
        "# **Importing the required libraries**"
      ],
      "metadata": {
        "id": "pGCU9eL_XWR2"
      }
    },
    {
      "cell_type": "code",
      "source": [
        "#Importing the required libraries\n",
        "\n",
        "import numpy as np \n",
        "import pandas as pd \n",
        "import seaborn as sns \n",
        "import matplotlib.pyplot as plt\n",
        "%matplotlib inline"
      ],
      "metadata": {
        "id": "-iUB507cMznm"
      },
      "execution_count": null,
      "outputs": []
    },
    {
      "cell_type": "markdown",
      "source": [
        "# **Loading the data file**"
      ],
      "metadata": {
        "id": "4IuDCaQXXlYP"
      }
    },
    {
      "cell_type": "code",
      "source": [
        "from google.colab import drive\n",
        "drive.mount('/content/drive')"
      ],
      "metadata": {
        "id": "xpZvYVQjObbT",
        "colab": {
          "base_uri": "https://localhost:8080/"
        },
        "outputId": "f2f2e97f-f6b0-4a15-cacb-9fe60c4bd7aa"
      },
      "execution_count": null,
      "outputs": [
        {
          "output_type": "stream",
          "name": "stdout",
          "text": [
            "Drive already mounted at /content/drive; to attempt to forcibly remount, call drive.mount(\"/content/drive\", force_remount=True).\n"
          ]
        }
      ]
    },
    {
      "cell_type": "code",
      "source": [
        "telecom = pd.read_csv('/content/drive/MyDrive/Alma/Pro/Capstone Project/Copy of Telecom Churn.csv')"
      ],
      "metadata": {
        "id": "aEtxXILlMzbf"
      },
      "execution_count": null,
      "outputs": []
    },
    {
      "cell_type": "markdown",
      "source": [
        "# **Now while using the \"head\" and \"tail\" function we can see the top and bottom records.**"
      ],
      "metadata": {
        "id": "tfH12torYNDc"
      }
    },
    {
      "cell_type": "code",
      "source": [
        "#Using head() function to see first 5 records\n",
        "telecom.head()"
      ],
      "metadata": {
        "id": "xuE6hz_fOYOZ",
        "colab": {
          "base_uri": "https://localhost:8080/",
          "height": 285
        },
        "outputId": "eea229e2-cba0-4aeb-ef7c-768c7bca9bbe"
      },
      "execution_count": null,
      "outputs": [
        {
          "output_type": "execute_result",
          "data": {
            "text/plain": [
              "  State  Account length  Area code International plan Voice mail plan  \\\n",
              "0    KS             128        415                 No             Yes   \n",
              "1    OH             107        415                 No             Yes   \n",
              "2    NJ             137        415                 No              No   \n",
              "3    OH              84        408                Yes              No   \n",
              "4    OK              75        415                Yes              No   \n",
              "\n",
              "   Number vmail messages  Total day minutes  Total day calls  \\\n",
              "0                     25              265.1              110   \n",
              "1                     26              161.6              123   \n",
              "2                      0              243.4              114   \n",
              "3                      0              299.4               71   \n",
              "4                      0              166.7              113   \n",
              "\n",
              "   Total day charge  Total eve minutes  Total eve calls  Total eve charge  \\\n",
              "0             45.07              197.4               99             16.78   \n",
              "1             27.47              195.5              103             16.62   \n",
              "2             41.38              121.2              110             10.30   \n",
              "3             50.90               61.9               88              5.26   \n",
              "4             28.34              148.3              122             12.61   \n",
              "\n",
              "   Total night minutes  Total night calls  Total night charge  \\\n",
              "0                244.7                 91               11.01   \n",
              "1                254.4                103               11.45   \n",
              "2                162.6                104                7.32   \n",
              "3                196.9                 89                8.86   \n",
              "4                186.9                121                8.41   \n",
              "\n",
              "   Total intl minutes  Total intl calls  Total intl charge  \\\n",
              "0                10.0                 3               2.70   \n",
              "1                13.7                 3               3.70   \n",
              "2                12.2                 5               3.29   \n",
              "3                 6.6                 7               1.78   \n",
              "4                10.1                 3               2.73   \n",
              "\n",
              "   Customer service calls  Churn  \n",
              "0                       1  False  \n",
              "1                       1  False  \n",
              "2                       0  False  \n",
              "3                       2  False  \n",
              "4                       3  False  "
            ],
            "text/html": [
              "\n",
              "  <div id=\"df-c962dd5c-feb8-43ea-92df-531a2cf9fb0e\">\n",
              "    <div class=\"colab-df-container\">\n",
              "      <div>\n",
              "<style scoped>\n",
              "    .dataframe tbody tr th:only-of-type {\n",
              "        vertical-align: middle;\n",
              "    }\n",
              "\n",
              "    .dataframe tbody tr th {\n",
              "        vertical-align: top;\n",
              "    }\n",
              "\n",
              "    .dataframe thead th {\n",
              "        text-align: right;\n",
              "    }\n",
              "</style>\n",
              "<table border=\"1\" class=\"dataframe\">\n",
              "  <thead>\n",
              "    <tr style=\"text-align: right;\">\n",
              "      <th></th>\n",
              "      <th>State</th>\n",
              "      <th>Account length</th>\n",
              "      <th>Area code</th>\n",
              "      <th>International plan</th>\n",
              "      <th>Voice mail plan</th>\n",
              "      <th>Number vmail messages</th>\n",
              "      <th>Total day minutes</th>\n",
              "      <th>Total day calls</th>\n",
              "      <th>Total day charge</th>\n",
              "      <th>Total eve minutes</th>\n",
              "      <th>Total eve calls</th>\n",
              "      <th>Total eve charge</th>\n",
              "      <th>Total night minutes</th>\n",
              "      <th>Total night calls</th>\n",
              "      <th>Total night charge</th>\n",
              "      <th>Total intl minutes</th>\n",
              "      <th>Total intl calls</th>\n",
              "      <th>Total intl charge</th>\n",
              "      <th>Customer service calls</th>\n",
              "      <th>Churn</th>\n",
              "    </tr>\n",
              "  </thead>\n",
              "  <tbody>\n",
              "    <tr>\n",
              "      <th>0</th>\n",
              "      <td>KS</td>\n",
              "      <td>128</td>\n",
              "      <td>415</td>\n",
              "      <td>No</td>\n",
              "      <td>Yes</td>\n",
              "      <td>25</td>\n",
              "      <td>265.1</td>\n",
              "      <td>110</td>\n",
              "      <td>45.07</td>\n",
              "      <td>197.4</td>\n",
              "      <td>99</td>\n",
              "      <td>16.78</td>\n",
              "      <td>244.7</td>\n",
              "      <td>91</td>\n",
              "      <td>11.01</td>\n",
              "      <td>10.0</td>\n",
              "      <td>3</td>\n",
              "      <td>2.70</td>\n",
              "      <td>1</td>\n",
              "      <td>False</td>\n",
              "    </tr>\n",
              "    <tr>\n",
              "      <th>1</th>\n",
              "      <td>OH</td>\n",
              "      <td>107</td>\n",
              "      <td>415</td>\n",
              "      <td>No</td>\n",
              "      <td>Yes</td>\n",
              "      <td>26</td>\n",
              "      <td>161.6</td>\n",
              "      <td>123</td>\n",
              "      <td>27.47</td>\n",
              "      <td>195.5</td>\n",
              "      <td>103</td>\n",
              "      <td>16.62</td>\n",
              "      <td>254.4</td>\n",
              "      <td>103</td>\n",
              "      <td>11.45</td>\n",
              "      <td>13.7</td>\n",
              "      <td>3</td>\n",
              "      <td>3.70</td>\n",
              "      <td>1</td>\n",
              "      <td>False</td>\n",
              "    </tr>\n",
              "    <tr>\n",
              "      <th>2</th>\n",
              "      <td>NJ</td>\n",
              "      <td>137</td>\n",
              "      <td>415</td>\n",
              "      <td>No</td>\n",
              "      <td>No</td>\n",
              "      <td>0</td>\n",
              "      <td>243.4</td>\n",
              "      <td>114</td>\n",
              "      <td>41.38</td>\n",
              "      <td>121.2</td>\n",
              "      <td>110</td>\n",
              "      <td>10.30</td>\n",
              "      <td>162.6</td>\n",
              "      <td>104</td>\n",
              "      <td>7.32</td>\n",
              "      <td>12.2</td>\n",
              "      <td>5</td>\n",
              "      <td>3.29</td>\n",
              "      <td>0</td>\n",
              "      <td>False</td>\n",
              "    </tr>\n",
              "    <tr>\n",
              "      <th>3</th>\n",
              "      <td>OH</td>\n",
              "      <td>84</td>\n",
              "      <td>408</td>\n",
              "      <td>Yes</td>\n",
              "      <td>No</td>\n",
              "      <td>0</td>\n",
              "      <td>299.4</td>\n",
              "      <td>71</td>\n",
              "      <td>50.90</td>\n",
              "      <td>61.9</td>\n",
              "      <td>88</td>\n",
              "      <td>5.26</td>\n",
              "      <td>196.9</td>\n",
              "      <td>89</td>\n",
              "      <td>8.86</td>\n",
              "      <td>6.6</td>\n",
              "      <td>7</td>\n",
              "      <td>1.78</td>\n",
              "      <td>2</td>\n",
              "      <td>False</td>\n",
              "    </tr>\n",
              "    <tr>\n",
              "      <th>4</th>\n",
              "      <td>OK</td>\n",
              "      <td>75</td>\n",
              "      <td>415</td>\n",
              "      <td>Yes</td>\n",
              "      <td>No</td>\n",
              "      <td>0</td>\n",
              "      <td>166.7</td>\n",
              "      <td>113</td>\n",
              "      <td>28.34</td>\n",
              "      <td>148.3</td>\n",
              "      <td>122</td>\n",
              "      <td>12.61</td>\n",
              "      <td>186.9</td>\n",
              "      <td>121</td>\n",
              "      <td>8.41</td>\n",
              "      <td>10.1</td>\n",
              "      <td>3</td>\n",
              "      <td>2.73</td>\n",
              "      <td>3</td>\n",
              "      <td>False</td>\n",
              "    </tr>\n",
              "  </tbody>\n",
              "</table>\n",
              "</div>\n",
              "      <button class=\"colab-df-convert\" onclick=\"convertToInteractive('df-c962dd5c-feb8-43ea-92df-531a2cf9fb0e')\"\n",
              "              title=\"Convert this dataframe to an interactive table.\"\n",
              "              style=\"display:none;\">\n",
              "        \n",
              "  <svg xmlns=\"http://www.w3.org/2000/svg\" height=\"24px\"viewBox=\"0 0 24 24\"\n",
              "       width=\"24px\">\n",
              "    <path d=\"M0 0h24v24H0V0z\" fill=\"none\"/>\n",
              "    <path d=\"M18.56 5.44l.94 2.06.94-2.06 2.06-.94-2.06-.94-.94-2.06-.94 2.06-2.06.94zm-11 1L8.5 8.5l.94-2.06 2.06-.94-2.06-.94L8.5 2.5l-.94 2.06-2.06.94zm10 10l.94 2.06.94-2.06 2.06-.94-2.06-.94-.94-2.06-.94 2.06-2.06.94z\"/><path d=\"M17.41 7.96l-1.37-1.37c-.4-.4-.92-.59-1.43-.59-.52 0-1.04.2-1.43.59L10.3 9.45l-7.72 7.72c-.78.78-.78 2.05 0 2.83L4 21.41c.39.39.9.59 1.41.59.51 0 1.02-.2 1.41-.59l7.78-7.78 2.81-2.81c.8-.78.8-2.07 0-2.86zM5.41 20L4 18.59l7.72-7.72 1.47 1.35L5.41 20z\"/>\n",
              "  </svg>\n",
              "      </button>\n",
              "      \n",
              "  <style>\n",
              "    .colab-df-container {\n",
              "      display:flex;\n",
              "      flex-wrap:wrap;\n",
              "      gap: 12px;\n",
              "    }\n",
              "\n",
              "    .colab-df-convert {\n",
              "      background-color: #E8F0FE;\n",
              "      border: none;\n",
              "      border-radius: 50%;\n",
              "      cursor: pointer;\n",
              "      display: none;\n",
              "      fill: #1967D2;\n",
              "      height: 32px;\n",
              "      padding: 0 0 0 0;\n",
              "      width: 32px;\n",
              "    }\n",
              "\n",
              "    .colab-df-convert:hover {\n",
              "      background-color: #E2EBFA;\n",
              "      box-shadow: 0px 1px 2px rgba(60, 64, 67, 0.3), 0px 1px 3px 1px rgba(60, 64, 67, 0.15);\n",
              "      fill: #174EA6;\n",
              "    }\n",
              "\n",
              "    [theme=dark] .colab-df-convert {\n",
              "      background-color: #3B4455;\n",
              "      fill: #D2E3FC;\n",
              "    }\n",
              "\n",
              "    [theme=dark] .colab-df-convert:hover {\n",
              "      background-color: #434B5C;\n",
              "      box-shadow: 0px 1px 3px 1px rgba(0, 0, 0, 0.15);\n",
              "      filter: drop-shadow(0px 1px 2px rgba(0, 0, 0, 0.3));\n",
              "      fill: #FFFFFF;\n",
              "    }\n",
              "  </style>\n",
              "\n",
              "      <script>\n",
              "        const buttonEl =\n",
              "          document.querySelector('#df-c962dd5c-feb8-43ea-92df-531a2cf9fb0e button.colab-df-convert');\n",
              "        buttonEl.style.display =\n",
              "          google.colab.kernel.accessAllowed ? 'block' : 'none';\n",
              "\n",
              "        async function convertToInteractive(key) {\n",
              "          const element = document.querySelector('#df-c962dd5c-feb8-43ea-92df-531a2cf9fb0e');\n",
              "          const dataTable =\n",
              "            await google.colab.kernel.invokeFunction('convertToInteractive',\n",
              "                                                     [key], {});\n",
              "          if (!dataTable) return;\n",
              "\n",
              "          const docLinkHtml = 'Like what you see? Visit the ' +\n",
              "            '<a target=\"_blank\" href=https://colab.research.google.com/notebooks/data_table.ipynb>data table notebook</a>'\n",
              "            + ' to learn more about interactive tables.';\n",
              "          element.innerHTML = '';\n",
              "          dataTable['output_type'] = 'display_data';\n",
              "          await google.colab.output.renderOutput(dataTable, element);\n",
              "          const docLink = document.createElement('div');\n",
              "          docLink.innerHTML = docLinkHtml;\n",
              "          element.appendChild(docLink);\n",
              "        }\n",
              "      </script>\n",
              "    </div>\n",
              "  </div>\n",
              "  "
            ]
          },
          "metadata": {},
          "execution_count": 51
        }
      ]
    },
    {
      "cell_type": "code",
      "source": [
        "#Using tail() function to see last 5 records\n",
        "telecom.tail()"
      ],
      "metadata": {
        "id": "CKCiR6bnWRSK",
        "colab": {
          "base_uri": "https://localhost:8080/",
          "height": 285
        },
        "outputId": "77b3b026-b3b2-4866-d5c4-25bf581552ed"
      },
      "execution_count": null,
      "outputs": [
        {
          "output_type": "execute_result",
          "data": {
            "text/plain": [
              "     State  Account length  Area code International plan Voice mail plan  \\\n",
              "3328    AZ             192        415                 No             Yes   \n",
              "3329    WV              68        415                 No              No   \n",
              "3330    RI              28        510                 No              No   \n",
              "3331    CT             184        510                Yes              No   \n",
              "3332    TN              74        415                 No             Yes   \n",
              "\n",
              "      Number vmail messages  Total day minutes  Total day calls  \\\n",
              "3328                     36              156.2               77   \n",
              "3329                      0              231.1               57   \n",
              "3330                      0              180.8              109   \n",
              "3331                      0              213.8              105   \n",
              "3332                     25              234.4              113   \n",
              "\n",
              "      Total day charge  Total eve minutes  Total eve calls  Total eve charge  \\\n",
              "3328             26.55              215.5              126             18.32   \n",
              "3329             39.29              153.4               55             13.04   \n",
              "3330             30.74              288.8               58             24.55   \n",
              "3331             36.35              159.6               84             13.57   \n",
              "3332             39.85              265.9               82             22.60   \n",
              "\n",
              "      Total night minutes  Total night calls  Total night charge  \\\n",
              "3328                279.1                 83               12.56   \n",
              "3329                191.3                123                8.61   \n",
              "3330                191.9                 91                8.64   \n",
              "3331                139.2                137                6.26   \n",
              "3332                241.4                 77               10.86   \n",
              "\n",
              "      Total intl minutes  Total intl calls  Total intl charge  \\\n",
              "3328                 9.9                 6               2.67   \n",
              "3329                 9.6                 4               2.59   \n",
              "3330                14.1                 6               3.81   \n",
              "3331                 5.0                10               1.35   \n",
              "3332                13.7                 4               3.70   \n",
              "\n",
              "      Customer service calls  Churn  \n",
              "3328                       2  False  \n",
              "3329                       3  False  \n",
              "3330                       2  False  \n",
              "3331                       2  False  \n",
              "3332                       0  False  "
            ],
            "text/html": [
              "\n",
              "  <div id=\"df-a4209438-aba5-4e4d-840e-028f94aa0aa2\">\n",
              "    <div class=\"colab-df-container\">\n",
              "      <div>\n",
              "<style scoped>\n",
              "    .dataframe tbody tr th:only-of-type {\n",
              "        vertical-align: middle;\n",
              "    }\n",
              "\n",
              "    .dataframe tbody tr th {\n",
              "        vertical-align: top;\n",
              "    }\n",
              "\n",
              "    .dataframe thead th {\n",
              "        text-align: right;\n",
              "    }\n",
              "</style>\n",
              "<table border=\"1\" class=\"dataframe\">\n",
              "  <thead>\n",
              "    <tr style=\"text-align: right;\">\n",
              "      <th></th>\n",
              "      <th>State</th>\n",
              "      <th>Account length</th>\n",
              "      <th>Area code</th>\n",
              "      <th>International plan</th>\n",
              "      <th>Voice mail plan</th>\n",
              "      <th>Number vmail messages</th>\n",
              "      <th>Total day minutes</th>\n",
              "      <th>Total day calls</th>\n",
              "      <th>Total day charge</th>\n",
              "      <th>Total eve minutes</th>\n",
              "      <th>Total eve calls</th>\n",
              "      <th>Total eve charge</th>\n",
              "      <th>Total night minutes</th>\n",
              "      <th>Total night calls</th>\n",
              "      <th>Total night charge</th>\n",
              "      <th>Total intl minutes</th>\n",
              "      <th>Total intl calls</th>\n",
              "      <th>Total intl charge</th>\n",
              "      <th>Customer service calls</th>\n",
              "      <th>Churn</th>\n",
              "    </tr>\n",
              "  </thead>\n",
              "  <tbody>\n",
              "    <tr>\n",
              "      <th>3328</th>\n",
              "      <td>AZ</td>\n",
              "      <td>192</td>\n",
              "      <td>415</td>\n",
              "      <td>No</td>\n",
              "      <td>Yes</td>\n",
              "      <td>36</td>\n",
              "      <td>156.2</td>\n",
              "      <td>77</td>\n",
              "      <td>26.55</td>\n",
              "      <td>215.5</td>\n",
              "      <td>126</td>\n",
              "      <td>18.32</td>\n",
              "      <td>279.1</td>\n",
              "      <td>83</td>\n",
              "      <td>12.56</td>\n",
              "      <td>9.9</td>\n",
              "      <td>6</td>\n",
              "      <td>2.67</td>\n",
              "      <td>2</td>\n",
              "      <td>False</td>\n",
              "    </tr>\n",
              "    <tr>\n",
              "      <th>3329</th>\n",
              "      <td>WV</td>\n",
              "      <td>68</td>\n",
              "      <td>415</td>\n",
              "      <td>No</td>\n",
              "      <td>No</td>\n",
              "      <td>0</td>\n",
              "      <td>231.1</td>\n",
              "      <td>57</td>\n",
              "      <td>39.29</td>\n",
              "      <td>153.4</td>\n",
              "      <td>55</td>\n",
              "      <td>13.04</td>\n",
              "      <td>191.3</td>\n",
              "      <td>123</td>\n",
              "      <td>8.61</td>\n",
              "      <td>9.6</td>\n",
              "      <td>4</td>\n",
              "      <td>2.59</td>\n",
              "      <td>3</td>\n",
              "      <td>False</td>\n",
              "    </tr>\n",
              "    <tr>\n",
              "      <th>3330</th>\n",
              "      <td>RI</td>\n",
              "      <td>28</td>\n",
              "      <td>510</td>\n",
              "      <td>No</td>\n",
              "      <td>No</td>\n",
              "      <td>0</td>\n",
              "      <td>180.8</td>\n",
              "      <td>109</td>\n",
              "      <td>30.74</td>\n",
              "      <td>288.8</td>\n",
              "      <td>58</td>\n",
              "      <td>24.55</td>\n",
              "      <td>191.9</td>\n",
              "      <td>91</td>\n",
              "      <td>8.64</td>\n",
              "      <td>14.1</td>\n",
              "      <td>6</td>\n",
              "      <td>3.81</td>\n",
              "      <td>2</td>\n",
              "      <td>False</td>\n",
              "    </tr>\n",
              "    <tr>\n",
              "      <th>3331</th>\n",
              "      <td>CT</td>\n",
              "      <td>184</td>\n",
              "      <td>510</td>\n",
              "      <td>Yes</td>\n",
              "      <td>No</td>\n",
              "      <td>0</td>\n",
              "      <td>213.8</td>\n",
              "      <td>105</td>\n",
              "      <td>36.35</td>\n",
              "      <td>159.6</td>\n",
              "      <td>84</td>\n",
              "      <td>13.57</td>\n",
              "      <td>139.2</td>\n",
              "      <td>137</td>\n",
              "      <td>6.26</td>\n",
              "      <td>5.0</td>\n",
              "      <td>10</td>\n",
              "      <td>1.35</td>\n",
              "      <td>2</td>\n",
              "      <td>False</td>\n",
              "    </tr>\n",
              "    <tr>\n",
              "      <th>3332</th>\n",
              "      <td>TN</td>\n",
              "      <td>74</td>\n",
              "      <td>415</td>\n",
              "      <td>No</td>\n",
              "      <td>Yes</td>\n",
              "      <td>25</td>\n",
              "      <td>234.4</td>\n",
              "      <td>113</td>\n",
              "      <td>39.85</td>\n",
              "      <td>265.9</td>\n",
              "      <td>82</td>\n",
              "      <td>22.60</td>\n",
              "      <td>241.4</td>\n",
              "      <td>77</td>\n",
              "      <td>10.86</td>\n",
              "      <td>13.7</td>\n",
              "      <td>4</td>\n",
              "      <td>3.70</td>\n",
              "      <td>0</td>\n",
              "      <td>False</td>\n",
              "    </tr>\n",
              "  </tbody>\n",
              "</table>\n",
              "</div>\n",
              "      <button class=\"colab-df-convert\" onclick=\"convertToInteractive('df-a4209438-aba5-4e4d-840e-028f94aa0aa2')\"\n",
              "              title=\"Convert this dataframe to an interactive table.\"\n",
              "              style=\"display:none;\">\n",
              "        \n",
              "  <svg xmlns=\"http://www.w3.org/2000/svg\" height=\"24px\"viewBox=\"0 0 24 24\"\n",
              "       width=\"24px\">\n",
              "    <path d=\"M0 0h24v24H0V0z\" fill=\"none\"/>\n",
              "    <path d=\"M18.56 5.44l.94 2.06.94-2.06 2.06-.94-2.06-.94-.94-2.06-.94 2.06-2.06.94zm-11 1L8.5 8.5l.94-2.06 2.06-.94-2.06-.94L8.5 2.5l-.94 2.06-2.06.94zm10 10l.94 2.06.94-2.06 2.06-.94-2.06-.94-.94-2.06-.94 2.06-2.06.94z\"/><path d=\"M17.41 7.96l-1.37-1.37c-.4-.4-.92-.59-1.43-.59-.52 0-1.04.2-1.43.59L10.3 9.45l-7.72 7.72c-.78.78-.78 2.05 0 2.83L4 21.41c.39.39.9.59 1.41.59.51 0 1.02-.2 1.41-.59l7.78-7.78 2.81-2.81c.8-.78.8-2.07 0-2.86zM5.41 20L4 18.59l7.72-7.72 1.47 1.35L5.41 20z\"/>\n",
              "  </svg>\n",
              "      </button>\n",
              "      \n",
              "  <style>\n",
              "    .colab-df-container {\n",
              "      display:flex;\n",
              "      flex-wrap:wrap;\n",
              "      gap: 12px;\n",
              "    }\n",
              "\n",
              "    .colab-df-convert {\n",
              "      background-color: #E8F0FE;\n",
              "      border: none;\n",
              "      border-radius: 50%;\n",
              "      cursor: pointer;\n",
              "      display: none;\n",
              "      fill: #1967D2;\n",
              "      height: 32px;\n",
              "      padding: 0 0 0 0;\n",
              "      width: 32px;\n",
              "    }\n",
              "\n",
              "    .colab-df-convert:hover {\n",
              "      background-color: #E2EBFA;\n",
              "      box-shadow: 0px 1px 2px rgba(60, 64, 67, 0.3), 0px 1px 3px 1px rgba(60, 64, 67, 0.15);\n",
              "      fill: #174EA6;\n",
              "    }\n",
              "\n",
              "    [theme=dark] .colab-df-convert {\n",
              "      background-color: #3B4455;\n",
              "      fill: #D2E3FC;\n",
              "    }\n",
              "\n",
              "    [theme=dark] .colab-df-convert:hover {\n",
              "      background-color: #434B5C;\n",
              "      box-shadow: 0px 1px 3px 1px rgba(0, 0, 0, 0.15);\n",
              "      filter: drop-shadow(0px 1px 2px rgba(0, 0, 0, 0.3));\n",
              "      fill: #FFFFFF;\n",
              "    }\n",
              "  </style>\n",
              "\n",
              "      <script>\n",
              "        const buttonEl =\n",
              "          document.querySelector('#df-a4209438-aba5-4e4d-840e-028f94aa0aa2 button.colab-df-convert');\n",
              "        buttonEl.style.display =\n",
              "          google.colab.kernel.accessAllowed ? 'block' : 'none';\n",
              "\n",
              "        async function convertToInteractive(key) {\n",
              "          const element = document.querySelector('#df-a4209438-aba5-4e4d-840e-028f94aa0aa2');\n",
              "          const dataTable =\n",
              "            await google.colab.kernel.invokeFunction('convertToInteractive',\n",
              "                                                     [key], {});\n",
              "          if (!dataTable) return;\n",
              "\n",
              "          const docLinkHtml = 'Like what you see? Visit the ' +\n",
              "            '<a target=\"_blank\" href=https://colab.research.google.com/notebooks/data_table.ipynb>data table notebook</a>'\n",
              "            + ' to learn more about interactive tables.';\n",
              "          element.innerHTML = '';\n",
              "          dataTable['output_type'] = 'display_data';\n",
              "          await google.colab.output.renderOutput(dataTable, element);\n",
              "          const docLink = document.createElement('div');\n",
              "          docLink.innerHTML = docLinkHtml;\n",
              "          element.appendChild(docLink);\n",
              "        }\n",
              "      </script>\n",
              "    </div>\n",
              "  </div>\n",
              "  "
            ]
          },
          "metadata": {},
          "execution_count": 52
        }
      ]
    },
    {
      "cell_type": "markdown",
      "source": [
        "# **From the shape attribute, we can see the shape of the data i.e number of records and number of columns in the dataframe.**"
      ],
      "metadata": {
        "id": "wAbcUaQQZ2t4"
      }
    },
    {
      "cell_type": "code",
      "source": [
        "#shape of the dataframe\n",
        "telecom.shape"
      ],
      "metadata": {
        "id": "tZ7lipl8XLo3",
        "colab": {
          "base_uri": "https://localhost:8080/"
        },
        "outputId": "ef6e9d46-d9e4-44f6-9170-9ef95f56f84d"
      },
      "execution_count": null,
      "outputs": [
        {
          "output_type": "execute_result",
          "data": {
            "text/plain": [
              "(3333, 20)"
            ]
          },
          "metadata": {},
          "execution_count": 53
        }
      ]
    },
    {
      "cell_type": "code",
      "source": [
        "#Printing number of rows and coloumns present in dataframe\n",
        "print (\"Rows     : \" ,telecom.shape[0])\n",
        "print (\"Columns  : \" ,telecom.shape[1])"
      ],
      "metadata": {
        "id": "xf6A2ocAiFs1",
        "colab": {
          "base_uri": "https://localhost:8080/"
        },
        "outputId": "a119b034-7c7a-4ac9-ffa2-b579237f717d"
      },
      "execution_count": null,
      "outputs": [
        {
          "output_type": "stream",
          "name": "stdout",
          "text": [
            "Rows     :  3333\n",
            "Columns  :  20\n"
          ]
        }
      ]
    },
    {
      "cell_type": "markdown",
      "source": [
        "# **Let’s see the columns(features) in our telecom dataframe.**"
      ],
      "metadata": {
        "id": "GJi_FRbiZMjT"
      }
    },
    {
      "cell_type": "code",
      "source": [
        "#columns of the dataframe\n",
        "telecom.columns"
      ],
      "metadata": {
        "id": "Rxe5ZSwbPSAv",
        "colab": {
          "base_uri": "https://localhost:8080/"
        },
        "outputId": "2d72b6fe-02a0-4084-c47a-fb6225d3a14c"
      },
      "execution_count": null,
      "outputs": [
        {
          "output_type": "execute_result",
          "data": {
            "text/plain": [
              "Index(['State', 'Account length', 'Area code', 'International plan',\n",
              "       'Voice mail plan', 'Number vmail messages', 'Total day minutes',\n",
              "       'Total day calls', 'Total day charge', 'Total eve minutes',\n",
              "       'Total eve calls', 'Total eve charge', 'Total night minutes',\n",
              "       'Total night calls', 'Total night charge', 'Total intl minutes',\n",
              "       'Total intl calls', 'Total intl charge', 'Customer service calls',\n",
              "       'Churn'],\n",
              "      dtype='object')"
            ]
          },
          "metadata": {},
          "execution_count": 55
        }
      ]
    },
    {
      "cell_type": "code",
      "source": [
        "#Printing the list of columns(features) in dataframe\n",
        "print(\"Features: \\n\" ,telecom.columns.tolist())"
      ],
      "metadata": {
        "id": "kmWdW4ngnQ5U",
        "colab": {
          "base_uri": "https://localhost:8080/"
        },
        "outputId": "6de1e66d-c18f-4b60-db28-a24579c02e18"
      },
      "execution_count": null,
      "outputs": [
        {
          "output_type": "stream",
          "name": "stdout",
          "text": [
            "Features: \n",
            " ['State', 'Account length', 'Area code', 'International plan', 'Voice mail plan', 'Number vmail messages', 'Total day minutes', 'Total day calls', 'Total day charge', 'Total eve minutes', 'Total eve calls', 'Total eve charge', 'Total night minutes', 'Total night calls', 'Total night charge', 'Total intl minutes', 'Total intl calls', 'Total intl charge', 'Customer service calls', 'Churn']\n"
          ]
        }
      ]
    },
    {
      "cell_type": "code",
      "source": [
        "#Checking for the unique values in each column\n",
        "print (\"Unique values :\\n\",telecom.nunique())"
      ],
      "metadata": {
        "id": "L-kAEJFXpX32",
        "colab": {
          "base_uri": "https://localhost:8080/"
        },
        "outputId": "065b9d86-13ba-4b44-d394-01b1dcabc856"
      },
      "execution_count": null,
      "outputs": [
        {
          "output_type": "stream",
          "name": "stdout",
          "text": [
            "Unique values :\n",
            " State                       51\n",
            "Account length             212\n",
            "Area code                    3\n",
            "International plan           2\n",
            "Voice mail plan              2\n",
            "Number vmail messages       46\n",
            "Total day minutes         1667\n",
            "Total day calls            119\n",
            "Total day charge          1667\n",
            "Total eve minutes         1611\n",
            "Total eve calls            123\n",
            "Total eve charge          1440\n",
            "Total night minutes       1591\n",
            "Total night calls          120\n",
            "Total night charge         933\n",
            "Total intl minutes         162\n",
            "Total intl calls            21\n",
            "Total intl charge          162\n",
            "Customer service calls      10\n",
            "Churn                        2\n",
            "dtype: int64\n"
          ]
        }
      ]
    },
    {
      "cell_type": "markdown",
      "source": [
        "### From above we can see that there are 51 unique states and 3 unique area code."
      ],
      "metadata": {
        "id": "bGzp8qkgqjOR"
      }
    },
    {
      "cell_type": "code",
      "source": [
        "#Unique states in dataframe\n",
        "print(\"Unique States: \\n\",telecom['State'].unique())"
      ],
      "metadata": {
        "id": "j23PLnl4kBji",
        "colab": {
          "base_uri": "https://localhost:8080/"
        },
        "outputId": "6b8ae388-86ea-47bf-9729-df10a4c7a1fd"
      },
      "execution_count": null,
      "outputs": [
        {
          "output_type": "stream",
          "name": "stdout",
          "text": [
            "Unique States: \n",
            " ['KS' 'OH' 'NJ' 'OK' 'AL' 'MA' 'MO' 'LA' 'WV' 'IN' 'RI' 'IA' 'MT' 'NY'\n",
            " 'ID' 'VT' 'VA' 'TX' 'FL' 'CO' 'AZ' 'SC' 'NE' 'WY' 'HI' 'IL' 'NH' 'GA'\n",
            " 'AK' 'MD' 'AR' 'WI' 'OR' 'MI' 'DE' 'UT' 'CA' 'MN' 'SD' 'NC' 'WA' 'NM'\n",
            " 'NV' 'DC' 'KY' 'ME' 'MS' 'TN' 'PA' 'CT' 'ND']\n"
          ]
        }
      ]
    },
    {
      "cell_type": "code",
      "source": [
        "#Unique Area Codes in dataframe\n",
        "print(\"Unique Area Code : \",telecom['Area code'].unique().tolist())"
      ],
      "metadata": {
        "id": "nlzzBgSNlnlK",
        "colab": {
          "base_uri": "https://localhost:8080/"
        },
        "outputId": "640ef58a-8695-489c-affd-25a36dc2ee2f"
      },
      "execution_count": null,
      "outputs": [
        {
          "output_type": "stream",
          "name": "stdout",
          "text": [
            "Unique Area Code :  [415, 408, 510]\n"
          ]
        }
      ]
    },
    {
      "cell_type": "markdown",
      "source": [
        "# **Using describe() function to generate descriptive statistics of the data.**"
      ],
      "metadata": {
        "id": "JGxnmL1Jc81z"
      }
    },
    {
      "cell_type": "code",
      "source": [
        "#generating descriptive statistics of the data\n",
        "telecom.describe()"
      ],
      "metadata": {
        "id": "jD5UAcvzP1fZ",
        "colab": {
          "base_uri": "https://localhost:8080/",
          "height": 399
        },
        "outputId": "edab46e7-9316-4e56-b4da-86aa4f4dd4c7"
      },
      "execution_count": null,
      "outputs": [
        {
          "output_type": "execute_result",
          "data": {
            "text/plain": [
              "       Account length    Area code  Number vmail messages  Total day minutes  \\\n",
              "count     3333.000000  3333.000000            3333.000000        3333.000000   \n",
              "mean       101.064806   437.182418               8.099010         179.775098   \n",
              "std         39.822106    42.371290              13.688365          54.467389   \n",
              "min          1.000000   408.000000               0.000000           0.000000   \n",
              "25%         74.000000   408.000000               0.000000         143.700000   \n",
              "50%        101.000000   415.000000               0.000000         179.400000   \n",
              "75%        127.000000   510.000000              20.000000         216.400000   \n",
              "max        243.000000   510.000000              51.000000         350.800000   \n",
              "\n",
              "       Total day calls  Total day charge  Total eve minutes  Total eve calls  \\\n",
              "count      3333.000000       3333.000000        3333.000000      3333.000000   \n",
              "mean        100.435644         30.562307         200.980348       100.114311   \n",
              "std          20.069084          9.259435          50.713844        19.922625   \n",
              "min           0.000000          0.000000           0.000000         0.000000   \n",
              "25%          87.000000         24.430000         166.600000        87.000000   \n",
              "50%         101.000000         30.500000         201.400000       100.000000   \n",
              "75%         114.000000         36.790000         235.300000       114.000000   \n",
              "max         165.000000         59.640000         363.700000       170.000000   \n",
              "\n",
              "       Total eve charge  Total night minutes  Total night calls  \\\n",
              "count       3333.000000          3333.000000        3333.000000   \n",
              "mean          17.083540           200.872037         100.107711   \n",
              "std            4.310668            50.573847          19.568609   \n",
              "min            0.000000            23.200000          33.000000   \n",
              "25%           14.160000           167.000000          87.000000   \n",
              "50%           17.120000           201.200000         100.000000   \n",
              "75%           20.000000           235.300000         113.000000   \n",
              "max           30.910000           395.000000         175.000000   \n",
              "\n",
              "       Total night charge  Total intl minutes  Total intl calls  \\\n",
              "count         3333.000000         3333.000000       3333.000000   \n",
              "mean             9.039325           10.237294          4.479448   \n",
              "std              2.275873            2.791840          2.461214   \n",
              "min              1.040000            0.000000          0.000000   \n",
              "25%              7.520000            8.500000          3.000000   \n",
              "50%              9.050000           10.300000          4.000000   \n",
              "75%             10.590000           12.100000          6.000000   \n",
              "max             17.770000           20.000000         20.000000   \n",
              "\n",
              "       Total intl charge  Customer service calls  \n",
              "count        3333.000000             3333.000000  \n",
              "mean            2.764581                1.562856  \n",
              "std             0.753773                1.315491  \n",
              "min             0.000000                0.000000  \n",
              "25%             2.300000                1.000000  \n",
              "50%             2.780000                1.000000  \n",
              "75%             3.270000                2.000000  \n",
              "max             5.400000                9.000000  "
            ],
            "text/html": [
              "\n",
              "  <div id=\"df-1ccb2651-500a-4ce4-b6b9-05aad9b46a18\">\n",
              "    <div class=\"colab-df-container\">\n",
              "      <div>\n",
              "<style scoped>\n",
              "    .dataframe tbody tr th:only-of-type {\n",
              "        vertical-align: middle;\n",
              "    }\n",
              "\n",
              "    .dataframe tbody tr th {\n",
              "        vertical-align: top;\n",
              "    }\n",
              "\n",
              "    .dataframe thead th {\n",
              "        text-align: right;\n",
              "    }\n",
              "</style>\n",
              "<table border=\"1\" class=\"dataframe\">\n",
              "  <thead>\n",
              "    <tr style=\"text-align: right;\">\n",
              "      <th></th>\n",
              "      <th>Account length</th>\n",
              "      <th>Area code</th>\n",
              "      <th>Number vmail messages</th>\n",
              "      <th>Total day minutes</th>\n",
              "      <th>Total day calls</th>\n",
              "      <th>Total day charge</th>\n",
              "      <th>Total eve minutes</th>\n",
              "      <th>Total eve calls</th>\n",
              "      <th>Total eve charge</th>\n",
              "      <th>Total night minutes</th>\n",
              "      <th>Total night calls</th>\n",
              "      <th>Total night charge</th>\n",
              "      <th>Total intl minutes</th>\n",
              "      <th>Total intl calls</th>\n",
              "      <th>Total intl charge</th>\n",
              "      <th>Customer service calls</th>\n",
              "    </tr>\n",
              "  </thead>\n",
              "  <tbody>\n",
              "    <tr>\n",
              "      <th>count</th>\n",
              "      <td>3333.000000</td>\n",
              "      <td>3333.000000</td>\n",
              "      <td>3333.000000</td>\n",
              "      <td>3333.000000</td>\n",
              "      <td>3333.000000</td>\n",
              "      <td>3333.000000</td>\n",
              "      <td>3333.000000</td>\n",
              "      <td>3333.000000</td>\n",
              "      <td>3333.000000</td>\n",
              "      <td>3333.000000</td>\n",
              "      <td>3333.000000</td>\n",
              "      <td>3333.000000</td>\n",
              "      <td>3333.000000</td>\n",
              "      <td>3333.000000</td>\n",
              "      <td>3333.000000</td>\n",
              "      <td>3333.000000</td>\n",
              "    </tr>\n",
              "    <tr>\n",
              "      <th>mean</th>\n",
              "      <td>101.064806</td>\n",
              "      <td>437.182418</td>\n",
              "      <td>8.099010</td>\n",
              "      <td>179.775098</td>\n",
              "      <td>100.435644</td>\n",
              "      <td>30.562307</td>\n",
              "      <td>200.980348</td>\n",
              "      <td>100.114311</td>\n",
              "      <td>17.083540</td>\n",
              "      <td>200.872037</td>\n",
              "      <td>100.107711</td>\n",
              "      <td>9.039325</td>\n",
              "      <td>10.237294</td>\n",
              "      <td>4.479448</td>\n",
              "      <td>2.764581</td>\n",
              "      <td>1.562856</td>\n",
              "    </tr>\n",
              "    <tr>\n",
              "      <th>std</th>\n",
              "      <td>39.822106</td>\n",
              "      <td>42.371290</td>\n",
              "      <td>13.688365</td>\n",
              "      <td>54.467389</td>\n",
              "      <td>20.069084</td>\n",
              "      <td>9.259435</td>\n",
              "      <td>50.713844</td>\n",
              "      <td>19.922625</td>\n",
              "      <td>4.310668</td>\n",
              "      <td>50.573847</td>\n",
              "      <td>19.568609</td>\n",
              "      <td>2.275873</td>\n",
              "      <td>2.791840</td>\n",
              "      <td>2.461214</td>\n",
              "      <td>0.753773</td>\n",
              "      <td>1.315491</td>\n",
              "    </tr>\n",
              "    <tr>\n",
              "      <th>min</th>\n",
              "      <td>1.000000</td>\n",
              "      <td>408.000000</td>\n",
              "      <td>0.000000</td>\n",
              "      <td>0.000000</td>\n",
              "      <td>0.000000</td>\n",
              "      <td>0.000000</td>\n",
              "      <td>0.000000</td>\n",
              "      <td>0.000000</td>\n",
              "      <td>0.000000</td>\n",
              "      <td>23.200000</td>\n",
              "      <td>33.000000</td>\n",
              "      <td>1.040000</td>\n",
              "      <td>0.000000</td>\n",
              "      <td>0.000000</td>\n",
              "      <td>0.000000</td>\n",
              "      <td>0.000000</td>\n",
              "    </tr>\n",
              "    <tr>\n",
              "      <th>25%</th>\n",
              "      <td>74.000000</td>\n",
              "      <td>408.000000</td>\n",
              "      <td>0.000000</td>\n",
              "      <td>143.700000</td>\n",
              "      <td>87.000000</td>\n",
              "      <td>24.430000</td>\n",
              "      <td>166.600000</td>\n",
              "      <td>87.000000</td>\n",
              "      <td>14.160000</td>\n",
              "      <td>167.000000</td>\n",
              "      <td>87.000000</td>\n",
              "      <td>7.520000</td>\n",
              "      <td>8.500000</td>\n",
              "      <td>3.000000</td>\n",
              "      <td>2.300000</td>\n",
              "      <td>1.000000</td>\n",
              "    </tr>\n",
              "    <tr>\n",
              "      <th>50%</th>\n",
              "      <td>101.000000</td>\n",
              "      <td>415.000000</td>\n",
              "      <td>0.000000</td>\n",
              "      <td>179.400000</td>\n",
              "      <td>101.000000</td>\n",
              "      <td>30.500000</td>\n",
              "      <td>201.400000</td>\n",
              "      <td>100.000000</td>\n",
              "      <td>17.120000</td>\n",
              "      <td>201.200000</td>\n",
              "      <td>100.000000</td>\n",
              "      <td>9.050000</td>\n",
              "      <td>10.300000</td>\n",
              "      <td>4.000000</td>\n",
              "      <td>2.780000</td>\n",
              "      <td>1.000000</td>\n",
              "    </tr>\n",
              "    <tr>\n",
              "      <th>75%</th>\n",
              "      <td>127.000000</td>\n",
              "      <td>510.000000</td>\n",
              "      <td>20.000000</td>\n",
              "      <td>216.400000</td>\n",
              "      <td>114.000000</td>\n",
              "      <td>36.790000</td>\n",
              "      <td>235.300000</td>\n",
              "      <td>114.000000</td>\n",
              "      <td>20.000000</td>\n",
              "      <td>235.300000</td>\n",
              "      <td>113.000000</td>\n",
              "      <td>10.590000</td>\n",
              "      <td>12.100000</td>\n",
              "      <td>6.000000</td>\n",
              "      <td>3.270000</td>\n",
              "      <td>2.000000</td>\n",
              "    </tr>\n",
              "    <tr>\n",
              "      <th>max</th>\n",
              "      <td>243.000000</td>\n",
              "      <td>510.000000</td>\n",
              "      <td>51.000000</td>\n",
              "      <td>350.800000</td>\n",
              "      <td>165.000000</td>\n",
              "      <td>59.640000</td>\n",
              "      <td>363.700000</td>\n",
              "      <td>170.000000</td>\n",
              "      <td>30.910000</td>\n",
              "      <td>395.000000</td>\n",
              "      <td>175.000000</td>\n",
              "      <td>17.770000</td>\n",
              "      <td>20.000000</td>\n",
              "      <td>20.000000</td>\n",
              "      <td>5.400000</td>\n",
              "      <td>9.000000</td>\n",
              "    </tr>\n",
              "  </tbody>\n",
              "</table>\n",
              "</div>\n",
              "      <button class=\"colab-df-convert\" onclick=\"convertToInteractive('df-1ccb2651-500a-4ce4-b6b9-05aad9b46a18')\"\n",
              "              title=\"Convert this dataframe to an interactive table.\"\n",
              "              style=\"display:none;\">\n",
              "        \n",
              "  <svg xmlns=\"http://www.w3.org/2000/svg\" height=\"24px\"viewBox=\"0 0 24 24\"\n",
              "       width=\"24px\">\n",
              "    <path d=\"M0 0h24v24H0V0z\" fill=\"none\"/>\n",
              "    <path d=\"M18.56 5.44l.94 2.06.94-2.06 2.06-.94-2.06-.94-.94-2.06-.94 2.06-2.06.94zm-11 1L8.5 8.5l.94-2.06 2.06-.94-2.06-.94L8.5 2.5l-.94 2.06-2.06.94zm10 10l.94 2.06.94-2.06 2.06-.94-2.06-.94-.94-2.06-.94 2.06-2.06.94z\"/><path d=\"M17.41 7.96l-1.37-1.37c-.4-.4-.92-.59-1.43-.59-.52 0-1.04.2-1.43.59L10.3 9.45l-7.72 7.72c-.78.78-.78 2.05 0 2.83L4 21.41c.39.39.9.59 1.41.59.51 0 1.02-.2 1.41-.59l7.78-7.78 2.81-2.81c.8-.78.8-2.07 0-2.86zM5.41 20L4 18.59l7.72-7.72 1.47 1.35L5.41 20z\"/>\n",
              "  </svg>\n",
              "      </button>\n",
              "      \n",
              "  <style>\n",
              "    .colab-df-container {\n",
              "      display:flex;\n",
              "      flex-wrap:wrap;\n",
              "      gap: 12px;\n",
              "    }\n",
              "\n",
              "    .colab-df-convert {\n",
              "      background-color: #E8F0FE;\n",
              "      border: none;\n",
              "      border-radius: 50%;\n",
              "      cursor: pointer;\n",
              "      display: none;\n",
              "      fill: #1967D2;\n",
              "      height: 32px;\n",
              "      padding: 0 0 0 0;\n",
              "      width: 32px;\n",
              "    }\n",
              "\n",
              "    .colab-df-convert:hover {\n",
              "      background-color: #E2EBFA;\n",
              "      box-shadow: 0px 1px 2px rgba(60, 64, 67, 0.3), 0px 1px 3px 1px rgba(60, 64, 67, 0.15);\n",
              "      fill: #174EA6;\n",
              "    }\n",
              "\n",
              "    [theme=dark] .colab-df-convert {\n",
              "      background-color: #3B4455;\n",
              "      fill: #D2E3FC;\n",
              "    }\n",
              "\n",
              "    [theme=dark] .colab-df-convert:hover {\n",
              "      background-color: #434B5C;\n",
              "      box-shadow: 0px 1px 3px 1px rgba(0, 0, 0, 0.15);\n",
              "      filter: drop-shadow(0px 1px 2px rgba(0, 0, 0, 0.3));\n",
              "      fill: #FFFFFF;\n",
              "    }\n",
              "  </style>\n",
              "\n",
              "      <script>\n",
              "        const buttonEl =\n",
              "          document.querySelector('#df-1ccb2651-500a-4ce4-b6b9-05aad9b46a18 button.colab-df-convert');\n",
              "        buttonEl.style.display =\n",
              "          google.colab.kernel.accessAllowed ? 'block' : 'none';\n",
              "\n",
              "        async function convertToInteractive(key) {\n",
              "          const element = document.querySelector('#df-1ccb2651-500a-4ce4-b6b9-05aad9b46a18');\n",
              "          const dataTable =\n",
              "            await google.colab.kernel.invokeFunction('convertToInteractive',\n",
              "                                                     [key], {});\n",
              "          if (!dataTable) return;\n",
              "\n",
              "          const docLinkHtml = 'Like what you see? Visit the ' +\n",
              "            '<a target=\"_blank\" href=https://colab.research.google.com/notebooks/data_table.ipynb>data table notebook</a>'\n",
              "            + ' to learn more about interactive tables.';\n",
              "          element.innerHTML = '';\n",
              "          dataTable['output_type'] = 'display_data';\n",
              "          await google.colab.output.renderOutput(dataTable, element);\n",
              "          const docLink = document.createElement('div');\n",
              "          docLink.innerHTML = docLinkHtml;\n",
              "          element.appendChild(docLink);\n",
              "        }\n",
              "      </script>\n",
              "    </div>\n",
              "  </div>\n",
              "  "
            ]
          },
          "metadata": {},
          "execution_count": 60
        }
      ]
    },
    {
      "cell_type": "markdown",
      "source": [
        "Inference:\n",
        "\n",
        "1. Number voice mail messages is ranging from 0 to 51. \n",
        "2. Only 25% of customers are using voice mail messages.\n",
        "3. Average call minutes in evening and night are higher than the average call minutes in day but average day charge is higher than the charge in evening and night.\n",
        "4. Maximum international call minutes are 20 only."
      ],
      "metadata": {
        "id": "0hXxBjnyxGqW"
      }
    },
    {
      "cell_type": "markdown",
      "source": [
        "According to my hypothesis:\n",
        "\n",
        "1. Customers prefer night calls due to lower charges.\n",
        "2. Customers are not prefering international calls due to higher charges.\n",
        "3. Corporation should consider lowering the call rates to increase the total number of calls."
      ],
      "metadata": {
        "id": "kMP1K3Hb4bEz"
      }
    },
    {
      "cell_type": "markdown",
      "source": [
        "# **Getting information about the DataFrame using info() method.**"
      ],
      "metadata": {
        "id": "wBP6ebj0drxL"
      }
    },
    {
      "cell_type": "code",
      "source": [
        "telecom.info()"
      ],
      "metadata": {
        "id": "SWSvSvKrPo8d",
        "colab": {
          "base_uri": "https://localhost:8080/"
        },
        "outputId": "60dbff80-b394-4027-f760-39247e1b016c"
      },
      "execution_count": null,
      "outputs": [
        {
          "output_type": "stream",
          "name": "stdout",
          "text": [
            "<class 'pandas.core.frame.DataFrame'>\n",
            "RangeIndex: 3333 entries, 0 to 3332\n",
            "Data columns (total 20 columns):\n",
            " #   Column                  Non-Null Count  Dtype  \n",
            "---  ------                  --------------  -----  \n",
            " 0   State                   3333 non-null   object \n",
            " 1   Account length          3333 non-null   int64  \n",
            " 2   Area code               3333 non-null   int64  \n",
            " 3   International plan      3333 non-null   object \n",
            " 4   Voice mail plan         3333 non-null   object \n",
            " 5   Number vmail messages   3333 non-null   int64  \n",
            " 6   Total day minutes       3333 non-null   float64\n",
            " 7   Total day calls         3333 non-null   int64  \n",
            " 8   Total day charge        3333 non-null   float64\n",
            " 9   Total eve minutes       3333 non-null   float64\n",
            " 10  Total eve calls         3333 non-null   int64  \n",
            " 11  Total eve charge        3333 non-null   float64\n",
            " 12  Total night minutes     3333 non-null   float64\n",
            " 13  Total night calls       3333 non-null   int64  \n",
            " 14  Total night charge      3333 non-null   float64\n",
            " 15  Total intl minutes      3333 non-null   float64\n",
            " 16  Total intl calls        3333 non-null   int64  \n",
            " 17  Total intl charge       3333 non-null   float64\n",
            " 18  Customer service calls  3333 non-null   int64  \n",
            " 19  Churn                   3333 non-null   bool   \n",
            "dtypes: bool(1), float64(8), int64(8), object(3)\n",
            "memory usage: 498.1+ KB\n"
          ]
        }
      ]
    },
    {
      "cell_type": "code",
      "source": [
        "#Printing number of null(missing) values\n",
        "print(\"Missing values :  \", telecom.isnull().sum().values.sum())"
      ],
      "metadata": {
        "id": "1aj_HsELABtL",
        "colab": {
          "base_uri": "https://localhost:8080/"
        },
        "outputId": "f2c9af2e-12d5-4ea4-944e-e95c5b0aa11b"
      },
      "execution_count": null,
      "outputs": [
        {
          "output_type": "stream",
          "name": "stdout",
          "text": [
            "Missing values :   0\n"
          ]
        }
      ]
    },
    {
      "cell_type": "markdown",
      "source": [
        "### From above we can see that there is no null(missing) value in our dataframe."
      ],
      "metadata": {
        "id": "RNlLe8KhAHkk"
      }
    },
    {
      "cell_type": "markdown",
      "source": [
        "# **Variable Breakdown**\n",
        "\n",
        "**STATE:** 51 Unique States.\n",
        "\n",
        "**Account Length:** Length of the account\n",
        "\n",
        "\n",
        "**Area Code:** 415 relates to San Francisco, 408 is of San Jose and 510 is of City of Oakland.\n",
        "\n",
        "\n",
        "**International Plan:** 'Yes' indicates International Plan is present and 'No' indicates no subscription for International Plan.\n",
        "\n",
        "\n",
        "**Voice Mail Plan:** 'Yes' indicates Voice Mail Plan is present and 'No' indicates no subscription for Voice Mail Plan.\n",
        "\n",
        "\n",
        "**Number vmail messages:** Number of Voice Mail Messages ranging from 0 to 51.\n",
        "\n",
        "\n",
        "**Total day minutes:** Total number of Minutes spent by customers in morning.\n",
        "\n",
        "\n",
        "**Total day calls:** Total number of Calls made by customer in morning.\n",
        "\n",
        "\n",
        "**Total day charge:** Total charge to the customers in morning.\n",
        "\n",
        "\n",
        "**Total eve minutes:** Total number of Minutes spent by customers in evening.\n",
        "\n",
        "\n",
        "**Total eve calls:** Total number of Calls made by customer in evening.\n",
        "\n",
        "\n",
        "**Total eve charge:** Total Charge to the customers in morning.\n",
        "\n",
        "\n",
        "**Total night minutes:** Total number of Minutes spent by customers in the night.\n",
        "\n",
        "\n",
        "**Total night calls:** Total number of Calls made by customer in night.\n",
        "\n",
        "\n",
        "**Total night charge:** Total Charge to the customers in night.\n",
        "\n",
        "**Total intl minutes:** Total number of Minutes spent by customers for International Calls.\n",
        "\n",
        "**Total intl calls:** Total number of International Calls.\n",
        "\n",
        "**Total intl charge:** Total Charge to the customers for International Calls.\n",
        "\n",
        "**Customer service calls:** Total number of Customer Service Calls.\n",
        "\n",
        "**Churn:** Target Variable"
      ],
      "metadata": {
        "id": "o0yHxvFGgfS7"
      }
    },
    {
      "cell_type": "markdown",
      "source": [
        "# **Checking the Churn Rate**"
      ],
      "metadata": {
        "id": "0j72wwf44ump"
      }
    },
    {
      "cell_type": "code",
      "source": [
        "#setting figure size\n",
        "fig = plt.figure(figsize=(6,6))\n",
        "\n",
        "#define Seaborn color palette to use\n",
        "colors = sns.color_palette('bright')[7:10]\n",
        "\n",
        "#create pie chart\n",
        "plt.pie(telecom['Churn'].value_counts(), labels = telecom['Churn'].value_counts().keys().tolist(), colors = colors, autopct='%.0f%%')\n",
        "plt.title(\"Customer attrition in data\", fontsize= 15)\n",
        "plt.show()"
      ],
      "metadata": {
        "colab": {
          "base_uri": "https://localhost:8080/",
          "height": 375
        },
        "id": "ga9XeuTgZOR-",
        "outputId": "62abd168-cb3e-4f5a-a1de-70808b9393f7"
      },
      "execution_count": null,
      "outputs": [
        {
          "output_type": "display_data",
          "data": {
            "text/plain": [
              "<Figure size 432x432 with 1 Axes>"
            ],
            "image/png": "[encoded data removed]"
          },
          "metadata": {}
        }
      ]
    },
    {
      "cell_type": "code",
      "source": [
        "# bar chart to display churn rate\n",
        "telecom['Churn'].value_counts().plot(kind='bar', figsize=(8, 6))\n",
        "plt.xlabel(\"Count\", labelpad=14, fontsize = 12)\n",
        "plt.ylabel(\"Target Variable\", labelpad=14, fontsize = 12)\n",
        "plt.title(\"Customer attrition in data\", fontsize = 15)\n",
        "plt.show()"
      ],
      "metadata": {
        "id": "9LZhphSp1iim",
        "colab": {
          "base_uri": "https://localhost:8080/",
          "height": 434
        },
        "outputId": "17667cf7-4ea9-4816-df72-0f31d18d3477"
      },
      "execution_count": null,
      "outputs": [
        {
          "output_type": "display_data",
          "data": {
            "text/plain": [
              "<Figure size 576x432 with 1 Axes>"
            ],
            "image/png": "[encoded data removed]"
          },
          "metadata": {
            "needs_background": "light"
          }
        }
      ]
    },
    {
      "cell_type": "code",
      "source": [
        "#Let’s see the value count of our target variable\n",
        "telecom['Churn'].value_counts()"
      ],
      "metadata": {
        "id": "yrNySjrd4M11",
        "colab": {
          "base_uri": "https://localhost:8080/"
        },
        "outputId": "0590bd92-08f6-4713-c5b0-b9b6d77e7cf0"
      },
      "execution_count": null,
      "outputs": [
        {
          "output_type": "execute_result",
          "data": {
            "text/plain": [
              "False    2850\n",
              "True      483\n",
              "Name: Churn, dtype: int64"
            ]
          },
          "metadata": {},
          "execution_count": 65
        }
      ]
    },
    {
      "cell_type": "markdown",
      "source": [
        "Inference:\n",
        "\n",
        "1. From above observation, we can conclude that our dataset is not balanced i.e. True is 483(~14%) and False is 2850 ( ~86%).\n",
        "\n",
        "2. So we will analyze the data with other features while taking the target values separately to get some insights.\n",
        "\n",
        "3. Analysis shows that churn rate of the telecom company is 14%."
      ],
      "metadata": {
        "id": "TYmpfpNh53GM"
      }
    },
    {
      "cell_type": "code",
      "source": [
        "#making copy of original dataframe to do further analysis\n",
        "telecom_data = telecom.copy()\n",
        "\n",
        "#Dropping Account Length as it doesn't make a sense here\n",
        "telecom_data = telecom_data.drop('Account length',axis=1)\n",
        "telecom_data.head()"
      ],
      "metadata": {
        "id": "o42GUAjl7Bpe",
        "colab": {
          "base_uri": "https://localhost:8080/",
          "height": 285
        },
        "outputId": "a48593b8-4dfa-46bb-c3ed-ff2f3eeb03ab"
      },
      "execution_count": null,
      "outputs": [
        {
          "output_type": "execute_result",
          "data": {
            "text/plain": [
              "  State  Area code International plan Voice mail plan  Number vmail messages  \\\n",
              "0    KS        415                 No             Yes                     25   \n",
              "1    OH        415                 No             Yes                     26   \n",
              "2    NJ        415                 No              No                      0   \n",
              "3    OH        408                Yes              No                      0   \n",
              "4    OK        415                Yes              No                      0   \n",
              "\n",
              "   Total day minutes  Total day calls  Total day charge  Total eve minutes  \\\n",
              "0              265.1              110             45.07              197.4   \n",
              "1              161.6              123             27.47              195.5   \n",
              "2              243.4              114             41.38              121.2   \n",
              "3              299.4               71             50.90               61.9   \n",
              "4              166.7              113             28.34              148.3   \n",
              "\n",
              "   Total eve calls  Total eve charge  Total night minutes  Total night calls  \\\n",
              "0               99             16.78                244.7                 91   \n",
              "1              103             16.62                254.4                103   \n",
              "2              110             10.30                162.6                104   \n",
              "3               88              5.26                196.9                 89   \n",
              "4              122             12.61                186.9                121   \n",
              "\n",
              "   Total night charge  Total intl minutes  Total intl calls  \\\n",
              "0               11.01                10.0                 3   \n",
              "1               11.45                13.7                 3   \n",
              "2                7.32                12.2                 5   \n",
              "3                8.86                 6.6                 7   \n",
              "4                8.41                10.1                 3   \n",
              "\n",
              "   Total intl charge  Customer service calls  Churn  \n",
              "0               2.70                       1  False  \n",
              "1               3.70                       1  False  \n",
              "2               3.29                       0  False  \n",
              "3               1.78                       2  False  \n",
              "4               2.73                       3  False  "
            ],
            "text/html": [
              "\n",
              "  <div id=\"df-da5d7d86-a24b-4a54-ac8a-135e90706789\">\n",
              "    <div class=\"colab-df-container\">\n",
              "      <div>\n",
              "<style scoped>\n",
              "    .dataframe tbody tr th:only-of-type {\n",
              "        vertical-align: middle;\n",
              "    }\n",
              "\n",
              "    .dataframe tbody tr th {\n",
              "        vertical-align: top;\n",
              "    }\n",
              "\n",
              "    .dataframe thead th {\n",
              "        text-align: right;\n",
              "    }\n",
              "</style>\n",
              "<table border=\"1\" class=\"dataframe\">\n",
              "  <thead>\n",
              "    <tr style=\"text-align: right;\">\n",
              "      <th></th>\n",
              "      <th>State</th>\n",
              "      <th>Area code</th>\n",
              "      <th>International plan</th>\n",
              "      <th>Voice mail plan</th>\n",
              "      <th>Number vmail messages</th>\n",
              "      <th>Total day minutes</th>\n",
              "      <th>Total day calls</th>\n",
              "      <th>Total day charge</th>\n",
              "      <th>Total eve minutes</th>\n",
              "      <th>Total eve calls</th>\n",
              "      <th>Total eve charge</th>\n",
              "      <th>Total night minutes</th>\n",
              "      <th>Total night calls</th>\n",
              "      <th>Total night charge</th>\n",
              "      <th>Total intl minutes</th>\n",
              "      <th>Total intl calls</th>\n",
              "      <th>Total intl charge</th>\n",
              "      <th>Customer service calls</th>\n",
              "      <th>Churn</th>\n",
              "    </tr>\n",
              "  </thead>\n",
              "  <tbody>\n",
              "    <tr>\n",
              "      <th>0</th>\n",
              "      <td>KS</td>\n",
              "      <td>415</td>\n",
              "      <td>No</td>\n",
              "      <td>Yes</td>\n",
              "      <td>25</td>\n",
              "      <td>265.1</td>\n",
              "      <td>110</td>\n",
              "      <td>45.07</td>\n",
              "      <td>197.4</td>\n",
              "      <td>99</td>\n",
              "      <td>16.78</td>\n",
              "      <td>244.7</td>\n",
              "      <td>91</td>\n",
              "      <td>11.01</td>\n",
              "      <td>10.0</td>\n",
              "      <td>3</td>\n",
              "      <td>2.70</td>\n",
              "      <td>1</td>\n",
              "      <td>False</td>\n",
              "    </tr>\n",
              "    <tr>\n",
              "      <th>1</th>\n",
              "      <td>OH</td>\n",
              "      <td>415</td>\n",
              "      <td>No</td>\n",
              "      <td>Yes</td>\n",
              "      <td>26</td>\n",
              "      <td>161.6</td>\n",
              "      <td>123</td>\n",
              "      <td>27.47</td>\n",
              "      <td>195.5</td>\n",
              "      <td>103</td>\n",
              "      <td>16.62</td>\n",
              "      <td>254.4</td>\n",
              "      <td>103</td>\n",
              "      <td>11.45</td>\n",
              "      <td>13.7</td>\n",
              "      <td>3</td>\n",
              "      <td>3.70</td>\n",
              "      <td>1</td>\n",
              "      <td>False</td>\n",
              "    </tr>\n",
              "    <tr>\n",
              "      <th>2</th>\n",
              "      <td>NJ</td>\n",
              "      <td>415</td>\n",
              "      <td>No</td>\n",
              "      <td>No</td>\n",
              "      <td>0</td>\n",
              "      <td>243.4</td>\n",
              "      <td>114</td>\n",
              "      <td>41.38</td>\n",
              "      <td>121.2</td>\n",
              "      <td>110</td>\n",
              "      <td>10.30</td>\n",
              "      <td>162.6</td>\n",
              "      <td>104</td>\n",
              "      <td>7.32</td>\n",
              "      <td>12.2</td>\n",
              "      <td>5</td>\n",
              "      <td>3.29</td>\n",
              "      <td>0</td>\n",
              "      <td>False</td>\n",
              "    </tr>\n",
              "    <tr>\n",
              "      <th>3</th>\n",
              "      <td>OH</td>\n",
              "      <td>408</td>\n",
              "      <td>Yes</td>\n",
              "      <td>No</td>\n",
              "      <td>0</td>\n",
              "      <td>299.4</td>\n",
              "      <td>71</td>\n",
              "      <td>50.90</td>\n",
              "      <td>61.9</td>\n",
              "      <td>88</td>\n",
              "      <td>5.26</td>\n",
              "      <td>196.9</td>\n",
              "      <td>89</td>\n",
              "      <td>8.86</td>\n",
              "      <td>6.6</td>\n",
              "      <td>7</td>\n",
              "      <td>1.78</td>\n",
              "      <td>2</td>\n",
              "      <td>False</td>\n",
              "    </tr>\n",
              "    <tr>\n",
              "      <th>4</th>\n",
              "      <td>OK</td>\n",
              "      <td>415</td>\n",
              "      <td>Yes</td>\n",
              "      <td>No</td>\n",
              "      <td>0</td>\n",
              "      <td>166.7</td>\n",
              "      <td>113</td>\n",
              "      <td>28.34</td>\n",
              "      <td>148.3</td>\n",
              "      <td>122</td>\n",
              "      <td>12.61</td>\n",
              "      <td>186.9</td>\n",
              "      <td>121</td>\n",
              "      <td>8.41</td>\n",
              "      <td>10.1</td>\n",
              "      <td>3</td>\n",
              "      <td>2.73</td>\n",
              "      <td>3</td>\n",
              "      <td>False</td>\n",
              "    </tr>\n",
              "  </tbody>\n",
              "</table>\n",
              "</div>\n",
              "      <button class=\"colab-df-convert\" onclick=\"convertToInteractive('df-da5d7d86-a24b-4a54-ac8a-135e90706789')\"\n",
              "              title=\"Convert this dataframe to an interactive table.\"\n",
              "              style=\"display:none;\">\n",
              "        \n",
              "  <svg xmlns=\"http://www.w3.org/2000/svg\" height=\"24px\"viewBox=\"0 0 24 24\"\n",
              "       width=\"24px\">\n",
              "    <path d=\"M0 0h24v24H0V0z\" fill=\"none\"/>\n",
              "    <path d=\"M18.56 5.44l.94 2.06.94-2.06 2.06-.94-2.06-.94-.94-2.06-.94 2.06-2.06.94zm-11 1L8.5 8.5l.94-2.06 2.06-.94-2.06-.94L8.5 2.5l-.94 2.06-2.06.94zm10 10l.94 2.06.94-2.06 2.06-.94-2.06-.94-.94-2.06-.94 2.06-2.06.94z\"/><path d=\"M17.41 7.96l-1.37-1.37c-.4-.4-.92-.59-1.43-.59-.52 0-1.04.2-1.43.59L10.3 9.45l-7.72 7.72c-.78.78-.78 2.05 0 2.83L4 21.41c.39.39.9.59 1.41.59.51 0 1.02-.2 1.41-.59l7.78-7.78 2.81-2.81c.8-.78.8-2.07 0-2.86zM5.41 20L4 18.59l7.72-7.72 1.47 1.35L5.41 20z\"/>\n",
              "  </svg>\n",
              "      </button>\n",
              "      \n",
              "  <style>\n",
              "    .colab-df-container {\n",
              "      display:flex;\n",
              "      flex-wrap:wrap;\n",
              "      gap: 12px;\n",
              "    }\n",
              "\n",
              "    .colab-df-convert {\n",
              "      background-color: #E8F0FE;\n",
              "      border: none;\n",
              "      border-radius: 50%;\n",
              "      cursor: pointer;\n",
              "      display: none;\n",
              "      fill: #1967D2;\n",
              "      height: 32px;\n",
              "      padding: 0 0 0 0;\n",
              "      width: 32px;\n",
              "    }\n",
              "\n",
              "    .colab-df-convert:hover {\n",
              "      background-color: #E2EBFA;\n",
              "      box-shadow: 0px 1px 2px rgba(60, 64, 67, 0.3), 0px 1px 3px 1px rgba(60, 64, 67, 0.15);\n",
              "      fill: #174EA6;\n",
              "    }\n",
              "\n",
              "    [theme=dark] .colab-df-convert {\n",
              "      background-color: #3B4455;\n",
              "      fill: #D2E3FC;\n",
              "    }\n",
              "\n",
              "    [theme=dark] .colab-df-convert:hover {\n",
              "      background-color: #434B5C;\n",
              "      box-shadow: 0px 1px 3px 1px rgba(0, 0, 0, 0.15);\n",
              "      filter: drop-shadow(0px 1px 2px rgba(0, 0, 0, 0.3));\n",
              "      fill: #FFFFFF;\n",
              "    }\n",
              "  </style>\n",
              "\n",
              "      <script>\n",
              "        const buttonEl =\n",
              "          document.querySelector('#df-da5d7d86-a24b-4a54-ac8a-135e90706789 button.colab-df-convert');\n",
              "        buttonEl.style.display =\n",
              "          google.colab.kernel.accessAllowed ? 'block' : 'none';\n",
              "\n",
              "        async function convertToInteractive(key) {\n",
              "          const element = document.querySelector('#df-da5d7d86-a24b-4a54-ac8a-135e90706789');\n",
              "          const dataTable =\n",
              "            await google.colab.kernel.invokeFunction('convertToInteractive',\n",
              "                                                     [key], {});\n",
              "          if (!dataTable) return;\n",
              "\n",
              "          const docLinkHtml = 'Like what you see? Visit the ' +\n",
              "            '<a target=\"_blank\" href=https://colab.research.google.com/notebooks/data_table.ipynb>data table notebook</a>'\n",
              "            + ' to learn more about interactive tables.';\n",
              "          element.innerHTML = '';\n",
              "          dataTable['output_type'] = 'display_data';\n",
              "          await google.colab.output.renderOutput(dataTable, element);\n",
              "          const docLink = document.createElement('div');\n",
              "          docLink.innerHTML = docLinkHtml;\n",
              "          element.appendChild(docLink);\n",
              "        }\n",
              "      </script>\n",
              "    </div>\n",
              "  </div>\n",
              "  "
            ]
          },
          "metadata": {},
          "execution_count": 66
        }
      ]
    },
    {
      "cell_type": "markdown",
      "source": [
        "# **Churn According to States**"
      ],
      "metadata": {
        "id": "RZZF_9zG_FEX"
      }
    },
    {
      "cell_type": "code",
      "source": [
        "#setting figure size\n",
        "fig = plt.figure(figsize=(22,10))\n",
        "\n",
        "#count plot to display Churn According to States\n",
        "sns.countplot(data=telecom_data, x='State', hue='Churn')\n",
        "plt.xlabel(\"States\", labelpad=14, fontsize = 12)\n",
        "plt.ylabel(\"Count\", labelpad=14, fontsize = 12)\n",
        "plt.title(\"Churn According to States\", fontsize = 15)\n",
        "plt.show()"
      ],
      "metadata": {
        "id": "H3UUoDB8zC-L",
        "colab": {
          "base_uri": "https://localhost:8080/",
          "height": 636
        },
        "outputId": "1803b8eb-33e2-4f3e-8eaf-e848bbab9576"
      },
      "execution_count": null,
      "outputs": [
        {
          "output_type": "display_data",
          "data": {
            "text/plain": [
              "<Figure size 1584x720 with 1 Axes>"
            ],
            "image/png": "[encoded data removed]"
          },
          "metadata": {
            "needs_background": "light"
          }
        }
      ]
    },
    {
      "cell_type": "markdown",
      "source": [
        "Inference:\n",
        "\n",
        "1. New Jersey,Texas and Maryland have a bit more churn rate than usual.\n",
        "\n",
        "According to my hypothesis:\n",
        "\n",
        "1. Due to low network quality, network upgradation is suggested in these areas.\n"
      ],
      "metadata": {
        "id": "YXj-rtTc2DZa"
      }
    },
    {
      "cell_type": "markdown",
      "source": [
        "# **Churn According to Area Code**"
      ],
      "metadata": {
        "id": "cJpFpbTe_JZF"
      }
    },
    {
      "cell_type": "code",
      "source": [
        "#setting figure size\n",
        "fig = plt.figure(figsize=(8,5))\n",
        "\n",
        "#count plot to display Churn According to Area code\n",
        "sns.countplot(data=telecom_data, x='Area code', hue='Churn')\n",
        "plt.xlabel(\"Area code\", labelpad=14, fontsize = 12)\n",
        "plt.ylabel(\"Count\", labelpad=14, fontsize = 12)\n",
        "plt.title(\"Churn According to Area Code\", fontsize = 15)\n",
        "plt.show()"
      ],
      "metadata": {
        "id": "oNwb8Chy4agb",
        "colab": {
          "base_uri": "https://localhost:8080/",
          "height": 365
        },
        "outputId": "76c8b8e7-b8f9-4c17-c009-894cb5594410"
      },
      "execution_count": null,
      "outputs": [
        {
          "output_type": "display_data",
          "data": {
            "text/plain": [
              "<Figure size 576x360 with 1 Axes>"
            ],
            "image/png": "[encoded data removed]"
          },
          "metadata": {
            "needs_background": "light"
          }
        }
      ]
    },
    {
      "cell_type": "markdown",
      "source": [
        "Inference:\n",
        "\n",
        "1. Orange S.A. has more customers in San Francisco  as compared to San Jose and City of Oakland.\n",
        "\n",
        "According to my hypothesis:\n",
        "\n",
        "1. Network upgradation is suggested in San Jose and City of Oakland to increase the customers.\n",
        "\n",
        "\n",
        "\n"
      ],
      "metadata": {
        "id": "lVFZIDFh7ChU"
      }
    },
    {
      "cell_type": "markdown",
      "source": [
        "# **Churn According to International Plan**"
      ],
      "metadata": {
        "id": "fHi1AiwUCbC8"
      }
    },
    {
      "cell_type": "code",
      "source": [
        "#setting figure size\n",
        "fig = plt.figure(figsize=(8,5))\n",
        "\n",
        "#count plot to display Churn According to International Plan\n",
        "sns.countplot(data=telecom_data, x='International plan', hue='Churn')\n",
        "plt.xlabel(\"International Plan\", labelpad=14, fontsize = 12)\n",
        "plt.ylabel(\"Count\", labelpad=14, fontsize = 12)\n",
        "plt.title(\"Churn According to International Plan\", fontsize = 15)\n",
        "plt.show()"
      ],
      "metadata": {
        "id": "RsoxckQgAutR",
        "colab": {
          "base_uri": "https://localhost:8080/",
          "height": 365
        },
        "outputId": "a04c4c6d-e79e-48b6-97db-e31cb8be78f9"
      },
      "execution_count": null,
      "outputs": [
        {
          "output_type": "display_data",
          "data": {
            "text/plain": [
              "<Figure size 576x360 with 1 Axes>"
            ],
            "image/png": "[encoded data removed]"
          },
          "metadata": {
            "needs_background": "light"
          }
        }
      ]
    },
    {
      "cell_type": "markdown",
      "source": [
        "Inference:\n",
        "\n",
        "1. Customers with International plan has more churn rate than customers who are not having International plans.\n",
        "\n",
        "According to my hypothesis:\n",
        "\n",
        "1. Network upgradation is suggested to reduce churn rate."
      ],
      "metadata": {
        "id": "SkSKSp1kBAoS"
      }
    },
    {
      "cell_type": "markdown",
      "source": [
        "# **Checking Voice-Mail Feature**"
      ],
      "metadata": {
        "id": "1Dus4GodX-AL"
      }
    },
    {
      "cell_type": "code",
      "source": [
        "#checking voice mail features\n",
        "\n",
        "#setting figure size\n",
        "fig = plt.figure(figsize=(8,6))\n",
        "\n",
        "#Creating boxplot\n",
        "sns.boxplot(y= telecom_data['Number vmail messages'], x = telecom_data['Churn'])\n",
        "plt.xlabel(\"Churn\", labelpad=14, fontsize = 12)\n",
        "plt.ylabel(\"Number vmail messages\", labelpad=14, fontsize = 12)\n",
        "plt.title(\"Voice Mail feature\", fontsize = 15)\n",
        "plt.show()"
      ],
      "metadata": {
        "colab": {
          "base_uri": "https://localhost:8080/",
          "height": 419
        },
        "id": "lVcaucCTX5-V",
        "outputId": "a32a7261-4a76-4dc3-afb5-651b7e20c9d5"
      },
      "execution_count": null,
      "outputs": [
        {
          "output_type": "display_data",
          "data": {
            "text/plain": [
              "<Figure size 576x432 with 1 Axes>"
            ],
            "image/png": "[encoded data removed]"
          },
          "metadata": {
            "needs_background": "light"
          }
        }
      ]
    },
    {
      "cell_type": "markdown",
      "source": [
        "Inference:\n",
        "\n",
        "1. From above we can observe that there is a higher churn for customers who are using more than 20 voice-mail messages.\n",
        "\n",
        "2. Certainly, the churn is indicating that we need to improve our voice-mail feature or set a limit and then check whether a customer is retained.\n",
        "\n",
        "According to my hypothesis :\n",
        "\n",
        "1. Setting a limit upto 22 voice mails on voice mail service.\n",
        "\n",
        "2. Improving voice-mail service.\n",
        "\n",
        "3. There is a quality drop in voice-mail after 22 voice mails. "
      ],
      "metadata": {
        "id": "tKtDHuXtYHyw"
      }
    },
    {
      "cell_type": "markdown",
      "source": [
        "# **Total Day Minutes affecting the churn rate**"
      ],
      "metadata": {
        "id": "cz3gCDEQ2fBu"
      }
    },
    {
      "cell_type": "code",
      "source": [
        "#Printing maximum, minimum and average number of minutes in morning\n",
        "\n",
        "print('Maximum number of minutes:',telecom_data['Total day minutes'].max())\n",
        "print('Minimum number of minutes:',telecom_data['Total day minutes'].min())\n",
        "print('Average number of minutes:',telecom_data['Total day minutes'].mean())"
      ],
      "metadata": {
        "colab": {
          "base_uri": "https://localhost:8080/"
        },
        "id": "-SSf0xXI2rDW",
        "outputId": "5e45a62c-d21c-41e9-9cd8-89a59dbaa698"
      },
      "execution_count": null,
      "outputs": [
        {
          "output_type": "stream",
          "name": "stdout",
          "text": [
            "Maximum number of minutes: 350.8\n",
            "Minimum number of minutes: 0.0\n",
            "Average number of minutes: 179.77509750975116\n"
          ]
        }
      ]
    },
    {
      "cell_type": "code",
      "source": [
        "#Total Day Minutes affecting the churn rate\n",
        "\n",
        "#setting figure size\n",
        "fig = plt.figure(figsize=(8,6))\n",
        "\n",
        "#Creating boxplot\n",
        "sns.boxplot(y= telecom_data['Total day minutes'], x = telecom_data['Churn'])\n",
        "plt.xlabel(\"Churn\", labelpad=14, fontsize = 12)\n",
        "plt.ylabel(\"Total day minutes\", labelpad=14, fontsize = 12)\n",
        "plt.title(\"Total Day Minutes affecting the Churn Rate\", fontsize = 15)\n",
        "plt.show()"
      ],
      "metadata": {
        "colab": {
          "base_uri": "https://localhost:8080/",
          "height": 419
        },
        "id": "f_FsDArz2zZl",
        "outputId": "31180148-3d51-46b0-9376-badac862e892"
      },
      "execution_count": null,
      "outputs": [
        {
          "output_type": "display_data",
          "data": {
            "text/plain": [
              "<Figure size 576x432 with 1 Axes>"
            ],
            "image/png": "[encoded data removed]"
          },
          "metadata": {
            "needs_background": "light"
          }
        }
      ]
    },
    {
      "cell_type": "markdown",
      "source": [
        "Inference:\n",
        "\n",
        "1. From above boxplot, we can observe that the customer who spends more than 225 minutes are more likely to switch to other operator.\n",
        "\n",
        "According to my hypothesis:\n",
        "\n",
        "1. One of the major reason for customer churn could be network disturbance during calls.\n",
        "2. Network improvement or smarter technology is required to improve voice quality."
      ],
      "metadata": {
        "id": "934VyUqC29C3"
      }
    },
    {
      "cell_type": "markdown",
      "source": [
        "# **Total Day Calls affecting the churn rate**"
      ],
      "metadata": {
        "id": "7iO-dOBt3XeM"
      }
    },
    {
      "cell_type": "code",
      "source": [
        "#Printing maximum, minimum and average number of calls in morning\n",
        "\n",
        "print('Minimum number of calls:',telecom_data['Total day calls'].min())\n",
        "print('Maximum number of calls:',telecom_data['Total day calls'].max())\n",
        "print('Average number of calls:',telecom_data['Total day calls'].mean())"
      ],
      "metadata": {
        "colab": {
          "base_uri": "https://localhost:8080/"
        },
        "id": "6VZsFt6x25MF",
        "outputId": "4a091d0a-172c-4c77-fcee-4f2fe74c673c"
      },
      "execution_count": null,
      "outputs": [
        {
          "output_type": "stream",
          "name": "stdout",
          "text": [
            "Minimum number of calls: 0\n",
            "Maximum number of calls: 165\n",
            "Average number of calls: 100.43564356435644\n"
          ]
        }
      ]
    },
    {
      "cell_type": "code",
      "source": [
        "#Total Day Calls affecting the churn rate\n",
        "\n",
        "#setting figure size\n",
        "fig = plt.figure(figsize=(8,6))\n",
        "\n",
        "#Creating boxplot\n",
        "sns.boxplot(y= telecom_data['Total day calls'], x = telecom_data['Churn'])\n",
        "plt.xlabel(\"Churn\", labelpad=14, fontsize = 12)\n",
        "plt.ylabel(\"Total day calls\", labelpad=14, fontsize = 12)\n",
        "plt.title(\"Total Day Calls affecting the Churn Rate\", fontsize = 15)\n",
        "plt.show()"
      ],
      "metadata": {
        "colab": {
          "base_uri": "https://localhost:8080/",
          "height": 419
        },
        "id": "ZDYbxPlb3g1L",
        "outputId": "6ddd6c55-6802-4829-8123-084c9d93527c"
      },
      "execution_count": null,
      "outputs": [
        {
          "output_type": "display_data",
          "data": {
            "text/plain": [
              "<Figure size 576x432 with 1 Axes>"
            ],
            "image/png": "[encoded data removed]"
          },
          "metadata": {
            "needs_background": "light"
          }
        }
      ]
    },
    {
      "cell_type": "markdown",
      "source": [
        "Inference:\n",
        "\n",
        "1. From above boxplot, we can observe that the customers with average of more than 100 calls are more likely to churn.\n",
        "\n",
        "According to my hypothesis:\n",
        "\n",
        "1. Need to improve on call drops as it could be a reason for more number of calls in morning."
      ],
      "metadata": {
        "id": "YpBI47ir3n_9"
      }
    },
    {
      "cell_type": "markdown",
      "source": [
        "# **Total Day Charge affecting the churn rate**"
      ],
      "metadata": {
        "id": "ig3yo2kB31uK"
      }
    },
    {
      "cell_type": "code",
      "source": [
        "#Printing maximum, minimum and average call charge in morning\n",
        "\n",
        "print('Maximum call charge in morning:',telecom_data['Total day charge'].max())\n",
        "print('Minimum call charge in morning:',telecom_data['Total day charge'].min())\n",
        "print('Average call charge in morning:',telecom_data['Total day charge'].mean())"
      ],
      "metadata": {
        "colab": {
          "base_uri": "https://localhost:8080/"
        },
        "id": "a4q81i2Z35OR",
        "outputId": "b2b26d3c-566b-42d5-f412-12bb07101aad"
      },
      "execution_count": null,
      "outputs": [
        {
          "output_type": "stream",
          "name": "stdout",
          "text": [
            "Maximum call charge in morning: 59.64\n",
            "Minimum call charge in morning: 0.0\n",
            "Average call charge in morning: 30.562307230723093\n"
          ]
        }
      ]
    },
    {
      "cell_type": "code",
      "source": [
        "#Total Day Charge affecting the churn rate\n",
        "\n",
        "#setting figure size\n",
        "fig = plt.figure(figsize=(8,6))\n",
        "\n",
        "#Creating boxplot\n",
        "sns.boxplot(y= telecom_data['Total day charge'], x = telecom_data['Churn'])\n",
        "plt.xlabel(\"Churn\", labelpad=14, fontsize = 12)\n",
        "plt.ylabel(\"Total day charge\", labelpad=14, fontsize = 12)\n",
        "plt.title(\"Total Day Charge affecting the Churn Rate\", fontsize = 15)\n",
        "plt.show()"
      ],
      "metadata": {
        "colab": {
          "base_uri": "https://localhost:8080/",
          "height": 419
        },
        "id": "kfZhN5n639XZ",
        "outputId": "48357f6d-8ee9-463b-fcd8-cbccb4ba5f7f"
      },
      "execution_count": null,
      "outputs": [
        {
          "output_type": "display_data",
          "data": {
            "text/plain": [
              "<Figure size 576x432 with 1 Axes>"
            ],
            "image/png": "[encoded data removed]"
          },
          "metadata": {
            "needs_background": "light"
          }
        }
      ]
    },
    {
      "cell_type": "markdown",
      "source": [
        "Inference:\n",
        "\n",
        "1. From above boxplot, we can observe that customers who spend more time(thereby paying higher charges) on the network are more likely to churn.\n",
        "\n",
        "According to my hypothesis:\n",
        "\n",
        "1. Need of price optimization.\n",
        "2. Corporation can include discount in pricing strategy for the customers who are spending more time on the network."
      ],
      "metadata": {
        "id": "WFh0QCBK4Bh5"
      }
    },
    {
      "cell_type": "markdown",
      "source": [
        "# **Total Evening Minutes affecting the churn rate**"
      ],
      "metadata": {
        "id": "vRI-NWT_lSjV"
      }
    },
    {
      "cell_type": "code",
      "source": [
        "#Printing maximum, minimum and average number of minutes in evening\n",
        "\n",
        "print('Maximum number of minutes:',telecom_data['Total eve minutes'].max())\n",
        "print('Minimum number of minutes:',telecom_data['Total eve minutes'].min())\n",
        "print('Average number of minutes:',telecom_data['Total eve minutes'].mean())"
      ],
      "metadata": {
        "colab": {
          "base_uri": "https://localhost:8080/"
        },
        "id": "C_pGbWD9lZbg",
        "outputId": "4d783471-cbef-4e33-dfe5-60a890a765da"
      },
      "execution_count": null,
      "outputs": [
        {
          "output_type": "stream",
          "name": "stdout",
          "text": [
            "Maximum number of minutes: 363.7\n",
            "Minimum number of minutes: 0.0\n",
            "Average number of minutes: 200.98034803480346\n"
          ]
        }
      ]
    },
    {
      "cell_type": "code",
      "source": [
        "#Total Evening Minutes affecting the churn rate\n",
        "\n",
        "#setting figure size\n",
        "fig = plt.figure(figsize=(8,6))\n",
        "\n",
        "#Creating boxplot\n",
        "sns.boxplot(y= telecom_data['Total eve minutes'], x = telecom_data['Churn'])\n",
        "plt.xlabel(\"Churn\", labelpad=14, fontsize = 12)\n",
        "plt.ylabel(\"Total evening minutes\", labelpad=14, fontsize = 12)\n",
        "plt.title(\"Total Evening Minutes affecting the Churn Rate\", fontsize = 15)\n",
        "plt.show()"
      ],
      "metadata": {
        "colab": {
          "base_uri": "https://localhost:8080/",
          "height": 419
        },
        "id": "-e3tEVMklcrt",
        "outputId": "e6a45b8b-232d-4e7e-f31a-8f4126032ec9"
      },
      "execution_count": null,
      "outputs": [
        {
          "output_type": "display_data",
          "data": {
            "text/plain": [
              "<Figure size 576x432 with 1 Axes>"
            ],
            "image/png": "[encoded data removed]"
          },
          "metadata": {
            "needs_background": "light"
          }
        }
      ]
    },
    {
      "cell_type": "markdown",
      "source": [
        "Inference:\n",
        "\n",
        "1. From above boxplot, we can observe that the customer who spends 235 minutes or more are more likely to switch to other operator.\n",
        "\n",
        "\n",
        "According to my hypothesis:\n",
        "\n",
        "1. One of the major reason for customer churn could be network disturbance during calls.\n",
        "2. Network improvement or smarter technology is required to improve voice quality."
      ],
      "metadata": {
        "id": "BuBX7NrNlnBL"
      }
    },
    {
      "cell_type": "markdown",
      "source": [
        "# **Total Evening Calls affecting the churn rate**"
      ],
      "metadata": {
        "id": "fumgTp3zl0rb"
      }
    },
    {
      "cell_type": "code",
      "source": [
        "#Printing maximum, minimum and average number of calls in evening\n",
        "\n",
        "print('Maximum number of calls:',telecom_data['Total eve calls'].max())\n",
        "print('Minimum number of calls:',telecom_data['Total eve calls'].min())\n",
        "print('Average number of calls:',telecom_data['Total eve calls'].mean())"
      ],
      "metadata": {
        "colab": {
          "base_uri": "https://localhost:8080/"
        },
        "id": "pqhoCmWfl8Ob",
        "outputId": "a1ab6da9-ab43-4916-d809-4991080503b0"
      },
      "execution_count": null,
      "outputs": [
        {
          "output_type": "stream",
          "name": "stdout",
          "text": [
            "Maximum number of calls: 170\n",
            "Minimum number of calls: 0\n",
            "Average number of calls: 100.11431143114311\n"
          ]
        }
      ]
    },
    {
      "cell_type": "code",
      "source": [
        "#Total Evening Calls affecting the churn rate\n",
        "\n",
        "#setting figure size\n",
        "fig = plt.figure(figsize=(8,6))\n",
        "\n",
        "#Creating boxplot\n",
        "sns.boxplot(y= telecom_data['Total eve calls'], x = telecom_data['Churn'])\n",
        "plt.xlabel(\"Churn\", labelpad=14, fontsize = 12)\n",
        "plt.ylabel(\"Total evening calls\", labelpad=14, fontsize = 12)\n",
        "plt.title(\"Total Evening Calls affecting the Churn Rate\", fontsize = 15)\n",
        "plt.show()"
      ],
      "metadata": {
        "colab": {
          "base_uri": "https://localhost:8080/",
          "height": 419
        },
        "id": "ilsgs6WWl-oK",
        "outputId": "9940a720-25e8-4fae-ed3a-9f30cf038b07"
      },
      "execution_count": null,
      "outputs": [
        {
          "output_type": "display_data",
          "data": {
            "text/plain": [
              "<Figure size 576x432 with 1 Axes>"
            ],
            "image/png": "[encoded data removed]"
          },
          "metadata": {
            "needs_background": "light"
          }
        }
      ]
    },
    {
      "cell_type": "markdown",
      "source": [
        "Inference:\n",
        "\n",
        "1. From above boxplot, we can observe that on an average 100 calls are made which is a good indication for the corporation.\n",
        "\n",
        "2. We can also observe that the customers with average of more than 100 calls are more likely to churn due to call drop.\n",
        "\n",
        "According to my hypothesis:\n",
        "\n",
        "1. Need to improve on call drops as it could be a reason for more number of calls in evening."
      ],
      "metadata": {
        "id": "i97XCoZ7mCWK"
      }
    },
    {
      "cell_type": "markdown",
      "source": [
        "# **Total Evening Charge affecting the churn rate**"
      ],
      "metadata": {
        "id": "hwWjA2dgmWkz"
      }
    },
    {
      "cell_type": "code",
      "source": [
        "#Printing maximum, minimum and average call charge in evening\n",
        "\n",
        "print('Maximum call charge in evening:',telecom_data['Total eve charge'].max())\n",
        "print('Minimum call charge in evening:',telecom_data['Total eve charge'].min())\n",
        "print('Average call charge in evening:',telecom_data['Total eve charge'].mean())"
      ],
      "metadata": {
        "colab": {
          "base_uri": "https://localhost:8080/"
        },
        "id": "os_0qa7AmfxA",
        "outputId": "680a1e08-279c-40a7-b945-4a1a11181521"
      },
      "execution_count": null,
      "outputs": [
        {
          "output_type": "stream",
          "name": "stdout",
          "text": [
            "Maximum call charge in evening: 30.91\n",
            "Minimum call charge in evening: 0.0\n",
            "Average call charge in evening: 17.083540354035392\n"
          ]
        }
      ]
    },
    {
      "cell_type": "code",
      "source": [
        "#Total Evening Charge affecting the churn rate\n",
        "\n",
        "#setting figure size\n",
        "fig = plt.figure(figsize=(8,6))\n",
        "\n",
        "#Creating boxplot\n",
        "sns.boxplot(y= telecom_data['Total eve charge'], x = telecom_data['Churn'])\n",
        "plt.xlabel(\"Churn\", labelpad=14, fontsize = 12)\n",
        "plt.ylabel(\"Total eve charge\", labelpad=14, fontsize = 12)\n",
        "plt.title(\"Total Evening Charge affecting the Churn Rate\", fontsize = 15)\n",
        "plt.show()"
      ],
      "metadata": {
        "colab": {
          "base_uri": "https://localhost:8080/",
          "height": 419
        },
        "id": "08F1ONBumlVI",
        "outputId": "a124ee2d-fd68-4941-d036-22f5ba034a55"
      },
      "execution_count": null,
      "outputs": [
        {
          "output_type": "display_data",
          "data": {
            "text/plain": [
              "<Figure size 576x432 with 1 Axes>"
            ],
            "image/png": "[encoded data removed]"
          },
          "metadata": {
            "needs_background": "light"
          }
        }
      ]
    },
    {
      "cell_type": "markdown",
      "source": [
        "Inference:\n",
        "\n",
        "1. Optimization of charges would lead to loyal customers.\n",
        "\n",
        "According to my hypothesis:\n",
        "\n",
        "1. As the average charge of churn and non-churn customer is almost same, where the reason for churn could be that some customers are not finding the network quality worth it.\n",
        "2. Need of price optimization.\n",
        "3. Network upgradation is suggested."
      ],
      "metadata": {
        "id": "Gv6cXkS4mp4L"
      }
    },
    {
      "cell_type": "markdown",
      "source": [
        "# **Total Night Minutes affecting the churn rate**"
      ],
      "metadata": {
        "id": "h0J0DM4v-e0z"
      }
    },
    {
      "cell_type": "code",
      "source": [
        "#Printing maximum, minimum and average number of minutes in night\n",
        "\n",
        "print('Maximum number of minutes:',telecom_data['Total night minutes'].max())\n",
        "print('Minimum number of minutes:',telecom_data['Total night minutes'].min())\n",
        "print('Average number of minutes:',telecom_data['Total night minutes'].mean())"
      ],
      "metadata": {
        "colab": {
          "base_uri": "https://localhost:8080/"
        },
        "id": "B-69fPZ2-jKN",
        "outputId": "85315c69-4088-4bda-a275-98f3500e7e61"
      },
      "execution_count": null,
      "outputs": [
        {
          "output_type": "stream",
          "name": "stdout",
          "text": [
            "Maximum number of minutes: 395.0\n",
            "Minimum number of minutes: 23.2\n",
            "Average number of minutes: 200.87203720372048\n"
          ]
        }
      ]
    },
    {
      "cell_type": "code",
      "source": [
        "#Total Night Minutes affecting the churn rate\n",
        "\n",
        "#setting figure size\n",
        "fig = plt.figure(figsize=(8,6))\n",
        "\n",
        "#Creating boxplot\n",
        "sns.boxplot(y= telecom_data['Total night minutes'], x = telecom_data['Churn'])\n",
        "plt.xlabel(\"Churn\", labelpad=14, fontsize = 12)\n",
        "plt.ylabel(\"Total night minutes\", labelpad=14, fontsize = 12)\n",
        "plt.title(\"Total Night Minutes affecting the Churn Rate\", fontsize = 15)\n",
        "plt.show()"
      ],
      "metadata": {
        "colab": {
          "base_uri": "https://localhost:8080/",
          "height": 419
        },
        "id": "cV0qQ2-d_QIZ",
        "outputId": "e1a00f04-229e-431f-bf62-af9f8f077e3f"
      },
      "execution_count": null,
      "outputs": [
        {
          "output_type": "display_data",
          "data": {
            "text/plain": [
              "<Figure size 576x432 with 1 Axes>"
            ],
            "image/png": "[encoded data removed]"
          },
          "metadata": {
            "needs_background": "light"
          }
        }
      ]
    },
    {
      "cell_type": "markdown",
      "source": [
        "Inference:\n",
        "\n",
        "1. From above boxplot, we can observe that average churn and non-churn rate is almost equal.\n",
        "\n",
        "2. Customers who are not churning are spending more minutes.\n",
        "\n",
        "According to my hypothesis:\n",
        "\n",
        "1. Network upgradation can retain the customers."
      ],
      "metadata": {
        "id": "07CG1xJ7_VPK"
      }
    },
    {
      "cell_type": "markdown",
      "source": [
        "# **Total Night Calls affecting the churn rate**"
      ],
      "metadata": {
        "id": "uDZt9lcy_ht_"
      }
    },
    {
      "cell_type": "code",
      "source": [
        "#Printing maximum, minimum and average number of calls in night\n",
        "\n",
        "print('Maximum number of calls:',telecom_data['Total night calls'].max())\n",
        "print('Minimum number of calls:',telecom_data['Total night calls'].min())\n",
        "print('Average number of calls:',telecom_data['Total night calls'].mean())"
      ],
      "metadata": {
        "colab": {
          "base_uri": "https://localhost:8080/"
        },
        "id": "eWFbokGG_hY2",
        "outputId": "28fdaddc-86c8-4d13-c910-2d80f19089ba"
      },
      "execution_count": null,
      "outputs": [
        {
          "output_type": "stream",
          "name": "stdout",
          "text": [
            "Maximum number of calls: 175\n",
            "Minimum number of calls: 33\n",
            "Average number of calls: 100.10771077107711\n"
          ]
        }
      ]
    },
    {
      "cell_type": "code",
      "source": [
        "#Total Night Calls affecting the churn rate\n",
        "\n",
        "#setting figure size\n",
        "fig = plt.figure(figsize=(8,6))\n",
        "\n",
        "#Creating boxplot\n",
        "sns.boxplot(y= telecom_data['Total night calls'], x = telecom_data['Churn'])\n",
        "plt.xlabel(\"Churn\", labelpad=14, fontsize = 12)\n",
        "plt.ylabel(\"Total night calls\", labelpad=14, fontsize = 12)\n",
        "plt.title(\"Total Night Calls affecting the Churn Rate\", fontsize = 15)\n",
        "plt.show()"
      ],
      "metadata": {
        "colab": {
          "base_uri": "https://localhost:8080/",
          "height": 419
        },
        "id": "FjGHMrpT_Sah",
        "outputId": "89b0ff69-96cc-47a3-b2f9-b36b74818336"
      },
      "execution_count": null,
      "outputs": [
        {
          "output_type": "display_data",
          "data": {
            "text/plain": [
              "<Figure size 576x432 with 1 Axes>"
            ],
            "image/png": "[encoded data removed]"
          },
          "metadata": {
            "needs_background": "light"
          }
        }
      ]
    },
    {
      "cell_type": "markdown",
      "source": [
        "Inference:\n",
        "\n",
        "1. From above boxplot, we can observe that the IQR(Interquartile Range) of night calls are more for churned customers.\n",
        "\n",
        "According to my hypothesis:\n",
        "\n",
        "1. Need to improve on call drops as it could be a reason for more number of calls in night."
      ],
      "metadata": {
        "id": "jgn-2VvR_16-"
      }
    },
    {
      "cell_type": "markdown",
      "source": [
        "# **Total Night Charge affecting the churn rate**"
      ],
      "metadata": {
        "id": "mK0hMyqIAZuU"
      }
    },
    {
      "cell_type": "code",
      "source": [
        "#Printing maximum, minimum and average call charge in night\n",
        "\n",
        "print('Maximum call charge in night:',telecom_data['Total night charge'].max())\n",
        "print('Minimum call charge in night:',telecom_data['Total night charge'].min())\n",
        "print('Average call charge in night:',telecom_data['Total night charge'].mean())"
      ],
      "metadata": {
        "colab": {
          "base_uri": "https://localhost:8080/"
        },
        "id": "LMNdM0-BAfbs",
        "outputId": "376dc221-662b-417c-cd63-2bfb1534e5ec"
      },
      "execution_count": null,
      "outputs": [
        {
          "output_type": "stream",
          "name": "stdout",
          "text": [
            "Maximum call charge in night: 17.77\n",
            "Minimum call charge in night: 1.04\n",
            "Average call charge in night: 9.039324932493264\n"
          ]
        }
      ]
    },
    {
      "cell_type": "code",
      "source": [
        "#Total Night Charge affecting the churn rate\n",
        "\n",
        "#setting figure size\n",
        "fig = plt.figure(figsize=(8,6))\n",
        "\n",
        "#Creating boxplot\n",
        "sns.boxplot(y= telecom_data['Total night charge'], x = telecom_data['Churn'])\n",
        "plt.xlabel(\"Churn\", labelpad=14, fontsize = 12)\n",
        "plt.ylabel(\"Total night charge\", labelpad=14, fontsize = 12)\n",
        "plt.title(\"Total Night Charge affecting the Churn Rate\", fontsize = 15)\n",
        "plt.show()"
      ],
      "metadata": {
        "colab": {
          "base_uri": "https://localhost:8080/",
          "height": 419
        },
        "id": "TwAPQ6kuAjlb",
        "outputId": "354f9931-a734-4bbc-e3fc-12fc1310580f"
      },
      "execution_count": null,
      "outputs": [
        {
          "output_type": "display_data",
          "data": {
            "text/plain": [
              "<Figure size 576x432 with 1 Axes>"
            ],
            "image/png": "[encoded data removed]"
          },
          "metadata": {
            "needs_background": "light"
          }
        }
      ]
    },
    {
      "cell_type": "markdown",
      "source": [
        "Inference:\n",
        "\n",
        "1 Optimization of charges would lead to loyal customers.\n",
        "\n",
        "According to my hypothesis:\n",
        "\n",
        "1. As the average charge of churn and non-churn customer is almost same, where the reason for churn could be that some customers are not finding the network quality worth it.\n",
        "\n",
        "2. Price optimization and network upgradation is suggested."
      ],
      "metadata": {
        "id": "4jv9OiYrAnxH"
      }
    },
    {
      "cell_type": "markdown",
      "source": [
        "# **Comparison between total charge and total minutes**"
      ],
      "metadata": {
        "id": "RjqoXnkcBCKa"
      }
    },
    {
      "cell_type": "code",
      "source": [
        "#day\n",
        "\n",
        "plt.figure(figsize=(8,7))\n",
        "plt.scatter(x='Total day minutes',y='Total day charge',data=telecom)\n",
        "plt.xlabel('Total day minutes')\n",
        "plt.ylabel('Total day charge')\n",
        "plt.show()"
      ],
      "metadata": {
        "colab": {
          "base_uri": "https://localhost:8080/",
          "height": 442
        },
        "id": "EByR7dNOBPqq",
        "outputId": "87e0b876-bfa1-41c4-9dfb-7da8c0832618"
      },
      "execution_count": null,
      "outputs": [
        {
          "output_type": "display_data",
          "data": {
            "text/plain": [
              "<Figure size 576x504 with 1 Axes>"
            ],
            "image/png": "[encoded data removed]"
          },
          "metadata": {
            "needs_background": "light"
          }
        }
      ]
    },
    {
      "cell_type": "code",
      "source": [
        "#evening\n",
        "\n",
        "plt.figure(figsize=(8,7))\n",
        "plt.scatter(x='Total eve minutes',y='Total eve charge',data=telecom)\n",
        "plt.xlabel('Total evening minutes')\n",
        "plt.ylabel('Total evening charge')\n",
        "plt.show()"
      ],
      "metadata": {
        "colab": {
          "base_uri": "https://localhost:8080/",
          "height": 442
        },
        "id": "6WKJtO1BBVQz",
        "outputId": "af57a5c1-d751-44ca-ae27-601d9f6e8bce"
      },
      "execution_count": null,
      "outputs": [
        {
          "output_type": "display_data",
          "data": {
            "text/plain": [
              "<Figure size 576x504 with 1 Axes>"
            ],
            "image/png": "[encoded data removed]"
          },
          "metadata": {
            "needs_background": "light"
          }
        }
      ]
    },
    {
      "cell_type": "code",
      "source": [
        "#night\n",
        "\n",
        "plt.figure(figsize=(8,7))\n",
        "plt.scatter(x='Total night minutes',y='Total night charge',data=telecom)\n",
        "plt.xlabel('Total night minutes')\n",
        "plt.ylabel('Total night charge')\n",
        "plt.show()"
      ],
      "metadata": {
        "colab": {
          "base_uri": "https://localhost:8080/",
          "height": 442
        },
        "id": "aGMbAW_6BrQA",
        "outputId": "aad10cca-dd4a-4794-dc31-369a8b5bae61"
      },
      "execution_count": null,
      "outputs": [
        {
          "output_type": "display_data",
          "data": {
            "text/plain": [
              "<Figure size 576x504 with 1 Axes>"
            ],
            "image/png": "[encoded data removed]"
          },
          "metadata": {
            "needs_background": "light"
          }
        }
      ]
    },
    {
      "cell_type": "markdown",
      "source": [
        "# **Checking frequency distribution of all data using histogram**"
      ],
      "metadata": {
        "id": "eYsaQYr7CADR"
      }
    },
    {
      "cell_type": "code",
      "source": [
        "#Frequency distribution of all data\n",
        "#Plotting the data to visualize their distribution\n",
        "\n",
        "fig, ax = plt.subplots(figsize=(12,12))\n",
        "pd.DataFrame.hist(telecom_data, ax=ax)\n",
        "plt.tight_layout()\n",
        "plt.show()"
      ],
      "metadata": {
        "colab": {
          "base_uri": "https://localhost:8080/",
          "height": 908
        },
        "id": "3Ch-hrRhCETv",
        "outputId": "9707d9ef-c6f7-47b0-afac-09ded2f88606"
      },
      "execution_count": null,
      "outputs": [
        {
          "output_type": "stream",
          "name": "stderr",
          "text": [
            "/usr/local/lib/python3.7/dist-packages/ipykernel_launcher.py:5: UserWarning: To output multiple subplots, the figure containing the passed axes is being cleared\n",
            "  \"\"\"\n"
          ]
        },
        {
          "output_type": "display_data",
          "data": {
            "text/plain": [
              "<Figure size 864x864 with 16 Axes>"
            ],
            "image/png": "[encoded data removed]"
          },
          "metadata": {
            "needs_background": "light"
          }
        }
      ]
    },
    {
      "cell_type": "markdown",
      "source": [
        "Inference:\n",
        "\n",
        "Area code, Number vmail messages, Total intl calls and Customer service calls are not distributed uniformly whereas others are distributed uniformly."
      ],
      "metadata": {
        "id": "4slfHml9CXje"
      }
    }
  ]
}