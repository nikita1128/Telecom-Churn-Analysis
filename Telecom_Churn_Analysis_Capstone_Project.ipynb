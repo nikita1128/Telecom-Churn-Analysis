{
  "cells": [
    {
      "cell_type": "markdown",
      "metadata": {
        "id": "view-in-github",
        "colab_type": "text"
      },
      "source": [
        "<a href=\"https://colab.research.google.com/github/nikita1128/Telecom-Churn-Analysis/blob/main/Telecom_Churn_Analysis_Capstone_Project.ipynb\" target=\"_parent\"><img src=\"https://colab.research.google.com/assets/colab-badge.svg\" alt=\"Open In Colab\"/></a>"
      ]
    },
    {
      "cell_type": "markdown",
      "metadata": {
        "id": "Y06xIdG26kRF"
      },
      "source": [
        "## <b> Orange S.A., formerly France Télécom S.A., is a French multinational telecommunications corporation. The Orange Telecom's Churn Dataset, consists of cleaned customer activity data (features), along with a churn label specifying whether a customer canceled the subscription.\n",
        "\n",
        "## <b> Explore and analyze the data to discover key factors responsible for customer churn and come up with ways/recommendations to ensure customer retention. </b>"
      ]
    },
    {
      "cell_type": "markdown",
      "metadata": {
        "id": "pGCU9eL_XWR2"
      },
      "source": [
        "# **Importing the required libraries**"
      ]
    },
    {
      "cell_type": "code",
      "execution_count": 574,
      "metadata": {
        "id": "-iUB507cMznm"
      },
      "outputs": [],
      "source": [
        "#Importing the required libraries\n",
        "\n",
        "import numpy as np \n",
        "import pandas as pd \n",
        "import seaborn as sns \n",
        "import matplotlib.pyplot as plt\n",
        "%matplotlib inline"
      ]
    },
    {
      "cell_type": "markdown",
      "metadata": {
        "id": "4IuDCaQXXlYP"
      },
      "source": [
        "# **Loading the data file**"
      ]
    },
    {
      "cell_type": "code",
      "execution_count": 575,
      "metadata": {
        "colab": {
          "base_uri": "https://localhost:8080/"
        },
        "id": "xpZvYVQjObbT",
        "outputId": "c5c1d29f-f973-4cb9-d754-ea17e9229649"
      },
      "outputs": [
        {
          "output_type": "stream",
          "name": "stdout",
          "text": [
            "Drive already mounted at /content/drive; to attempt to forcibly remount, call drive.mount(\"/content/drive\", force_remount=True).\n"
          ]
        }
      ],
      "source": [
        "from google.colab import drive\n",
        "drive.mount('/content/drive')"
      ]
    },
    {
      "cell_type": "code",
      "execution_count": 576,
      "metadata": {
        "id": "aEtxXILlMzbf"
      },
      "outputs": [],
      "source": [
        "telecom = pd.read_csv('/content/drive/MyDrive/Alma/Pro/Capstone Project/Copy of Telecom Churn.csv')"
      ]
    },
    {
      "cell_type": "markdown",
      "metadata": {
        "id": "tfH12torYNDc"
      },
      "source": [
        "# **Now while using the \"head\" and \"tail\" function we can see the top and bottom records.**"
      ]
    },
    {
      "cell_type": "code",
      "execution_count": 577,
      "metadata": {
        "colab": {
          "base_uri": "https://localhost:8080/",
          "height": 305
        },
        "id": "xuE6hz_fOYOZ",
        "outputId": "910cd996-9f14-4f65-cd3b-09162c51ea78"
      },
      "outputs": [
        {
          "output_type": "execute_result",
          "data": {
            "text/plain": [
              "  State  Account length  Area code International plan Voice mail plan  \\\n",
              "0    KS             128        415                 No             Yes   \n",
              "1    OH             107        415                 No             Yes   \n",
              "2    NJ             137        415                 No              No   \n",
              "3    OH              84        408                Yes              No   \n",
              "4    OK              75        415                Yes              No   \n",
              "\n",
              "   Number vmail messages  Total day minutes  Total day calls  \\\n",
              "0                     25              265.1              110   \n",
              "1                     26              161.6              123   \n",
              "2                      0              243.4              114   \n",
              "3                      0              299.4               71   \n",
              "4                      0              166.7              113   \n",
              "\n",
              "   Total day charge  Total eve minutes  Total eve calls  Total eve charge  \\\n",
              "0             45.07              197.4               99             16.78   \n",
              "1             27.47              195.5              103             16.62   \n",
              "2             41.38              121.2              110             10.30   \n",
              "3             50.90               61.9               88              5.26   \n",
              "4             28.34              148.3              122             12.61   \n",
              "\n",
              "   Total night minutes  Total night calls  Total night charge  \\\n",
              "0                244.7                 91               11.01   \n",
              "1                254.4                103               11.45   \n",
              "2                162.6                104                7.32   \n",
              "3                196.9                 89                8.86   \n",
              "4                186.9                121                8.41   \n",
              "\n",
              "   Total intl minutes  Total intl calls  Total intl charge  \\\n",
              "0                10.0                 3               2.70   \n",
              "1                13.7                 3               3.70   \n",
              "2                12.2                 5               3.29   \n",
              "3                 6.6                 7               1.78   \n",
              "4                10.1                 3               2.73   \n",
              "\n",
              "   Customer service calls  Churn  \n",
              "0                       1  False  \n",
              "1                       1  False  \n",
              "2                       0  False  \n",
              "3                       2  False  \n",
              "4                       3  False  "
            ],
            "text/html": [
              "\n",
              "  <div id=\"df-d231c785-281d-4b00-aa29-030b6f752603\">\n",
              "    <div class=\"colab-df-container\">\n",
              "      <div>\n",
              "<style scoped>\n",
              "    .dataframe tbody tr th:only-of-type {\n",
              "        vertical-align: middle;\n",
              "    }\n",
              "\n",
              "    .dataframe tbody tr th {\n",
              "        vertical-align: top;\n",
              "    }\n",
              "\n",
              "    .dataframe thead th {\n",
              "        text-align: right;\n",
              "    }\n",
              "</style>\n",
              "<table border=\"1\" class=\"dataframe\">\n",
              "  <thead>\n",
              "    <tr style=\"text-align: right;\">\n",
              "      <th></th>\n",
              "      <th>State</th>\n",
              "      <th>Account length</th>\n",
              "      <th>Area code</th>\n",
              "      <th>International plan</th>\n",
              "      <th>Voice mail plan</th>\n",
              "      <th>Number vmail messages</th>\n",
              "      <th>Total day minutes</th>\n",
              "      <th>Total day calls</th>\n",
              "      <th>Total day charge</th>\n",
              "      <th>Total eve minutes</th>\n",
              "      <th>Total eve calls</th>\n",
              "      <th>Total eve charge</th>\n",
              "      <th>Total night minutes</th>\n",
              "      <th>Total night calls</th>\n",
              "      <th>Total night charge</th>\n",
              "      <th>Total intl minutes</th>\n",
              "      <th>Total intl calls</th>\n",
              "      <th>Total intl charge</th>\n",
              "      <th>Customer service calls</th>\n",
              "      <th>Churn</th>\n",
              "    </tr>\n",
              "  </thead>\n",
              "  <tbody>\n",
              "    <tr>\n",
              "      <th>0</th>\n",
              "      <td>KS</td>\n",
              "      <td>128</td>\n",
              "      <td>415</td>\n",
              "      <td>No</td>\n",
              "      <td>Yes</td>\n",
              "      <td>25</td>\n",
              "      <td>265.1</td>\n",
              "      <td>110</td>\n",
              "      <td>45.07</td>\n",
              "      <td>197.4</td>\n",
              "      <td>99</td>\n",
              "      <td>16.78</td>\n",
              "      <td>244.7</td>\n",
              "      <td>91</td>\n",
              "      <td>11.01</td>\n",
              "      <td>10.0</td>\n",
              "      <td>3</td>\n",
              "      <td>2.70</td>\n",
              "      <td>1</td>\n",
              "      <td>False</td>\n",
              "    </tr>\n",
              "    <tr>\n",
              "      <th>1</th>\n",
              "      <td>OH</td>\n",
              "      <td>107</td>\n",
              "      <td>415</td>\n",
              "      <td>No</td>\n",
              "      <td>Yes</td>\n",
              "      <td>26</td>\n",
              "      <td>161.6</td>\n",
              "      <td>123</td>\n",
              "      <td>27.47</td>\n",
              "      <td>195.5</td>\n",
              "      <td>103</td>\n",
              "      <td>16.62</td>\n",
              "      <td>254.4</td>\n",
              "      <td>103</td>\n",
              "      <td>11.45</td>\n",
              "      <td>13.7</td>\n",
              "      <td>3</td>\n",
              "      <td>3.70</td>\n",
              "      <td>1</td>\n",
              "      <td>False</td>\n",
              "    </tr>\n",
              "    <tr>\n",
              "      <th>2</th>\n",
              "      <td>NJ</td>\n",
              "      <td>137</td>\n",
              "      <td>415</td>\n",
              "      <td>No</td>\n",
              "      <td>No</td>\n",
              "      <td>0</td>\n",
              "      <td>243.4</td>\n",
              "      <td>114</td>\n",
              "      <td>41.38</td>\n",
              "      <td>121.2</td>\n",
              "      <td>110</td>\n",
              "      <td>10.30</td>\n",
              "      <td>162.6</td>\n",
              "      <td>104</td>\n",
              "      <td>7.32</td>\n",
              "      <td>12.2</td>\n",
              "      <td>5</td>\n",
              "      <td>3.29</td>\n",
              "      <td>0</td>\n",
              "      <td>False</td>\n",
              "    </tr>\n",
              "    <tr>\n",
              "      <th>3</th>\n",
              "      <td>OH</td>\n",
              "      <td>84</td>\n",
              "      <td>408</td>\n",
              "      <td>Yes</td>\n",
              "      <td>No</td>\n",
              "      <td>0</td>\n",
              "      <td>299.4</td>\n",
              "      <td>71</td>\n",
              "      <td>50.90</td>\n",
              "      <td>61.9</td>\n",
              "      <td>88</td>\n",
              "      <td>5.26</td>\n",
              "      <td>196.9</td>\n",
              "      <td>89</td>\n",
              "      <td>8.86</td>\n",
              "      <td>6.6</td>\n",
              "      <td>7</td>\n",
              "      <td>1.78</td>\n",
              "      <td>2</td>\n",
              "      <td>False</td>\n",
              "    </tr>\n",
              "    <tr>\n",
              "      <th>4</th>\n",
              "      <td>OK</td>\n",
              "      <td>75</td>\n",
              "      <td>415</td>\n",
              "      <td>Yes</td>\n",
              "      <td>No</td>\n",
              "      <td>0</td>\n",
              "      <td>166.7</td>\n",
              "      <td>113</td>\n",
              "      <td>28.34</td>\n",
              "      <td>148.3</td>\n",
              "      <td>122</td>\n",
              "      <td>12.61</td>\n",
              "      <td>186.9</td>\n",
              "      <td>121</td>\n",
              "      <td>8.41</td>\n",
              "      <td>10.1</td>\n",
              "      <td>3</td>\n",
              "      <td>2.73</td>\n",
              "      <td>3</td>\n",
              "      <td>False</td>\n",
              "    </tr>\n",
              "  </tbody>\n",
              "</table>\n",
              "</div>\n",
              "      <button class=\"colab-df-convert\" onclick=\"convertToInteractive('df-d231c785-281d-4b00-aa29-030b6f752603')\"\n",
              "              title=\"Convert this dataframe to an interactive table.\"\n",
              "              style=\"display:none;\">\n",
              "        \n",
              "  <svg xmlns=\"http://www.w3.org/2000/svg\" height=\"24px\"viewBox=\"0 0 24 24\"\n",
              "       width=\"24px\">\n",
              "    <path d=\"M0 0h24v24H0V0z\" fill=\"none\"/>\n",
              "    <path d=\"M18.56 5.44l.94 2.06.94-2.06 2.06-.94-2.06-.94-.94-2.06-.94 2.06-2.06.94zm-11 1L8.5 8.5l.94-2.06 2.06-.94-2.06-.94L8.5 2.5l-.94 2.06-2.06.94zm10 10l.94 2.06.94-2.06 2.06-.94-2.06-.94-.94-2.06-.94 2.06-2.06.94z\"/><path d=\"M17.41 7.96l-1.37-1.37c-.4-.4-.92-.59-1.43-.59-.52 0-1.04.2-1.43.59L10.3 9.45l-7.72 7.72c-.78.78-.78 2.05 0 2.83L4 21.41c.39.39.9.59 1.41.59.51 0 1.02-.2 1.41-.59l7.78-7.78 2.81-2.81c.8-.78.8-2.07 0-2.86zM5.41 20L4 18.59l7.72-7.72 1.47 1.35L5.41 20z\"/>\n",
              "  </svg>\n",
              "      </button>\n",
              "      \n",
              "  <style>\n",
              "    .colab-df-container {\n",
              "      display:flex;\n",
              "      flex-wrap:wrap;\n",
              "      gap: 12px;\n",
              "    }\n",
              "\n",
              "    .colab-df-convert {\n",
              "      background-color: #E8F0FE;\n",
              "      border: none;\n",
              "      border-radius: 50%;\n",
              "      cursor: pointer;\n",
              "      display: none;\n",
              "      fill: #1967D2;\n",
              "      height: 32px;\n",
              "      padding: 0 0 0 0;\n",
              "      width: 32px;\n",
              "    }\n",
              "\n",
              "    .colab-df-convert:hover {\n",
              "      background-color: #E2EBFA;\n",
              "      box-shadow: 0px 1px 2px rgba(60, 64, 67, 0.3), 0px 1px 3px 1px rgba(60, 64, 67, 0.15);\n",
              "      fill: #174EA6;\n",
              "    }\n",
              "\n",
              "    [theme=dark] .colab-df-convert {\n",
              "      background-color: #3B4455;\n",
              "      fill: #D2E3FC;\n",
              "    }\n",
              "\n",
              "    [theme=dark] .colab-df-convert:hover {\n",
              "      background-color: #434B5C;\n",
              "      box-shadow: 0px 1px 3px 1px rgba(0, 0, 0, 0.15);\n",
              "      filter: drop-shadow(0px 1px 2px rgba(0, 0, 0, 0.3));\n",
              "      fill: #FFFFFF;\n",
              "    }\n",
              "  </style>\n",
              "\n",
              "      <script>\n",
              "        const buttonEl =\n",
              "          document.querySelector('#df-d231c785-281d-4b00-aa29-030b6f752603 button.colab-df-convert');\n",
              "        buttonEl.style.display =\n",
              "          google.colab.kernel.accessAllowed ? 'block' : 'none';\n",
              "\n",
              "        async function convertToInteractive(key) {\n",
              "          const element = document.querySelector('#df-d231c785-281d-4b00-aa29-030b6f752603');\n",
              "          const dataTable =\n",
              "            await google.colab.kernel.invokeFunction('convertToInteractive',\n",
              "                                                     [key], {});\n",
              "          if (!dataTable) return;\n",
              "\n",
              "          const docLinkHtml = 'Like what you see? Visit the ' +\n",
              "            '<a target=\"_blank\" href=https://colab.research.google.com/notebooks/data_table.ipynb>data table notebook</a>'\n",
              "            + ' to learn more about interactive tables.';\n",
              "          element.innerHTML = '';\n",
              "          dataTable['output_type'] = 'display_data';\n",
              "          await google.colab.output.renderOutput(dataTable, element);\n",
              "          const docLink = document.createElement('div');\n",
              "          docLink.innerHTML = docLinkHtml;\n",
              "          element.appendChild(docLink);\n",
              "        }\n",
              "      </script>\n",
              "    </div>\n",
              "  </div>\n",
              "  "
            ]
          },
          "metadata": {},
          "execution_count": 577
        }
      ],
      "source": [
        "#Using head() function to see first 5 records\n",
        "telecom.head()"
      ]
    },
    {
      "cell_type": "code",
      "execution_count": 578,
      "metadata": {
        "colab": {
          "base_uri": "https://localhost:8080/",
          "height": 305
        },
        "id": "CKCiR6bnWRSK",
        "outputId": "59f733cc-772f-4687-8586-c21a71810050"
      },
      "outputs": [
        {
          "output_type": "execute_result",
          "data": {
            "text/plain": [
              "     State  Account length  Area code International plan Voice mail plan  \\\n",
              "3328    AZ             192        415                 No             Yes   \n",
              "3329    WV              68        415                 No              No   \n",
              "3330    RI              28        510                 No              No   \n",
              "3331    CT             184        510                Yes              No   \n",
              "3332    TN              74        415                 No             Yes   \n",
              "\n",
              "      Number vmail messages  Total day minutes  Total day calls  \\\n",
              "3328                     36              156.2               77   \n",
              "3329                      0              231.1               57   \n",
              "3330                      0              180.8              109   \n",
              "3331                      0              213.8              105   \n",
              "3332                     25              234.4              113   \n",
              "\n",
              "      Total day charge  Total eve minutes  Total eve calls  Total eve charge  \\\n",
              "3328             26.55              215.5              126             18.32   \n",
              "3329             39.29              153.4               55             13.04   \n",
              "3330             30.74              288.8               58             24.55   \n",
              "3331             36.35              159.6               84             13.57   \n",
              "3332             39.85              265.9               82             22.60   \n",
              "\n",
              "      Total night minutes  Total night calls  Total night charge  \\\n",
              "3328                279.1                 83               12.56   \n",
              "3329                191.3                123                8.61   \n",
              "3330                191.9                 91                8.64   \n",
              "3331                139.2                137                6.26   \n",
              "3332                241.4                 77               10.86   \n",
              "\n",
              "      Total intl minutes  Total intl calls  Total intl charge  \\\n",
              "3328                 9.9                 6               2.67   \n",
              "3329                 9.6                 4               2.59   \n",
              "3330                14.1                 6               3.81   \n",
              "3331                 5.0                10               1.35   \n",
              "3332                13.7                 4               3.70   \n",
              "\n",
              "      Customer service calls  Churn  \n",
              "3328                       2  False  \n",
              "3329                       3  False  \n",
              "3330                       2  False  \n",
              "3331                       2  False  \n",
              "3332                       0  False  "
            ],
            "text/html": [
              "\n",
              "  <div id=\"df-608ca459-a7c1-4466-a2d1-e0498329419f\">\n",
              "    <div class=\"colab-df-container\">\n",
              "      <div>\n",
              "<style scoped>\n",
              "    .dataframe tbody tr th:only-of-type {\n",
              "        vertical-align: middle;\n",
              "    }\n",
              "\n",
              "    .dataframe tbody tr th {\n",
              "        vertical-align: top;\n",
              "    }\n",
              "\n",
              "    .dataframe thead th {\n",
              "        text-align: right;\n",
              "    }\n",
              "</style>\n",
              "<table border=\"1\" class=\"dataframe\">\n",
              "  <thead>\n",
              "    <tr style=\"text-align: right;\">\n",
              "      <th></th>\n",
              "      <th>State</th>\n",
              "      <th>Account length</th>\n",
              "      <th>Area code</th>\n",
              "      <th>International plan</th>\n",
              "      <th>Voice mail plan</th>\n",
              "      <th>Number vmail messages</th>\n",
              "      <th>Total day minutes</th>\n",
              "      <th>Total day calls</th>\n",
              "      <th>Total day charge</th>\n",
              "      <th>Total eve minutes</th>\n",
              "      <th>Total eve calls</th>\n",
              "      <th>Total eve charge</th>\n",
              "      <th>Total night minutes</th>\n",
              "      <th>Total night calls</th>\n",
              "      <th>Total night charge</th>\n",
              "      <th>Total intl minutes</th>\n",
              "      <th>Total intl calls</th>\n",
              "      <th>Total intl charge</th>\n",
              "      <th>Customer service calls</th>\n",
              "      <th>Churn</th>\n",
              "    </tr>\n",
              "  </thead>\n",
              "  <tbody>\n",
              "    <tr>\n",
              "      <th>3328</th>\n",
              "      <td>AZ</td>\n",
              "      <td>192</td>\n",
              "      <td>415</td>\n",
              "      <td>No</td>\n",
              "      <td>Yes</td>\n",
              "      <td>36</td>\n",
              "      <td>156.2</td>\n",
              "      <td>77</td>\n",
              "      <td>26.55</td>\n",
              "      <td>215.5</td>\n",
              "      <td>126</td>\n",
              "      <td>18.32</td>\n",
              "      <td>279.1</td>\n",
              "      <td>83</td>\n",
              "      <td>12.56</td>\n",
              "      <td>9.9</td>\n",
              "      <td>6</td>\n",
              "      <td>2.67</td>\n",
              "      <td>2</td>\n",
              "      <td>False</td>\n",
              "    </tr>\n",
              "    <tr>\n",
              "      <th>3329</th>\n",
              "      <td>WV</td>\n",
              "      <td>68</td>\n",
              "      <td>415</td>\n",
              "      <td>No</td>\n",
              "      <td>No</td>\n",
              "      <td>0</td>\n",
              "      <td>231.1</td>\n",
              "      <td>57</td>\n",
              "      <td>39.29</td>\n",
              "      <td>153.4</td>\n",
              "      <td>55</td>\n",
              "      <td>13.04</td>\n",
              "      <td>191.3</td>\n",
              "      <td>123</td>\n",
              "      <td>8.61</td>\n",
              "      <td>9.6</td>\n",
              "      <td>4</td>\n",
              "      <td>2.59</td>\n",
              "      <td>3</td>\n",
              "      <td>False</td>\n",
              "    </tr>\n",
              "    <tr>\n",
              "      <th>3330</th>\n",
              "      <td>RI</td>\n",
              "      <td>28</td>\n",
              "      <td>510</td>\n",
              "      <td>No</td>\n",
              "      <td>No</td>\n",
              "      <td>0</td>\n",
              "      <td>180.8</td>\n",
              "      <td>109</td>\n",
              "      <td>30.74</td>\n",
              "      <td>288.8</td>\n",
              "      <td>58</td>\n",
              "      <td>24.55</td>\n",
              "      <td>191.9</td>\n",
              "      <td>91</td>\n",
              "      <td>8.64</td>\n",
              "      <td>14.1</td>\n",
              "      <td>6</td>\n",
              "      <td>3.81</td>\n",
              "      <td>2</td>\n",
              "      <td>False</td>\n",
              "    </tr>\n",
              "    <tr>\n",
              "      <th>3331</th>\n",
              "      <td>CT</td>\n",
              "      <td>184</td>\n",
              "      <td>510</td>\n",
              "      <td>Yes</td>\n",
              "      <td>No</td>\n",
              "      <td>0</td>\n",
              "      <td>213.8</td>\n",
              "      <td>105</td>\n",
              "      <td>36.35</td>\n",
              "      <td>159.6</td>\n",
              "      <td>84</td>\n",
              "      <td>13.57</td>\n",
              "      <td>139.2</td>\n",
              "      <td>137</td>\n",
              "      <td>6.26</td>\n",
              "      <td>5.0</td>\n",
              "      <td>10</td>\n",
              "      <td>1.35</td>\n",
              "      <td>2</td>\n",
              "      <td>False</td>\n",
              "    </tr>\n",
              "    <tr>\n",
              "      <th>3332</th>\n",
              "      <td>TN</td>\n",
              "      <td>74</td>\n",
              "      <td>415</td>\n",
              "      <td>No</td>\n",
              "      <td>Yes</td>\n",
              "      <td>25</td>\n",
              "      <td>234.4</td>\n",
              "      <td>113</td>\n",
              "      <td>39.85</td>\n",
              "      <td>265.9</td>\n",
              "      <td>82</td>\n",
              "      <td>22.60</td>\n",
              "      <td>241.4</td>\n",
              "      <td>77</td>\n",
              "      <td>10.86</td>\n",
              "      <td>13.7</td>\n",
              "      <td>4</td>\n",
              "      <td>3.70</td>\n",
              "      <td>0</td>\n",
              "      <td>False</td>\n",
              "    </tr>\n",
              "  </tbody>\n",
              "</table>\n",
              "</div>\n",
              "      <button class=\"colab-df-convert\" onclick=\"convertToInteractive('df-608ca459-a7c1-4466-a2d1-e0498329419f')\"\n",
              "              title=\"Convert this dataframe to an interactive table.\"\n",
              "              style=\"display:none;\">\n",
              "        \n",
              "  <svg xmlns=\"http://www.w3.org/2000/svg\" height=\"24px\"viewBox=\"0 0 24 24\"\n",
              "       width=\"24px\">\n",
              "    <path d=\"M0 0h24v24H0V0z\" fill=\"none\"/>\n",
              "    <path d=\"M18.56 5.44l.94 2.06.94-2.06 2.06-.94-2.06-.94-.94-2.06-.94 2.06-2.06.94zm-11 1L8.5 8.5l.94-2.06 2.06-.94-2.06-.94L8.5 2.5l-.94 2.06-2.06.94zm10 10l.94 2.06.94-2.06 2.06-.94-2.06-.94-.94-2.06-.94 2.06-2.06.94z\"/><path d=\"M17.41 7.96l-1.37-1.37c-.4-.4-.92-.59-1.43-.59-.52 0-1.04.2-1.43.59L10.3 9.45l-7.72 7.72c-.78.78-.78 2.05 0 2.83L4 21.41c.39.39.9.59 1.41.59.51 0 1.02-.2 1.41-.59l7.78-7.78 2.81-2.81c.8-.78.8-2.07 0-2.86zM5.41 20L4 18.59l7.72-7.72 1.47 1.35L5.41 20z\"/>\n",
              "  </svg>\n",
              "      </button>\n",
              "      \n",
              "  <style>\n",
              "    .colab-df-container {\n",
              "      display:flex;\n",
              "      flex-wrap:wrap;\n",
              "      gap: 12px;\n",
              "    }\n",
              "\n",
              "    .colab-df-convert {\n",
              "      background-color: #E8F0FE;\n",
              "      border: none;\n",
              "      border-radius: 50%;\n",
              "      cursor: pointer;\n",
              "      display: none;\n",
              "      fill: #1967D2;\n",
              "      height: 32px;\n",
              "      padding: 0 0 0 0;\n",
              "      width: 32px;\n",
              "    }\n",
              "\n",
              "    .colab-df-convert:hover {\n",
              "      background-color: #E2EBFA;\n",
              "      box-shadow: 0px 1px 2px rgba(60, 64, 67, 0.3), 0px 1px 3px 1px rgba(60, 64, 67, 0.15);\n",
              "      fill: #174EA6;\n",
              "    }\n",
              "\n",
              "    [theme=dark] .colab-df-convert {\n",
              "      background-color: #3B4455;\n",
              "      fill: #D2E3FC;\n",
              "    }\n",
              "\n",
              "    [theme=dark] .colab-df-convert:hover {\n",
              "      background-color: #434B5C;\n",
              "      box-shadow: 0px 1px 3px 1px rgba(0, 0, 0, 0.15);\n",
              "      filter: drop-shadow(0px 1px 2px rgba(0, 0, 0, 0.3));\n",
              "      fill: #FFFFFF;\n",
              "    }\n",
              "  </style>\n",
              "\n",
              "      <script>\n",
              "        const buttonEl =\n",
              "          document.querySelector('#df-608ca459-a7c1-4466-a2d1-e0498329419f button.colab-df-convert');\n",
              "        buttonEl.style.display =\n",
              "          google.colab.kernel.accessAllowed ? 'block' : 'none';\n",
              "\n",
              "        async function convertToInteractive(key) {\n",
              "          const element = document.querySelector('#df-608ca459-a7c1-4466-a2d1-e0498329419f');\n",
              "          const dataTable =\n",
              "            await google.colab.kernel.invokeFunction('convertToInteractive',\n",
              "                                                     [key], {});\n",
              "          if (!dataTable) return;\n",
              "\n",
              "          const docLinkHtml = 'Like what you see? Visit the ' +\n",
              "            '<a target=\"_blank\" href=https://colab.research.google.com/notebooks/data_table.ipynb>data table notebook</a>'\n",
              "            + ' to learn more about interactive tables.';\n",
              "          element.innerHTML = '';\n",
              "          dataTable['output_type'] = 'display_data';\n",
              "          await google.colab.output.renderOutput(dataTable, element);\n",
              "          const docLink = document.createElement('div');\n",
              "          docLink.innerHTML = docLinkHtml;\n",
              "          element.appendChild(docLink);\n",
              "        }\n",
              "      </script>\n",
              "    </div>\n",
              "  </div>\n",
              "  "
            ]
          },
          "metadata": {},
          "execution_count": 578
        }
      ],
      "source": [
        "#Using tail() function to see last 5 records\n",
        "telecom.tail()"
      ]
    },
    {
      "cell_type": "markdown",
      "metadata": {
        "id": "wAbcUaQQZ2t4"
      },
      "source": [
        "# **From the shape attribute, we can see the shape of the data i.e number of records and number of columns in the dataframe.**"
      ]
    },
    {
      "cell_type": "code",
      "execution_count": 579,
      "metadata": {
        "colab": {
          "base_uri": "https://localhost:8080/"
        },
        "id": "tZ7lipl8XLo3",
        "outputId": "b30dcfaf-1c60-4980-d859-05df9deb9956"
      },
      "outputs": [
        {
          "output_type": "execute_result",
          "data": {
            "text/plain": [
              "(3333, 20)"
            ]
          },
          "metadata": {},
          "execution_count": 579
        }
      ],
      "source": [
        "#shape of the dataframe\n",
        "telecom.shape"
      ]
    },
    {
      "cell_type": "code",
      "execution_count": 580,
      "metadata": {
        "colab": {
          "base_uri": "https://localhost:8080/"
        },
        "id": "xf6A2ocAiFs1",
        "outputId": "709b3e28-1d38-4ab4-c491-17f320627d44"
      },
      "outputs": [
        {
          "output_type": "stream",
          "name": "stdout",
          "text": [
            "Rows     :  3333\n",
            "Columns  :  20\n"
          ]
        }
      ],
      "source": [
        "#Printing number of rows and coloumns present in dataframe\n",
        "print (\"Rows     : \" ,telecom.shape[0])\n",
        "print (\"Columns  : \" ,telecom.shape[1])"
      ]
    },
    {
      "cell_type": "markdown",
      "metadata": {
        "id": "GJi_FRbiZMjT"
      },
      "source": [
        "# **Let’s see the columns(features) in our telecom dataframe.**"
      ]
    },
    {
      "cell_type": "code",
      "execution_count": 581,
      "metadata": {
        "colab": {
          "base_uri": "https://localhost:8080/"
        },
        "id": "Rxe5ZSwbPSAv",
        "outputId": "0c8d30a9-64e6-416b-df0e-76f413400898"
      },
      "outputs": [
        {
          "output_type": "execute_result",
          "data": {
            "text/plain": [
              "Index(['State', 'Account length', 'Area code', 'International plan',\n",
              "       'Voice mail plan', 'Number vmail messages', 'Total day minutes',\n",
              "       'Total day calls', 'Total day charge', 'Total eve minutes',\n",
              "       'Total eve calls', 'Total eve charge', 'Total night minutes',\n",
              "       'Total night calls', 'Total night charge', 'Total intl minutes',\n",
              "       'Total intl calls', 'Total intl charge', 'Customer service calls',\n",
              "       'Churn'],\n",
              "      dtype='object')"
            ]
          },
          "metadata": {},
          "execution_count": 581
        }
      ],
      "source": [
        "#columns of the dataframe\n",
        "telecom.columns"
      ]
    },
    {
      "cell_type": "code",
      "execution_count": 582,
      "metadata": {
        "colab": {
          "base_uri": "https://localhost:8080/"
        },
        "id": "kmWdW4ngnQ5U",
        "outputId": "e010ee75-bf3b-497f-ab58-f860b4c8b381"
      },
      "outputs": [
        {
          "output_type": "stream",
          "name": "stdout",
          "text": [
            "Features: \n",
            " ['State', 'Account length', 'Area code', 'International plan', 'Voice mail plan', 'Number vmail messages', 'Total day minutes', 'Total day calls', 'Total day charge', 'Total eve minutes', 'Total eve calls', 'Total eve charge', 'Total night minutes', 'Total night calls', 'Total night charge', 'Total intl minutes', 'Total intl calls', 'Total intl charge', 'Customer service calls', 'Churn']\n"
          ]
        }
      ],
      "source": [
        "#Printing the list of columns(features) in dataframe\n",
        "print(\"Features: \\n\" ,telecom.columns.tolist())"
      ]
    },
    {
      "cell_type": "code",
      "execution_count": 583,
      "metadata": {
        "colab": {
          "base_uri": "https://localhost:8080/"
        },
        "id": "L-kAEJFXpX32",
        "outputId": "7156e0f6-6137-48c3-a346-aa200c617f5b"
      },
      "outputs": [
        {
          "output_type": "stream",
          "name": "stdout",
          "text": [
            "Unique values :\n",
            " State                       51\n",
            "Account length             212\n",
            "Area code                    3\n",
            "International plan           2\n",
            "Voice mail plan              2\n",
            "Number vmail messages       46\n",
            "Total day minutes         1667\n",
            "Total day calls            119\n",
            "Total day charge          1667\n",
            "Total eve minutes         1611\n",
            "Total eve calls            123\n",
            "Total eve charge          1440\n",
            "Total night minutes       1591\n",
            "Total night calls          120\n",
            "Total night charge         933\n",
            "Total intl minutes         162\n",
            "Total intl calls            21\n",
            "Total intl charge          162\n",
            "Customer service calls      10\n",
            "Churn                        2\n",
            "dtype: int64\n"
          ]
        }
      ],
      "source": [
        "#Checking for the unique values in each column\n",
        "print (\"Unique values :\\n\",telecom.nunique())"
      ]
    },
    {
      "cell_type": "markdown",
      "metadata": {
        "id": "bGzp8qkgqjOR"
      },
      "source": [
        "### From above we can see that there are 51 unique states and 3 unique area code."
      ]
    },
    {
      "cell_type": "code",
      "execution_count": 584,
      "metadata": {
        "colab": {
          "base_uri": "https://localhost:8080/"
        },
        "id": "j23PLnl4kBji",
        "outputId": "be063259-a693-4e74-fc6b-802c7c5e4484"
      },
      "outputs": [
        {
          "output_type": "stream",
          "name": "stdout",
          "text": [
            "Unique States: \n",
            " ['KS' 'OH' 'NJ' 'OK' 'AL' 'MA' 'MO' 'LA' 'WV' 'IN' 'RI' 'IA' 'MT' 'NY'\n",
            " 'ID' 'VT' 'VA' 'TX' 'FL' 'CO' 'AZ' 'SC' 'NE' 'WY' 'HI' 'IL' 'NH' 'GA'\n",
            " 'AK' 'MD' 'AR' 'WI' 'OR' 'MI' 'DE' 'UT' 'CA' 'MN' 'SD' 'NC' 'WA' 'NM'\n",
            " 'NV' 'DC' 'KY' 'ME' 'MS' 'TN' 'PA' 'CT' 'ND']\n"
          ]
        }
      ],
      "source": [
        "#Unique states in dataframe\n",
        "print(\"Unique States: \\n\",telecom['State'].unique())"
      ]
    },
    {
      "cell_type": "code",
      "execution_count": 585,
      "metadata": {
        "colab": {
          "base_uri": "https://localhost:8080/"
        },
        "id": "nlzzBgSNlnlK",
        "outputId": "1251fec8-6f71-42fa-9f3b-b26eaa919656"
      },
      "outputs": [
        {
          "output_type": "stream",
          "name": "stdout",
          "text": [
            "Unique Area Code :  [415, 408, 510]\n"
          ]
        }
      ],
      "source": [
        "#Unique Area Codes in dataframe\n",
        "print(\"Unique Area Code : \",telecom['Area code'].unique().tolist())"
      ]
    },
    {
      "cell_type": "markdown",
      "metadata": {
        "id": "JGxnmL1Jc81z"
      },
      "source": [
        "# **Using describe() function to generate descriptive statistics of the data.**"
      ]
    },
    {
      "cell_type": "code",
      "execution_count": 586,
      "metadata": {
        "colab": {
          "base_uri": "https://localhost:8080/",
          "height": 399
        },
        "id": "jD5UAcvzP1fZ",
        "outputId": "e8e82122-718e-44a2-b281-e0608d659095"
      },
      "outputs": [
        {
          "output_type": "execute_result",
          "data": {
            "text/plain": [
              "       Account length    Area code  Number vmail messages  Total day minutes  \\\n",
              "count     3333.000000  3333.000000            3333.000000        3333.000000   \n",
              "mean       101.064806   437.182418               8.099010         179.775098   \n",
              "std         39.822106    42.371290              13.688365          54.467389   \n",
              "min          1.000000   408.000000               0.000000           0.000000   \n",
              "25%         74.000000   408.000000               0.000000         143.700000   \n",
              "50%        101.000000   415.000000               0.000000         179.400000   \n",
              "75%        127.000000   510.000000              20.000000         216.400000   \n",
              "max        243.000000   510.000000              51.000000         350.800000   \n",
              "\n",
              "       Total day calls  Total day charge  Total eve minutes  Total eve calls  \\\n",
              "count      3333.000000       3333.000000        3333.000000      3333.000000   \n",
              "mean        100.435644         30.562307         200.980348       100.114311   \n",
              "std          20.069084          9.259435          50.713844        19.922625   \n",
              "min           0.000000          0.000000           0.000000         0.000000   \n",
              "25%          87.000000         24.430000         166.600000        87.000000   \n",
              "50%         101.000000         30.500000         201.400000       100.000000   \n",
              "75%         114.000000         36.790000         235.300000       114.000000   \n",
              "max         165.000000         59.640000         363.700000       170.000000   \n",
              "\n",
              "       Total eve charge  Total night minutes  Total night calls  \\\n",
              "count       3333.000000          3333.000000        3333.000000   \n",
              "mean          17.083540           200.872037         100.107711   \n",
              "std            4.310668            50.573847          19.568609   \n",
              "min            0.000000            23.200000          33.000000   \n",
              "25%           14.160000           167.000000          87.000000   \n",
              "50%           17.120000           201.200000         100.000000   \n",
              "75%           20.000000           235.300000         113.000000   \n",
              "max           30.910000           395.000000         175.000000   \n",
              "\n",
              "       Total night charge  Total intl minutes  Total intl calls  \\\n",
              "count         3333.000000         3333.000000       3333.000000   \n",
              "mean             9.039325           10.237294          4.479448   \n",
              "std              2.275873            2.791840          2.461214   \n",
              "min              1.040000            0.000000          0.000000   \n",
              "25%              7.520000            8.500000          3.000000   \n",
              "50%              9.050000           10.300000          4.000000   \n",
              "75%             10.590000           12.100000          6.000000   \n",
              "max             17.770000           20.000000         20.000000   \n",
              "\n",
              "       Total intl charge  Customer service calls  \n",
              "count        3333.000000             3333.000000  \n",
              "mean            2.764581                1.562856  \n",
              "std             0.753773                1.315491  \n",
              "min             0.000000                0.000000  \n",
              "25%             2.300000                1.000000  \n",
              "50%             2.780000                1.000000  \n",
              "75%             3.270000                2.000000  \n",
              "max             5.400000                9.000000  "
            ],
            "text/html": [
              "\n",
              "  <div id=\"df-9c692134-5fb2-4941-8b51-99d1bd66347a\">\n",
              "    <div class=\"colab-df-container\">\n",
              "      <div>\n",
              "<style scoped>\n",
              "    .dataframe tbody tr th:only-of-type {\n",
              "        vertical-align: middle;\n",
              "    }\n",
              "\n",
              "    .dataframe tbody tr th {\n",
              "        vertical-align: top;\n",
              "    }\n",
              "\n",
              "    .dataframe thead th {\n",
              "        text-align: right;\n",
              "    }\n",
              "</style>\n",
              "<table border=\"1\" class=\"dataframe\">\n",
              "  <thead>\n",
              "    <tr style=\"text-align: right;\">\n",
              "      <th></th>\n",
              "      <th>Account length</th>\n",
              "      <th>Area code</th>\n",
              "      <th>Number vmail messages</th>\n",
              "      <th>Total day minutes</th>\n",
              "      <th>Total day calls</th>\n",
              "      <th>Total day charge</th>\n",
              "      <th>Total eve minutes</th>\n",
              "      <th>Total eve calls</th>\n",
              "      <th>Total eve charge</th>\n",
              "      <th>Total night minutes</th>\n",
              "      <th>Total night calls</th>\n",
              "      <th>Total night charge</th>\n",
              "      <th>Total intl minutes</th>\n",
              "      <th>Total intl calls</th>\n",
              "      <th>Total intl charge</th>\n",
              "      <th>Customer service calls</th>\n",
              "    </tr>\n",
              "  </thead>\n",
              "  <tbody>\n",
              "    <tr>\n",
              "      <th>count</th>\n",
              "      <td>3333.000000</td>\n",
              "      <td>3333.000000</td>\n",
              "      <td>3333.000000</td>\n",
              "      <td>3333.000000</td>\n",
              "      <td>3333.000000</td>\n",
              "      <td>3333.000000</td>\n",
              "      <td>3333.000000</td>\n",
              "      <td>3333.000000</td>\n",
              "      <td>3333.000000</td>\n",
              "      <td>3333.000000</td>\n",
              "      <td>3333.000000</td>\n",
              "      <td>3333.000000</td>\n",
              "      <td>3333.000000</td>\n",
              "      <td>3333.000000</td>\n",
              "      <td>3333.000000</td>\n",
              "      <td>3333.000000</td>\n",
              "    </tr>\n",
              "    <tr>\n",
              "      <th>mean</th>\n",
              "      <td>101.064806</td>\n",
              "      <td>437.182418</td>\n",
              "      <td>8.099010</td>\n",
              "      <td>179.775098</td>\n",
              "      <td>100.435644</td>\n",
              "      <td>30.562307</td>\n",
              "      <td>200.980348</td>\n",
              "      <td>100.114311</td>\n",
              "      <td>17.083540</td>\n",
              "      <td>200.872037</td>\n",
              "      <td>100.107711</td>\n",
              "      <td>9.039325</td>\n",
              "      <td>10.237294</td>\n",
              "      <td>4.479448</td>\n",
              "      <td>2.764581</td>\n",
              "      <td>1.562856</td>\n",
              "    </tr>\n",
              "    <tr>\n",
              "      <th>std</th>\n",
              "      <td>39.822106</td>\n",
              "      <td>42.371290</td>\n",
              "      <td>13.688365</td>\n",
              "      <td>54.467389</td>\n",
              "      <td>20.069084</td>\n",
              "      <td>9.259435</td>\n",
              "      <td>50.713844</td>\n",
              "      <td>19.922625</td>\n",
              "      <td>4.310668</td>\n",
              "      <td>50.573847</td>\n",
              "      <td>19.568609</td>\n",
              "      <td>2.275873</td>\n",
              "      <td>2.791840</td>\n",
              "      <td>2.461214</td>\n",
              "      <td>0.753773</td>\n",
              "      <td>1.315491</td>\n",
              "    </tr>\n",
              "    <tr>\n",
              "      <th>min</th>\n",
              "      <td>1.000000</td>\n",
              "      <td>408.000000</td>\n",
              "      <td>0.000000</td>\n",
              "      <td>0.000000</td>\n",
              "      <td>0.000000</td>\n",
              "      <td>0.000000</td>\n",
              "      <td>0.000000</td>\n",
              "      <td>0.000000</td>\n",
              "      <td>0.000000</td>\n",
              "      <td>23.200000</td>\n",
              "      <td>33.000000</td>\n",
              "      <td>1.040000</td>\n",
              "      <td>0.000000</td>\n",
              "      <td>0.000000</td>\n",
              "      <td>0.000000</td>\n",
              "      <td>0.000000</td>\n",
              "    </tr>\n",
              "    <tr>\n",
              "      <th>25%</th>\n",
              "      <td>74.000000</td>\n",
              "      <td>408.000000</td>\n",
              "      <td>0.000000</td>\n",
              "      <td>143.700000</td>\n",
              "      <td>87.000000</td>\n",
              "      <td>24.430000</td>\n",
              "      <td>166.600000</td>\n",
              "      <td>87.000000</td>\n",
              "      <td>14.160000</td>\n",
              "      <td>167.000000</td>\n",
              "      <td>87.000000</td>\n",
              "      <td>7.520000</td>\n",
              "      <td>8.500000</td>\n",
              "      <td>3.000000</td>\n",
              "      <td>2.300000</td>\n",
              "      <td>1.000000</td>\n",
              "    </tr>\n",
              "    <tr>\n",
              "      <th>50%</th>\n",
              "      <td>101.000000</td>\n",
              "      <td>415.000000</td>\n",
              "      <td>0.000000</td>\n",
              "      <td>179.400000</td>\n",
              "      <td>101.000000</td>\n",
              "      <td>30.500000</td>\n",
              "      <td>201.400000</td>\n",
              "      <td>100.000000</td>\n",
              "      <td>17.120000</td>\n",
              "      <td>201.200000</td>\n",
              "      <td>100.000000</td>\n",
              "      <td>9.050000</td>\n",
              "      <td>10.300000</td>\n",
              "      <td>4.000000</td>\n",
              "      <td>2.780000</td>\n",
              "      <td>1.000000</td>\n",
              "    </tr>\n",
              "    <tr>\n",
              "      <th>75%</th>\n",
              "      <td>127.000000</td>\n",
              "      <td>510.000000</td>\n",
              "      <td>20.000000</td>\n",
              "      <td>216.400000</td>\n",
              "      <td>114.000000</td>\n",
              "      <td>36.790000</td>\n",
              "      <td>235.300000</td>\n",
              "      <td>114.000000</td>\n",
              "      <td>20.000000</td>\n",
              "      <td>235.300000</td>\n",
              "      <td>113.000000</td>\n",
              "      <td>10.590000</td>\n",
              "      <td>12.100000</td>\n",
              "      <td>6.000000</td>\n",
              "      <td>3.270000</td>\n",
              "      <td>2.000000</td>\n",
              "    </tr>\n",
              "    <tr>\n",
              "      <th>max</th>\n",
              "      <td>243.000000</td>\n",
              "      <td>510.000000</td>\n",
              "      <td>51.000000</td>\n",
              "      <td>350.800000</td>\n",
              "      <td>165.000000</td>\n",
              "      <td>59.640000</td>\n",
              "      <td>363.700000</td>\n",
              "      <td>170.000000</td>\n",
              "      <td>30.910000</td>\n",
              "      <td>395.000000</td>\n",
              "      <td>175.000000</td>\n",
              "      <td>17.770000</td>\n",
              "      <td>20.000000</td>\n",
              "      <td>20.000000</td>\n",
              "      <td>5.400000</td>\n",
              "      <td>9.000000</td>\n",
              "    </tr>\n",
              "  </tbody>\n",
              "</table>\n",
              "</div>\n",
              "      <button class=\"colab-df-convert\" onclick=\"convertToInteractive('df-9c692134-5fb2-4941-8b51-99d1bd66347a')\"\n",
              "              title=\"Convert this dataframe to an interactive table.\"\n",
              "              style=\"display:none;\">\n",
              "        \n",
              "  <svg xmlns=\"http://www.w3.org/2000/svg\" height=\"24px\"viewBox=\"0 0 24 24\"\n",
              "       width=\"24px\">\n",
              "    <path d=\"M0 0h24v24H0V0z\" fill=\"none\"/>\n",
              "    <path d=\"M18.56 5.44l.94 2.06.94-2.06 2.06-.94-2.06-.94-.94-2.06-.94 2.06-2.06.94zm-11 1L8.5 8.5l.94-2.06 2.06-.94-2.06-.94L8.5 2.5l-.94 2.06-2.06.94zm10 10l.94 2.06.94-2.06 2.06-.94-2.06-.94-.94-2.06-.94 2.06-2.06.94z\"/><path d=\"M17.41 7.96l-1.37-1.37c-.4-.4-.92-.59-1.43-.59-.52 0-1.04.2-1.43.59L10.3 9.45l-7.72 7.72c-.78.78-.78 2.05 0 2.83L4 21.41c.39.39.9.59 1.41.59.51 0 1.02-.2 1.41-.59l7.78-7.78 2.81-2.81c.8-.78.8-2.07 0-2.86zM5.41 20L4 18.59l7.72-7.72 1.47 1.35L5.41 20z\"/>\n",
              "  </svg>\n",
              "      </button>\n",
              "      \n",
              "  <style>\n",
              "    .colab-df-container {\n",
              "      display:flex;\n",
              "      flex-wrap:wrap;\n",
              "      gap: 12px;\n",
              "    }\n",
              "\n",
              "    .colab-df-convert {\n",
              "      background-color: #E8F0FE;\n",
              "      border: none;\n",
              "      border-radius: 50%;\n",
              "      cursor: pointer;\n",
              "      display: none;\n",
              "      fill: #1967D2;\n",
              "      height: 32px;\n",
              "      padding: 0 0 0 0;\n",
              "      width: 32px;\n",
              "    }\n",
              "\n",
              "    .colab-df-convert:hover {\n",
              "      background-color: #E2EBFA;\n",
              "      box-shadow: 0px 1px 2px rgba(60, 64, 67, 0.3), 0px 1px 3px 1px rgba(60, 64, 67, 0.15);\n",
              "      fill: #174EA6;\n",
              "    }\n",
              "\n",
              "    [theme=dark] .colab-df-convert {\n",
              "      background-color: #3B4455;\n",
              "      fill: #D2E3FC;\n",
              "    }\n",
              "\n",
              "    [theme=dark] .colab-df-convert:hover {\n",
              "      background-color: #434B5C;\n",
              "      box-shadow: 0px 1px 3px 1px rgba(0, 0, 0, 0.15);\n",
              "      filter: drop-shadow(0px 1px 2px rgba(0, 0, 0, 0.3));\n",
              "      fill: #FFFFFF;\n",
              "    }\n",
              "  </style>\n",
              "\n",
              "      <script>\n",
              "        const buttonEl =\n",
              "          document.querySelector('#df-9c692134-5fb2-4941-8b51-99d1bd66347a button.colab-df-convert');\n",
              "        buttonEl.style.display =\n",
              "          google.colab.kernel.accessAllowed ? 'block' : 'none';\n",
              "\n",
              "        async function convertToInteractive(key) {\n",
              "          const element = document.querySelector('#df-9c692134-5fb2-4941-8b51-99d1bd66347a');\n",
              "          const dataTable =\n",
              "            await google.colab.kernel.invokeFunction('convertToInteractive',\n",
              "                                                     [key], {});\n",
              "          if (!dataTable) return;\n",
              "\n",
              "          const docLinkHtml = 'Like what you see? Visit the ' +\n",
              "            '<a target=\"_blank\" href=https://colab.research.google.com/notebooks/data_table.ipynb>data table notebook</a>'\n",
              "            + ' to learn more about interactive tables.';\n",
              "          element.innerHTML = '';\n",
              "          dataTable['output_type'] = 'display_data';\n",
              "          await google.colab.output.renderOutput(dataTable, element);\n",
              "          const docLink = document.createElement('div');\n",
              "          docLink.innerHTML = docLinkHtml;\n",
              "          element.appendChild(docLink);\n",
              "        }\n",
              "      </script>\n",
              "    </div>\n",
              "  </div>\n",
              "  "
            ]
          },
          "metadata": {},
          "execution_count": 586
        }
      ],
      "source": [
        "#generating descriptive statistics of the data\n",
        "telecom.describe()"
      ]
    },
    {
      "cell_type": "markdown",
      "metadata": {
        "id": "0hXxBjnyxGqW"
      },
      "source": [
        "Inference:\n",
        "\n",
        "1. Number voice mail messages is ranging from 0 to 51. \n",
        "2. Only 25% of customers are using voice mail messages.\n",
        "3. Average call minutes in evening and night are higher than the average call minutes in day but average day charge is higher than the charge in evening and night.\n",
        "4. Maximum international call minutes are 20 only."
      ]
    },
    {
      "cell_type": "markdown",
      "metadata": {
        "id": "kMP1K3Hb4bEz"
      },
      "source": [
        "According to my hypothesis:\n",
        "\n",
        "1. Customers prefer night calls due to lower charges.\n",
        "2. Customers are not prefering international calls due to higher charges.\n",
        "3. Corporation should consider lowering the call rates to increase the total number of calls."
      ]
    },
    {
      "cell_type": "markdown",
      "metadata": {
        "id": "wBP6ebj0drxL"
      },
      "source": [
        "# **Getting information about the DataFrame using info() method.**"
      ]
    },
    {
      "cell_type": "code",
      "execution_count": 587,
      "metadata": {
        "colab": {
          "base_uri": "https://localhost:8080/"
        },
        "id": "SWSvSvKrPo8d",
        "outputId": "8d399b26-23cf-4455-fbe7-578e82707885"
      },
      "outputs": [
        {
          "output_type": "stream",
          "name": "stdout",
          "text": [
            "<class 'pandas.core.frame.DataFrame'>\n",
            "RangeIndex: 3333 entries, 0 to 3332\n",
            "Data columns (total 20 columns):\n",
            " #   Column                  Non-Null Count  Dtype  \n",
            "---  ------                  --------------  -----  \n",
            " 0   State                   3333 non-null   object \n",
            " 1   Account length          3333 non-null   int64  \n",
            " 2   Area code               3333 non-null   int64  \n",
            " 3   International plan      3333 non-null   object \n",
            " 4   Voice mail plan         3333 non-null   object \n",
            " 5   Number vmail messages   3333 non-null   int64  \n",
            " 6   Total day minutes       3333 non-null   float64\n",
            " 7   Total day calls         3333 non-null   int64  \n",
            " 8   Total day charge        3333 non-null   float64\n",
            " 9   Total eve minutes       3333 non-null   float64\n",
            " 10  Total eve calls         3333 non-null   int64  \n",
            " 11  Total eve charge        3333 non-null   float64\n",
            " 12  Total night minutes     3333 non-null   float64\n",
            " 13  Total night calls       3333 non-null   int64  \n",
            " 14  Total night charge      3333 non-null   float64\n",
            " 15  Total intl minutes      3333 non-null   float64\n",
            " 16  Total intl calls        3333 non-null   int64  \n",
            " 17  Total intl charge       3333 non-null   float64\n",
            " 18  Customer service calls  3333 non-null   int64  \n",
            " 19  Churn                   3333 non-null   bool   \n",
            "dtypes: bool(1), float64(8), int64(8), object(3)\n",
            "memory usage: 498.1+ KB\n"
          ]
        }
      ],
      "source": [
        "telecom.info()"
      ]
    },
    {
      "cell_type": "code",
      "execution_count": 588,
      "metadata": {
        "colab": {
          "base_uri": "https://localhost:8080/"
        },
        "id": "1aj_HsELABtL",
        "outputId": "778a8e81-cd23-4ebd-98a5-ab2626b76108"
      },
      "outputs": [
        {
          "output_type": "stream",
          "name": "stdout",
          "text": [
            "Missing values :   0\n"
          ]
        }
      ],
      "source": [
        "#Printing number of null(missing) values\n",
        "print(\"Missing values :  \", telecom.isnull().sum().values.sum())"
      ]
    },
    {
      "cell_type": "markdown",
      "metadata": {
        "id": "RNlLe8KhAHkk"
      },
      "source": [
        "### From above we can see that there is no null(missing) value in our dataframe."
      ]
    },
    {
      "cell_type": "markdown",
      "metadata": {
        "id": "o0yHxvFGgfS7"
      },
      "source": [
        "# **Variable Breakdown**\n",
        "\n",
        "**STATE:** 51 Unique States.\n",
        "\n",
        "**Account Length:** Length of the account\n",
        "\n",
        "\n",
        "**Area Code:** 415 relates to San Francisco, 408 is of San Jose and 510 is of City of Oakland.\n",
        "\n",
        "\n",
        "**International Plan:** 'Yes' indicates International Plan is present and 'No' indicates no subscription for International Plan.\n",
        "\n",
        "\n",
        "**Voice Mail Plan:** 'Yes' indicates Voice Mail Plan is present and 'No' indicates no subscription for Voice Mail Plan.\n",
        "\n",
        "\n",
        "**Number vmail messages:** Number of Voice Mail Messages ranging from 0 to 51.\n",
        "\n",
        "\n",
        "**Total day minutes:** Total number of Minutes spent by customers in morning.\n",
        "\n",
        "\n",
        "**Total day calls:** Total number of Calls made by customer in morning.\n",
        "\n",
        "\n",
        "**Total day charge:** Total charge to the customers in morning.\n",
        "\n",
        "\n",
        "**Total eve minutes:** Total number of Minutes spent by customers in evening.\n",
        "\n",
        "\n",
        "**Total eve calls:** Total number of Calls made by customer in evening.\n",
        "\n",
        "\n",
        "**Total eve charge:** Total Charge to the customers in morning.\n",
        "\n",
        "\n",
        "**Total night minutes:** Total number of Minutes spent by customers in the night.\n",
        "\n",
        "\n",
        "**Total night calls:** Total number of Calls made by customer in night.\n",
        "\n",
        "\n",
        "**Total night charge:** Total Charge to the customers in night.\n",
        "\n",
        "**Total intl minutes:** Total number of Minutes spent by customers for International Calls.\n",
        "\n",
        "**Total intl calls:** Total number of International Calls.\n",
        "\n",
        "**Total intl charge:** Total Charge to the customers for International Calls.\n",
        "\n",
        "**Customer service calls:** Total number of Customer Service Calls.\n",
        "\n",
        "**Churn:** Target Variable"
      ]
    },
    {
      "cell_type": "markdown",
      "metadata": {
        "id": "0j72wwf44ump"
      },
      "source": [
        "# **Checking the Churn Rate**"
      ]
    },
    {
      "cell_type": "code",
      "execution_count": 589,
      "metadata": {
        "colab": {
          "base_uri": "https://localhost:8080/",
          "height": 375
        },
        "id": "ga9XeuTgZOR-",
        "outputId": "223367ff-25ce-4e5a-d600-965ff813658f"
      },
      "outputs": [
        {
          "output_type": "display_data",
          "data": {
            "text/plain": [
              "<Figure size 432x432 with 1 Axes>"
            ],
            "image/png": "[encoded data removed]"
          },
          "metadata": {}
        }
      ],
      "source": [
        "#setting figure size\n",
        "fig = plt.figure(figsize=(6,6))\n",
        "\n",
        "#define Seaborn color palette to use\n",
        "colors = sns.color_palette('bright')[7:10]\n",
        "\n",
        "#create pie chart\n",
        "plt.pie(telecom['Churn'].value_counts(), labels = telecom['Churn'].value_counts().keys().tolist(), colors = colors, autopct='%.0f%%')\n",
        "plt.title(\"Customer attrition in data\", fontsize= 15)\n",
        "plt.show()"
      ]
    },
    {
      "cell_type": "code",
      "execution_count": 590,
      "metadata": {
        "colab": {
          "base_uri": "https://localhost:8080/",
          "height": 434
        },
        "id": "9LZhphSp1iim",
        "outputId": "ee340f4f-cdab-44f9-862b-bba7bf2b36ad"
      },
      "outputs": [
        {
          "output_type": "display_data",
          "data": {
            "text/plain": [
              "<Figure size 576x432 with 1 Axes>"
            ],
            "image/png": "[encoded data removed]"
          },
          "metadata": {
            "needs_background": "light"
          }
        }
      ],
      "source": [
        "# bar chart to display churn rate\n",
        "telecom['Churn'].value_counts().plot(kind='bar', figsize=(8, 6))\n",
        "plt.xlabel(\"Count\", labelpad=14, fontsize = 12)\n",
        "plt.ylabel(\"Target Variable\", labelpad=14, fontsize = 12)\n",
        "plt.title(\"Customer attrition in data\", fontsize = 15)\n",
        "plt.show()"
      ]
    },
    {
      "cell_type": "code",
      "execution_count": 591,
      "metadata": {
        "colab": {
          "base_uri": "https://localhost:8080/"
        },
        "id": "yrNySjrd4M11",
        "outputId": "c3f65a78-16e2-45e5-97b7-4f0156c95056"
      },
      "outputs": [
        {
          "output_type": "execute_result",
          "data": {
            "text/plain": [
              "False    2850\n",
              "True      483\n",
              "Name: Churn, dtype: int64"
            ]
          },
          "metadata": {},
          "execution_count": 591
        }
      ],
      "source": [
        "#Let’s see the value count of our target variable\n",
        "telecom['Churn'].value_counts()"
      ]
    },
    {
      "cell_type": "markdown",
      "metadata": {
        "id": "TYmpfpNh53GM"
      },
      "source": [
        "Inference:\n",
        "\n",
        "1. From above observation, we can conclude that our dataset is not balanced i.e. True is 483(~14%) and False is 2850 ( ~86%).\n",
        "\n",
        "2. So we will analyze the data with other features while taking the target values separately to get some insights.\n",
        "\n",
        "3. Analysis shows that churn rate of the telecom company is 14%."
      ]
    },
    {
      "cell_type": "code",
      "execution_count": 592,
      "metadata": {
        "colab": {
          "base_uri": "https://localhost:8080/",
          "height": 285
        },
        "id": "o42GUAjl7Bpe",
        "outputId": "82a9ad7a-9efe-403c-a01d-a534ac5b0469"
      },
      "outputs": [
        {
          "output_type": "execute_result",
          "data": {
            "text/plain": [
              "  State  Area code International plan Voice mail plan  Number vmail messages  \\\n",
              "0    KS        415                 No             Yes                     25   \n",
              "1    OH        415                 No             Yes                     26   \n",
              "2    NJ        415                 No              No                      0   \n",
              "3    OH        408                Yes              No                      0   \n",
              "4    OK        415                Yes              No                      0   \n",
              "\n",
              "   Total day minutes  Total day calls  Total day charge  Total eve minutes  \\\n",
              "0              265.1              110             45.07              197.4   \n",
              "1              161.6              123             27.47              195.5   \n",
              "2              243.4              114             41.38              121.2   \n",
              "3              299.4               71             50.90               61.9   \n",
              "4              166.7              113             28.34              148.3   \n",
              "\n",
              "   Total eve calls  Total eve charge  Total night minutes  Total night calls  \\\n",
              "0               99             16.78                244.7                 91   \n",
              "1              103             16.62                254.4                103   \n",
              "2              110             10.30                162.6                104   \n",
              "3               88              5.26                196.9                 89   \n",
              "4              122             12.61                186.9                121   \n",
              "\n",
              "   Total night charge  Total intl minutes  Total intl calls  \\\n",
              "0               11.01                10.0                 3   \n",
              "1               11.45                13.7                 3   \n",
              "2                7.32                12.2                 5   \n",
              "3                8.86                 6.6                 7   \n",
              "4                8.41                10.1                 3   \n",
              "\n",
              "   Total intl charge  Customer service calls  Churn  \n",
              "0               2.70                       1  False  \n",
              "1               3.70                       1  False  \n",
              "2               3.29                       0  False  \n",
              "3               1.78                       2  False  \n",
              "4               2.73                       3  False  "
            ],
            "text/html": [
              "\n",
              "  <div id=\"df-17fb1192-cc93-4442-ac87-957cb07238c6\">\n",
              "    <div class=\"colab-df-container\">\n",
              "      <div>\n",
              "<style scoped>\n",
              "    .dataframe tbody tr th:only-of-type {\n",
              "        vertical-align: middle;\n",
              "    }\n",
              "\n",
              "    .dataframe tbody tr th {\n",
              "        vertical-align: top;\n",
              "    }\n",
              "\n",
              "    .dataframe thead th {\n",
              "        text-align: right;\n",
              "    }\n",
              "</style>\n",
              "<table border=\"1\" class=\"dataframe\">\n",
              "  <thead>\n",
              "    <tr style=\"text-align: right;\">\n",
              "      <th></th>\n",
              "      <th>State</th>\n",
              "      <th>Area code</th>\n",
              "      <th>International plan</th>\n",
              "      <th>Voice mail plan</th>\n",
              "      <th>Number vmail messages</th>\n",
              "      <th>Total day minutes</th>\n",
              "      <th>Total day calls</th>\n",
              "      <th>Total day charge</th>\n",
              "      <th>Total eve minutes</th>\n",
              "      <th>Total eve calls</th>\n",
              "      <th>Total eve charge</th>\n",
              "      <th>Total night minutes</th>\n",
              "      <th>Total night calls</th>\n",
              "      <th>Total night charge</th>\n",
              "      <th>Total intl minutes</th>\n",
              "      <th>Total intl calls</th>\n",
              "      <th>Total intl charge</th>\n",
              "      <th>Customer service calls</th>\n",
              "      <th>Churn</th>\n",
              "    </tr>\n",
              "  </thead>\n",
              "  <tbody>\n",
              "    <tr>\n",
              "      <th>0</th>\n",
              "      <td>KS</td>\n",
              "      <td>415</td>\n",
              "      <td>No</td>\n",
              "      <td>Yes</td>\n",
              "      <td>25</td>\n",
              "      <td>265.1</td>\n",
              "      <td>110</td>\n",
              "      <td>45.07</td>\n",
              "      <td>197.4</td>\n",
              "      <td>99</td>\n",
              "      <td>16.78</td>\n",
              "      <td>244.7</td>\n",
              "      <td>91</td>\n",
              "      <td>11.01</td>\n",
              "      <td>10.0</td>\n",
              "      <td>3</td>\n",
              "      <td>2.70</td>\n",
              "      <td>1</td>\n",
              "      <td>False</td>\n",
              "    </tr>\n",
              "    <tr>\n",
              "      <th>1</th>\n",
              "      <td>OH</td>\n",
              "      <td>415</td>\n",
              "      <td>No</td>\n",
              "      <td>Yes</td>\n",
              "      <td>26</td>\n",
              "      <td>161.6</td>\n",
              "      <td>123</td>\n",
              "      <td>27.47</td>\n",
              "      <td>195.5</td>\n",
              "      <td>103</td>\n",
              "      <td>16.62</td>\n",
              "      <td>254.4</td>\n",
              "      <td>103</td>\n",
              "      <td>11.45</td>\n",
              "      <td>13.7</td>\n",
              "      <td>3</td>\n",
              "      <td>3.70</td>\n",
              "      <td>1</td>\n",
              "      <td>False</td>\n",
              "    </tr>\n",
              "    <tr>\n",
              "      <th>2</th>\n",
              "      <td>NJ</td>\n",
              "      <td>415</td>\n",
              "      <td>No</td>\n",
              "      <td>No</td>\n",
              "      <td>0</td>\n",
              "      <td>243.4</td>\n",
              "      <td>114</td>\n",
              "      <td>41.38</td>\n",
              "      <td>121.2</td>\n",
              "      <td>110</td>\n",
              "      <td>10.30</td>\n",
              "      <td>162.6</td>\n",
              "      <td>104</td>\n",
              "      <td>7.32</td>\n",
              "      <td>12.2</td>\n",
              "      <td>5</td>\n",
              "      <td>3.29</td>\n",
              "      <td>0</td>\n",
              "      <td>False</td>\n",
              "    </tr>\n",
              "    <tr>\n",
              "      <th>3</th>\n",
              "      <td>OH</td>\n",
              "      <td>408</td>\n",
              "      <td>Yes</td>\n",
              "      <td>No</td>\n",
              "      <td>0</td>\n",
              "      <td>299.4</td>\n",
              "      <td>71</td>\n",
              "      <td>50.90</td>\n",
              "      <td>61.9</td>\n",
              "      <td>88</td>\n",
              "      <td>5.26</td>\n",
              "      <td>196.9</td>\n",
              "      <td>89</td>\n",
              "      <td>8.86</td>\n",
              "      <td>6.6</td>\n",
              "      <td>7</td>\n",
              "      <td>1.78</td>\n",
              "      <td>2</td>\n",
              "      <td>False</td>\n",
              "    </tr>\n",
              "    <tr>\n",
              "      <th>4</th>\n",
              "      <td>OK</td>\n",
              "      <td>415</td>\n",
              "      <td>Yes</td>\n",
              "      <td>No</td>\n",
              "      <td>0</td>\n",
              "      <td>166.7</td>\n",
              "      <td>113</td>\n",
              "      <td>28.34</td>\n",
              "      <td>148.3</td>\n",
              "      <td>122</td>\n",
              "      <td>12.61</td>\n",
              "      <td>186.9</td>\n",
              "      <td>121</td>\n",
              "      <td>8.41</td>\n",
              "      <td>10.1</td>\n",
              "      <td>3</td>\n",
              "      <td>2.73</td>\n",
              "      <td>3</td>\n",
              "      <td>False</td>\n",
              "    </tr>\n",
              "  </tbody>\n",
              "</table>\n",
              "</div>\n",
              "      <button class=\"colab-df-convert\" onclick=\"convertToInteractive('df-17fb1192-cc93-4442-ac87-957cb07238c6')\"\n",
              "              title=\"Convert this dataframe to an interactive table.\"\n",
              "              style=\"display:none;\">\n",
              "        \n",
              "  <svg xmlns=\"http://www.w3.org/2000/svg\" height=\"24px\"viewBox=\"0 0 24 24\"\n",
              "       width=\"24px\">\n",
              "    <path d=\"M0 0h24v24H0V0z\" fill=\"none\"/>\n",
              "    <path d=\"M18.56 5.44l.94 2.06.94-2.06 2.06-.94-2.06-.94-.94-2.06-.94 2.06-2.06.94zm-11 1L8.5 8.5l.94-2.06 2.06-.94-2.06-.94L8.5 2.5l-.94 2.06-2.06.94zm10 10l.94 2.06.94-2.06 2.06-.94-2.06-.94-.94-2.06-.94 2.06-2.06.94z\"/><path d=\"M17.41 7.96l-1.37-1.37c-.4-.4-.92-.59-1.43-.59-.52 0-1.04.2-1.43.59L10.3 9.45l-7.72 7.72c-.78.78-.78 2.05 0 2.83L4 21.41c.39.39.9.59 1.41.59.51 0 1.02-.2 1.41-.59l7.78-7.78 2.81-2.81c.8-.78.8-2.07 0-2.86zM5.41 20L4 18.59l7.72-7.72 1.47 1.35L5.41 20z\"/>\n",
              "  </svg>\n",
              "      </button>\n",
              "      \n",
              "  <style>\n",
              "    .colab-df-container {\n",
              "      display:flex;\n",
              "      flex-wrap:wrap;\n",
              "      gap: 12px;\n",
              "    }\n",
              "\n",
              "    .colab-df-convert {\n",
              "      background-color: #E8F0FE;\n",
              "      border: none;\n",
              "      border-radius: 50%;\n",
              "      cursor: pointer;\n",
              "      display: none;\n",
              "      fill: #1967D2;\n",
              "      height: 32px;\n",
              "      padding: 0 0 0 0;\n",
              "      width: 32px;\n",
              "    }\n",
              "\n",
              "    .colab-df-convert:hover {\n",
              "      background-color: #E2EBFA;\n",
              "      box-shadow: 0px 1px 2px rgba(60, 64, 67, 0.3), 0px 1px 3px 1px rgba(60, 64, 67, 0.15);\n",
              "      fill: #174EA6;\n",
              "    }\n",
              "\n",
              "    [theme=dark] .colab-df-convert {\n",
              "      background-color: #3B4455;\n",
              "      fill: #D2E3FC;\n",
              "    }\n",
              "\n",
              "    [theme=dark] .colab-df-convert:hover {\n",
              "      background-color: #434B5C;\n",
              "      box-shadow: 0px 1px 3px 1px rgba(0, 0, 0, 0.15);\n",
              "      filter: drop-shadow(0px 1px 2px rgba(0, 0, 0, 0.3));\n",
              "      fill: #FFFFFF;\n",
              "    }\n",
              "  </style>\n",
              "\n",
              "      <script>\n",
              "        const buttonEl =\n",
              "          document.querySelector('#df-17fb1192-cc93-4442-ac87-957cb07238c6 button.colab-df-convert');\n",
              "        buttonEl.style.display =\n",
              "          google.colab.kernel.accessAllowed ? 'block' : 'none';\n",
              "\n",
              "        async function convertToInteractive(key) {\n",
              "          const element = document.querySelector('#df-17fb1192-cc93-4442-ac87-957cb07238c6');\n",
              "          const dataTable =\n",
              "            await google.colab.kernel.invokeFunction('convertToInteractive',\n",
              "                                                     [key], {});\n",
              "          if (!dataTable) return;\n",
              "\n",
              "          const docLinkHtml = 'Like what you see? Visit the ' +\n",
              "            '<a target=\"_blank\" href=https://colab.research.google.com/notebooks/data_table.ipynb>data table notebook</a>'\n",
              "            + ' to learn more about interactive tables.';\n",
              "          element.innerHTML = '';\n",
              "          dataTable['output_type'] = 'display_data';\n",
              "          await google.colab.output.renderOutput(dataTable, element);\n",
              "          const docLink = document.createElement('div');\n",
              "          docLink.innerHTML = docLinkHtml;\n",
              "          element.appendChild(docLink);\n",
              "        }\n",
              "      </script>\n",
              "    </div>\n",
              "  </div>\n",
              "  "
            ]
          },
          "metadata": {},
          "execution_count": 592
        }
      ],
      "source": [
        "#making copy of original dataframe to do further analysis\n",
        "telecom_data = telecom.copy()\n",
        "\n",
        "#Dropping Account Length as it doesn't make a sense here\n",
        "telecom_data = telecom_data.drop('Account length',axis=1)\n",
        "telecom_data.head()"
      ]
    },
    {
      "cell_type": "markdown",
      "metadata": {
        "id": "RZZF_9zG_FEX"
      },
      "source": [
        "# **Churn According to States**"
      ]
    },
    {
      "cell_type": "code",
      "execution_count": 593,
      "metadata": {
        "colab": {
          "base_uri": "https://localhost:8080/",
          "height": 612
        },
        "id": "H3UUoDB8zC-L",
        "outputId": "32061e2f-6933-41cc-f704-e30ca77f990c"
      },
      "outputs": [
        {
          "output_type": "display_data",
          "data": {
            "text/plain": [
              "<Figure size 1584x720 with 1 Axes>"
            ],
            "image/png": "[encoded data removed]"
          },
          "metadata": {
            "needs_background": "light"
          }
        }
      ],
      "source": [
        "#setting figure size\n",
        "fig = plt.figure(figsize=(22,10))\n",
        "\n",
        "#count plot to display Churn According to States\n",
        "sns.countplot(data=telecom_data, x='State', hue='Churn')\n",
        "plt.xlabel(\"States\", labelpad=14, fontsize = 12)\n",
        "plt.ylabel(\"Count\", labelpad=14, fontsize = 12)\n",
        "plt.title(\"Churn According to States\", fontsize = 15)\n",
        "plt.show()"
      ]
    },
    {
      "cell_type": "markdown",
      "metadata": {
        "id": "YXj-rtTc2DZa"
      },
      "source": [
        "Inference:\n",
        "\n",
        "1. New Jersey,Texas and Maryland have a bit more churn rate than usual.\n",
        "\n",
        "According to my hypothesis:\n",
        "\n",
        "1. Due to low network quality, network upgradation is suggested in these areas.\n"
      ]
    },
    {
      "cell_type": "markdown",
      "metadata": {
        "id": "cJpFpbTe_JZF"
      },
      "source": [
        "# **Churn According to Area Code**"
      ]
    },
    {
      "cell_type": "code",
      "execution_count": 594,
      "metadata": {
        "colab": {
          "base_uri": "https://localhost:8080/",
          "height": 365
        },
        "id": "oNwb8Chy4agb",
        "outputId": "5931c20a-026c-49b7-b22e-8d09fef757a5"
      },
      "outputs": [
        {
          "output_type": "display_data",
          "data": {
            "text/plain": [
              "<Figure size 576x360 with 1 Axes>"
            ],
            "image/png": "[encoded data removed]"
          },
          "metadata": {
            "needs_background": "light"
          }
        }
      ],
      "source": [
        "#setting figure size\n",
        "fig = plt.figure(figsize=(8,5))\n",
        "\n",
        "#count plot to display Churn According to Area code\n",
        "sns.countplot(data=telecom_data, x='Area code', hue='Churn')\n",
        "plt.xlabel(\"Area code\", labelpad=14, fontsize = 12)\n",
        "plt.ylabel(\"Count\", labelpad=14, fontsize = 12)\n",
        "plt.title(\"Churn According to Area Code\", fontsize = 15)\n",
        "plt.show()"
      ]
    },
    {
      "cell_type": "markdown",
      "metadata": {
        "id": "lVFZIDFh7ChU"
      },
      "source": [
        "Inference:\n",
        "\n",
        "1. Orange S.A. has more customers in San Francisco  as compared to San Jose and City of Oakland.\n",
        "\n",
        "According to my hypothesis:\n",
        "\n",
        "1. Network upgradation is suggested in San Jose and City of Oakland to increase the customers.\n",
        "\n",
        "\n",
        "\n"
      ]
    },
    {
      "cell_type": "markdown",
      "metadata": {
        "id": "fHi1AiwUCbC8"
      },
      "source": [
        "# **Churn According to International Plan**"
      ]
    },
    {
      "cell_type": "code",
      "execution_count": 595,
      "metadata": {
        "colab": {
          "base_uri": "https://localhost:8080/",
          "height": 365
        },
        "id": "RsoxckQgAutR",
        "outputId": "3d07f7dd-980f-4b0c-daea-e8f6c8b01475"
      },
      "outputs": [
        {
          "output_type": "display_data",
          "data": {
            "text/plain": [
              "<Figure size 576x360 with 1 Axes>"
            ],
            "image/png": "[encoded data removed]"
          },
          "metadata": {
            "needs_background": "light"
          }
        }
      ],
      "source": [
        "#setting figure size\n",
        "fig = plt.figure(figsize=(8,5))\n",
        "\n",
        "#count plot to display Churn According to International Plan\n",
        "sns.countplot(data=telecom_data, x='International plan', hue='Churn')\n",
        "plt.xlabel(\"International Plan\", labelpad=14, fontsize = 12)\n",
        "plt.ylabel(\"Count\", labelpad=14, fontsize = 12)\n",
        "plt.title(\"Churn According to International Plan\", fontsize = 15)\n",
        "plt.show()"
      ]
    },
    {
      "cell_type": "markdown",
      "metadata": {
        "id": "SkSKSp1kBAoS"
      },
      "source": [
        "Inference:\n",
        "\n",
        "1. Customers with International plan has more churn rate than customers who are not having International plans.\n",
        "\n",
        "According to my hypothesis:\n",
        "\n",
        "1. Network upgradation is suggested to reduce churn rate."
      ]
    },
    {
      "cell_type": "markdown",
      "metadata": {
        "id": "1Dus4GodX-AL"
      },
      "source": [
        "# **Checking Voice-Mail Feature**"
      ]
    },
    {
      "cell_type": "code",
      "execution_count": 596,
      "metadata": {
        "colab": {
          "base_uri": "https://localhost:8080/",
          "height": 419
        },
        "id": "lVcaucCTX5-V",
        "outputId": "cce3b448-99f2-4e2b-aacc-9a59ddc871b5"
      },
      "outputs": [
        {
          "output_type": "display_data",
          "data": {
            "text/plain": [
              "<Figure size 576x432 with 1 Axes>"
            ],
            "image/png": "[encoded data removed]"
          },
          "metadata": {
            "needs_background": "light"
          }
        }
      ],
      "source": [
        "#checking voice mail features\n",
        "\n",
        "#setting figure size\n",
        "fig = plt.figure(figsize=(8,6))\n",
        "\n",
        "#Creating boxplot\n",
        "sns.boxplot(y= telecom_data['Number vmail messages'], x = telecom_data['Churn'])\n",
        "plt.xlabel(\"Churn\", labelpad=14, fontsize = 12)\n",
        "plt.ylabel(\"Number vmail messages\", labelpad=14, fontsize = 12)\n",
        "plt.title(\"Voice Mail feature\", fontsize = 15)\n",
        "plt.show()"
      ]
    },
    {
      "cell_type": "markdown",
      "metadata": {
        "id": "tKtDHuXtYHyw"
      },
      "source": [
        "Inference:\n",
        "\n",
        "1. From above we can observe that there is a higher churn for customers who are using more than 20 voice-mail messages.\n",
        "\n",
        "2. Certainly, the churn is indicating that we need to improve our voice-mail feature or set a limit and then check whether a customer is retained.\n",
        "\n",
        "According to my hypothesis :\n",
        "\n",
        "1. Setting a limit upto 22 voice mails on voice mail service.\n",
        "\n",
        "2. Improving voice-mail service.\n",
        "\n",
        "3. There is a quality drop in voice-mail after 22 voice mails. "
      ]
    },
    {
      "cell_type": "markdown",
      "metadata": {
        "id": "cz3gCDEQ2fBu"
      },
      "source": [
        "# **Total Day Minutes affecting the churn rate**"
      ]
    },
    {
      "cell_type": "code",
      "execution_count": 597,
      "metadata": {
        "colab": {
          "base_uri": "https://localhost:8080/"
        },
        "id": "-SSf0xXI2rDW",
        "outputId": "2fff10b6-a5be-498d-a893-61a8cf977713"
      },
      "outputs": [
        {
          "output_type": "stream",
          "name": "stdout",
          "text": [
            "Maximum number of minutes: 350.8\n",
            "Minimum number of minutes: 0.0\n",
            "Average number of minutes: 179.77509750975116\n"
          ]
        }
      ],
      "source": [
        "#Printing maximum, minimum and average number of minutes in morning\n",
        "\n",
        "print('Maximum number of minutes:',telecom_data['Total day minutes'].max())\n",
        "print('Minimum number of minutes:',telecom_data['Total day minutes'].min())\n",
        "print('Average number of minutes:',telecom_data['Total day minutes'].mean())"
      ]
    },
    {
      "cell_type": "code",
      "execution_count": 598,
      "metadata": {
        "colab": {
          "base_uri": "https://localhost:8080/",
          "height": 419
        },
        "id": "f_FsDArz2zZl",
        "outputId": "c06dae9f-d71d-40a3-ef17-296a96427363"
      },
      "outputs": [
        {
          "output_type": "display_data",
          "data": {
            "text/plain": [
              "<Figure size 576x432 with 1 Axes>"
            ],
            "image/png": "[encoded data removed]"
          },
          "metadata": {
            "needs_background": "light"
          }
        }
      ],
      "source": [
        "#Total Day Minutes affecting the churn rate\n",
        "\n",
        "#setting figure size\n",
        "fig = plt.figure(figsize=(8,6))\n",
        "\n",
        "#Creating boxplot\n",
        "sns.boxplot(y= telecom_data['Total day minutes'], x = telecom_data['Churn'])\n",
        "plt.xlabel(\"Churn\", labelpad=14, fontsize = 12)\n",
        "plt.ylabel(\"Total day minutes\", labelpad=14, fontsize = 12)\n",
        "plt.title(\"Total Day Minutes affecting the Churn Rate\", fontsize = 15)\n",
        "plt.show()"
      ]
    },
    {
      "cell_type": "markdown",
      "metadata": {
        "id": "934VyUqC29C3"
      },
      "source": [
        "Inference:\n",
        "\n",
        "1. From above boxplot, we can observe that the customer who spends more than 225 minutes are more likely to switch to other operator.\n",
        "\n",
        "According to my hypothesis:\n",
        "\n",
        "1. One of the major reason for customer churn could be network disturbance during calls.\n",
        "2. Network improvement or smarter technology is required to improve voice quality."
      ]
    },
    {
      "cell_type": "markdown",
      "metadata": {
        "id": "7iO-dOBt3XeM"
      },
      "source": [
        "# **Total Day Calls affecting the churn rate**"
      ]
    },
    {
      "cell_type": "code",
      "execution_count": 599,
      "metadata": {
        "colab": {
          "base_uri": "https://localhost:8080/"
        },
        "id": "6VZsFt6x25MF",
        "outputId": "2d080c00-6912-4d30-885d-8fb864a35a8d"
      },
      "outputs": [
        {
          "output_type": "stream",
          "name": "stdout",
          "text": [
            "Minimum number of calls: 0\n",
            "Maximum number of calls: 165\n",
            "Average number of calls: 100.43564356435644\n"
          ]
        }
      ],
      "source": [
        "#Printing maximum, minimum and average number of calls in morning\n",
        "\n",
        "print('Minimum number of calls:',telecom_data['Total day calls'].min())\n",
        "print('Maximum number of calls:',telecom_data['Total day calls'].max())\n",
        "print('Average number of calls:',telecom_data['Total day calls'].mean())"
      ]
    },
    {
      "cell_type": "code",
      "execution_count": 600,
      "metadata": {
        "colab": {
          "base_uri": "https://localhost:8080/",
          "height": 419
        },
        "id": "ZDYbxPlb3g1L",
        "outputId": "86122c73-f64c-4abe-9e52-53b31732dcf3"
      },
      "outputs": [
        {
          "output_type": "display_data",
          "data": {
            "text/plain": [
              "<Figure size 576x432 with 1 Axes>"
            ],
            "image/png": "[encoded data removed]"
          },
          "metadata": {
            "needs_background": "light"
          }
        }
      ],
      "source": [
        "#Total Day Calls affecting the churn rate\n",
        "\n",
        "#setting figure size\n",
        "fig = plt.figure(figsize=(8,6))\n",
        "\n",
        "#Creating boxplot\n",
        "sns.boxplot(y= telecom_data['Total day calls'], x = telecom_data['Churn'])\n",
        "plt.xlabel(\"Churn\", labelpad=14, fontsize = 12)\n",
        "plt.ylabel(\"Total day calls\", labelpad=14, fontsize = 12)\n",
        "plt.title(\"Total Day Calls affecting the Churn Rate\", fontsize = 15)\n",
        "plt.show()"
      ]
    },
    {
      "cell_type": "markdown",
      "metadata": {
        "id": "YpBI47ir3n_9"
      },
      "source": [
        "Inference:\n",
        "\n",
        "1. From above boxplot, we can observe that the customers with average of more than 100 calls are more likely to churn.\n",
        "\n",
        "According to my hypothesis:\n",
        "\n",
        "1. Need to improve on call drops as it could be a reason for more number of calls in morning."
      ]
    },
    {
      "cell_type": "markdown",
      "metadata": {
        "id": "ig3yo2kB31uK"
      },
      "source": [
        "# **Total Day Charge affecting the churn rate**"
      ]
    },
    {
      "cell_type": "code",
      "execution_count": 601,
      "metadata": {
        "colab": {
          "base_uri": "https://localhost:8080/"
        },
        "id": "a4q81i2Z35OR",
        "outputId": "ef21fd42-9c9f-4d77-d4af-c3b69e679c0f"
      },
      "outputs": [
        {
          "output_type": "stream",
          "name": "stdout",
          "text": [
            "Maximum call charge in morning: 59.64\n",
            "Minimum call charge in morning: 0.0\n",
            "Average call charge in morning: 30.562307230723093\n"
          ]
        }
      ],
      "source": [
        "#Printing maximum, minimum and average call charge in morning\n",
        "\n",
        "print('Maximum call charge in morning:',telecom_data['Total day charge'].max())\n",
        "print('Minimum call charge in morning:',telecom_data['Total day charge'].min())\n",
        "print('Average call charge in morning:',telecom_data['Total day charge'].mean())"
      ]
    },
    {
      "cell_type": "code",
      "execution_count": 602,
      "metadata": {
        "colab": {
          "base_uri": "https://localhost:8080/",
          "height": 419
        },
        "id": "kfZhN5n639XZ",
        "outputId": "2a70ac9c-0814-4304-fadc-843dc3f8f8c6"
      },
      "outputs": [
        {
          "output_type": "display_data",
          "data": {
            "text/plain": [
              "<Figure size 576x432 with 1 Axes>"
            ],
            "image/png": "[encoded data removed]"
          },
          "metadata": {
            "needs_background": "light"
          }
        }
      ],
      "source": [
        "#Total Day Charge affecting the churn rate\n",
        "\n",
        "#setting figure size\n",
        "fig = plt.figure(figsize=(8,6))\n",
        "\n",
        "#Creating boxplot\n",
        "sns.boxplot(y= telecom_data['Total day charge'], x = telecom_data['Churn'])\n",
        "plt.xlabel(\"Churn\", labelpad=14, fontsize = 12)\n",
        "plt.ylabel(\"Total day charge\", labelpad=14, fontsize = 12)\n",
        "plt.title(\"Total Day Charge affecting the Churn Rate\", fontsize = 15)\n",
        "plt.show()"
      ]
    },
    {
      "cell_type": "markdown",
      "metadata": {
        "id": "WFh0QCBK4Bh5"
      },
      "source": [
        "Inference:\n",
        "\n",
        "1. From above boxplot, we can observe that customers who spend more time(thereby paying higher charges) on the network are more likely to churn.\n",
        "\n",
        "According to my hypothesis:\n",
        "\n",
        "1. Need of price optimization.\n",
        "2. Corporation can include discount in pricing strategy for the customers who are spending more time on the network."
      ]
    },
    {
      "cell_type": "markdown",
      "metadata": {
        "id": "vRI-NWT_lSjV"
      },
      "source": [
        "# **Total Evening Minutes affecting the churn rate**"
      ]
    },
    {
      "cell_type": "code",
      "execution_count": 603,
      "metadata": {
        "colab": {
          "base_uri": "https://localhost:8080/"
        },
        "id": "C_pGbWD9lZbg",
        "outputId": "13eb7fdc-a4e3-4af1-e153-5250eef2b3ea"
      },
      "outputs": [
        {
          "output_type": "stream",
          "name": "stdout",
          "text": [
            "Maximum number of minutes: 363.7\n",
            "Minimum number of minutes: 0.0\n",
            "Average number of minutes: 200.98034803480346\n"
          ]
        }
      ],
      "source": [
        "#Printing maximum, minimum and average number of minutes in evening\n",
        "\n",
        "print('Maximum number of minutes:',telecom_data['Total eve minutes'].max())\n",
        "print('Minimum number of minutes:',telecom_data['Total eve minutes'].min())\n",
        "print('Average number of minutes:',telecom_data['Total eve minutes'].mean())"
      ]
    },
    {
      "cell_type": "code",
      "execution_count": 604,
      "metadata": {
        "colab": {
          "base_uri": "https://localhost:8080/",
          "height": 419
        },
        "id": "-e3tEVMklcrt",
        "outputId": "3bed0fbb-6317-4fe6-87c5-d6eabbf8eb9b"
      },
      "outputs": [
        {
          "output_type": "display_data",
          "data": {
            "text/plain": [
              "<Figure size 576x432 with 1 Axes>"
            ],
            "image/png": "[encoded data removed]"
          },
          "metadata": {
            "needs_background": "light"
          }
        }
      ],
      "source": [
        "#Total Evening Minutes affecting the churn rate\n",
        "\n",
        "#setting figure size\n",
        "fig = plt.figure(figsize=(8,6))\n",
        "\n",
        "#Creating boxplot\n",
        "sns.boxplot(y= telecom_data['Total eve minutes'], x = telecom_data['Churn'])\n",
        "plt.xlabel(\"Churn\", labelpad=14, fontsize = 12)\n",
        "plt.ylabel(\"Total evening minutes\", labelpad=14, fontsize = 12)\n",
        "plt.title(\"Total Evening Minutes affecting the Churn Rate\", fontsize = 15)\n",
        "plt.show()"
      ]
    },
    {
      "cell_type": "markdown",
      "metadata": {
        "id": "BuBX7NrNlnBL"
      },
      "source": [
        "Inference:\n",
        "\n",
        "1. From above boxplot, we can observe that the customer who spends 235 minutes or more are more likely to switch to other operator.\n",
        "\n",
        "\n",
        "According to my hypothesis:\n",
        "\n",
        "1. One of the major reason for customer churn could be network disturbance during calls.\n",
        "2. Network improvement or smarter technology is required to improve voice quality."
      ]
    },
    {
      "cell_type": "markdown",
      "metadata": {
        "id": "fumgTp3zl0rb"
      },
      "source": [
        "# **Total Evening Calls affecting the churn rate**"
      ]
    },
    {
      "cell_type": "code",
      "execution_count": 605,
      "metadata": {
        "colab": {
          "base_uri": "https://localhost:8080/"
        },
        "id": "pqhoCmWfl8Ob",
        "outputId": "140800ea-7ee9-4dbc-a96a-0bb780a9081f"
      },
      "outputs": [
        {
          "output_type": "stream",
          "name": "stdout",
          "text": [
            "Maximum number of calls: 170\n",
            "Minimum number of calls: 0\n",
            "Average number of calls: 100.11431143114311\n"
          ]
        }
      ],
      "source": [
        "#Printing maximum, minimum and average number of calls in evening\n",
        "\n",
        "print('Maximum number of calls:',telecom_data['Total eve calls'].max())\n",
        "print('Minimum number of calls:',telecom_data['Total eve calls'].min())\n",
        "print('Average number of calls:',telecom_data['Total eve calls'].mean())"
      ]
    },
    {
      "cell_type": "code",
      "execution_count": 606,
      "metadata": {
        "colab": {
          "base_uri": "https://localhost:8080/",
          "height": 419
        },
        "id": "ilsgs6WWl-oK",
        "outputId": "d347ae97-5705-4462-9828-0e2661eb2985"
      },
      "outputs": [
        {
          "output_type": "display_data",
          "data": {
            "text/plain": [
              "<Figure size 576x432 with 1 Axes>"
            ],
            "image/png": "[encoded data removed]"
          },
          "metadata": {
            "needs_background": "light"
          }
        }
      ],
      "source": [
        "#Total Evening Calls affecting the churn rate\n",
        "\n",
        "#setting figure size\n",
        "fig = plt.figure(figsize=(8,6))\n",
        "\n",
        "#Creating boxplot\n",
        "sns.boxplot(y= telecom_data['Total eve calls'], x = telecom_data['Churn'])\n",
        "plt.xlabel(\"Churn\", labelpad=14, fontsize = 12)\n",
        "plt.ylabel(\"Total evening calls\", labelpad=14, fontsize = 12)\n",
        "plt.title(\"Total Evening Calls affecting the Churn Rate\", fontsize = 15)\n",
        "plt.show()"
      ]
    },
    {
      "cell_type": "markdown",
      "metadata": {
        "id": "i97XCoZ7mCWK"
      },
      "source": [
        "Inference:\n",
        "\n",
        "1. From above boxplot, we can observe that on an average 100 calls are made which is a good indication for the corporation.\n",
        "\n",
        "2. We can also observe that the customers with average of more than 100 calls are more likely to churn due to call drop.\n",
        "\n",
        "According to my hypothesis:\n",
        "\n",
        "1. Need to improve on call drops as it could be a reason for more number of calls in evening."
      ]
    },
    {
      "cell_type": "markdown",
      "metadata": {
        "id": "hwWjA2dgmWkz"
      },
      "source": [
        "# **Total Evening Charge affecting the churn rate**"
      ]
    },
    {
      "cell_type": "code",
      "execution_count": 607,
      "metadata": {
        "colab": {
          "base_uri": "https://localhost:8080/"
        },
        "id": "os_0qa7AmfxA",
        "outputId": "274f7fed-bcf7-4995-c668-6091c9ccaad5"
      },
      "outputs": [
        {
          "output_type": "stream",
          "name": "stdout",
          "text": [
            "Maximum call charge in evening: 30.91\n",
            "Minimum call charge in evening: 0.0\n",
            "Average call charge in evening: 17.083540354035392\n"
          ]
        }
      ],
      "source": [
        "#Printing maximum, minimum and average call charge in evening\n",
        "\n",
        "print('Maximum call charge in evening:',telecom_data['Total eve charge'].max())\n",
        "print('Minimum call charge in evening:',telecom_data['Total eve charge'].min())\n",
        "print('Average call charge in evening:',telecom_data['Total eve charge'].mean())"
      ]
    },
    {
      "cell_type": "code",
      "execution_count": 608,
      "metadata": {
        "colab": {
          "base_uri": "https://localhost:8080/",
          "height": 419
        },
        "id": "08F1ONBumlVI",
        "outputId": "8d97eba5-8754-4f88-e0bc-56479134dc6b"
      },
      "outputs": [
        {
          "output_type": "display_data",
          "data": {
            "text/plain": [
              "<Figure size 576x432 with 1 Axes>"
            ],
            "image/png": "[encoded data removed]"
          },
          "metadata": {
            "needs_background": "light"
          }
        }
      ],
      "source": [
        "#Total Evening Charge affecting the churn rate\n",
        "\n",
        "#setting figure size\n",
        "fig = plt.figure(figsize=(8,6))\n",
        "\n",
        "#Creating boxplot\n",
        "sns.boxplot(y= telecom_data['Total eve charge'], x = telecom_data['Churn'])\n",
        "plt.xlabel(\"Churn\", labelpad=14, fontsize = 12)\n",
        "plt.ylabel(\"Total eve charge\", labelpad=14, fontsize = 12)\n",
        "plt.title(\"Total Evening Charge affecting the Churn Rate\", fontsize = 15)\n",
        "plt.show()"
      ]
    },
    {
      "cell_type": "markdown",
      "metadata": {
        "id": "Gv6cXkS4mp4L"
      },
      "source": [
        "Inference:\n",
        "\n",
        "1. Optimization of charges would lead to loyal customers.\n",
        "\n",
        "According to my hypothesis:\n",
        "\n",
        "1. As the average charge of churn and non-churn customer is almost same, where the reason for churn could be that some customers are not finding the network quality worth it.\n",
        "2. Need of price optimization.\n",
        "3. Network upgradation is suggested."
      ]
    },
    {
      "cell_type": "markdown",
      "metadata": {
        "id": "h0J0DM4v-e0z"
      },
      "source": [
        "# **Total Night Minutes affecting the churn rate**"
      ]
    },
    {
      "cell_type": "code",
      "execution_count": 609,
      "metadata": {
        "colab": {
          "base_uri": "https://localhost:8080/"
        },
        "id": "B-69fPZ2-jKN",
        "outputId": "93fa3ade-8ecd-4547-b937-fdd076512e83"
      },
      "outputs": [
        {
          "output_type": "stream",
          "name": "stdout",
          "text": [
            "Maximum number of minutes: 395.0\n",
            "Minimum number of minutes: 23.2\n",
            "Average number of minutes: 200.87203720372048\n"
          ]
        }
      ],
      "source": [
        "#Printing maximum, minimum and average number of minutes in night\n",
        "\n",
        "print('Maximum number of minutes:',telecom_data['Total night minutes'].max())\n",
        "print('Minimum number of minutes:',telecom_data['Total night minutes'].min())\n",
        "print('Average number of minutes:',telecom_data['Total night minutes'].mean())"
      ]
    },
    {
      "cell_type": "code",
      "execution_count": 610,
      "metadata": {
        "colab": {
          "base_uri": "https://localhost:8080/",
          "height": 419
        },
        "id": "cV0qQ2-d_QIZ",
        "outputId": "bd0ec9b0-9154-4ec6-c514-f168df353c15"
      },
      "outputs": [
        {
          "output_type": "display_data",
          "data": {
            "text/plain": [
              "<Figure size 576x432 with 1 Axes>"
            ],
            "image/png": "[encoded data removed]"
          },
          "metadata": {
            "needs_background": "light"
          }
        }
      ],
      "source": [
        "#Total Night Minutes affecting the churn rate\n",
        "\n",
        "#setting figure size\n",
        "fig = plt.figure(figsize=(8,6))\n",
        "\n",
        "#Creating boxplot\n",
        "sns.boxplot(y= telecom_data['Total night minutes'], x = telecom_data['Churn'])\n",
        "plt.xlabel(\"Churn\", labelpad=14, fontsize = 12)\n",
        "plt.ylabel(\"Total night minutes\", labelpad=14, fontsize = 12)\n",
        "plt.title(\"Total Night Minutes affecting the Churn Rate\", fontsize = 15)\n",
        "plt.show()"
      ]
    },
    {
      "cell_type": "markdown",
      "metadata": {
        "id": "07CG1xJ7_VPK"
      },
      "source": [
        "Inference:\n",
        "\n",
        "1. From above boxplot, we can observe that average churn and non-churn rate is almost equal.\n",
        "\n",
        "2. Customers who are not churning are spending more minutes.\n",
        "\n",
        "According to my hypothesis:\n",
        "\n",
        "1. Network upgradation can retain the customers."
      ]
    },
    {
      "cell_type": "markdown",
      "metadata": {
        "id": "uDZt9lcy_ht_"
      },
      "source": [
        "# **Total Night Calls affecting the churn rate**"
      ]
    },
    {
      "cell_type": "code",
      "execution_count": 611,
      "metadata": {
        "colab": {
          "base_uri": "https://localhost:8080/"
        },
        "id": "eWFbokGG_hY2",
        "outputId": "37ada8ac-55b3-4e64-cda7-a8b60d7e6567"
      },
      "outputs": [
        {
          "output_type": "stream",
          "name": "stdout",
          "text": [
            "Maximum number of calls: 175\n",
            "Minimum number of calls: 33\n",
            "Average number of calls: 100.10771077107711\n"
          ]
        }
      ],
      "source": [
        "#Printing maximum, minimum and average number of calls in night\n",
        "\n",
        "print('Maximum number of calls:',telecom_data['Total night calls'].max())\n",
        "print('Minimum number of calls:',telecom_data['Total night calls'].min())\n",
        "print('Average number of calls:',telecom_data['Total night calls'].mean())"
      ]
    },
    {
      "cell_type": "code",
      "execution_count": 612,
      "metadata": {
        "colab": {
          "base_uri": "https://localhost:8080/",
          "height": 419
        },
        "id": "FjGHMrpT_Sah",
        "outputId": "55ec270d-08dc-4f06-925f-2406eeab55ae"
      },
      "outputs": [
        {
          "output_type": "display_data",
          "data": {
            "text/plain": [
              "<Figure size 576x432 with 1 Axes>"
            ],
            "image/png": "[encoded data removed]"
          },
          "metadata": {
            "needs_background": "light"
          }
        }
      ],
      "source": [
        "#Total Night Calls affecting the churn rate\n",
        "\n",
        "#setting figure size\n",
        "fig = plt.figure(figsize=(8,6))\n",
        "\n",
        "#Creating boxplot\n",
        "sns.boxplot(y= telecom_data['Total night calls'], x = telecom_data['Churn'])\n",
        "plt.xlabel(\"Churn\", labelpad=14, fontsize = 12)\n",
        "plt.ylabel(\"Total night calls\", labelpad=14, fontsize = 12)\n",
        "plt.title(\"Total Night Calls affecting the Churn Rate\", fontsize = 15)\n",
        "plt.show()"
      ]
    },
    {
      "cell_type": "markdown",
      "metadata": {
        "id": "jgn-2VvR_16-"
      },
      "source": [
        "Inference:\n",
        "\n",
        "1. From above boxplot, we can observe that the IQR(Interquartile Range) of night calls are more for churned customers.\n",
        "\n",
        "According to my hypothesis:\n",
        "\n",
        "1. Need to improve on call drops as it could be a reason for more number of calls in night."
      ]
    },
    {
      "cell_type": "markdown",
      "metadata": {
        "id": "mK0hMyqIAZuU"
      },
      "source": [
        "# **Total Night Charge affecting the churn rate**"
      ]
    },
    {
      "cell_type": "code",
      "execution_count": 613,
      "metadata": {
        "colab": {
          "base_uri": "https://localhost:8080/"
        },
        "id": "LMNdM0-BAfbs",
        "outputId": "45505217-2d2f-44ed-d425-c9158ca46ffd"
      },
      "outputs": [
        {
          "output_type": "stream",
          "name": "stdout",
          "text": [
            "Maximum call charge in night: 17.77\n",
            "Minimum call charge in night: 1.04\n",
            "Average call charge in night: 9.039324932493264\n"
          ]
        }
      ],
      "source": [
        "#Printing maximum, minimum and average call charge in night\n",
        "\n",
        "print('Maximum call charge in night:',telecom_data['Total night charge'].max())\n",
        "print('Minimum call charge in night:',telecom_data['Total night charge'].min())\n",
        "print('Average call charge in night:',telecom_data['Total night charge'].mean())"
      ]
    },
    {
      "cell_type": "code",
      "execution_count": 614,
      "metadata": {
        "colab": {
          "base_uri": "https://localhost:8080/",
          "height": 419
        },
        "id": "TwAPQ6kuAjlb",
        "outputId": "dfc902b2-eb85-4c74-ada5-80fde5d1a24a"
      },
      "outputs": [
        {
          "output_type": "display_data",
          "data": {
            "text/plain": [
              "<Figure size 576x432 with 1 Axes>"
            ],
            "image/png": "[encoded data removed]"
          },
          "metadata": {
            "needs_background": "light"
          }
        }
      ],
      "source": [
        "#Total Night Charge affecting the churn rate\n",
        "\n",
        "#setting figure size\n",
        "fig = plt.figure(figsize=(8,6))\n",
        "\n",
        "#Creating boxplot\n",
        "sns.boxplot(y= telecom_data['Total night charge'], x = telecom_data['Churn'])\n",
        "plt.xlabel(\"Churn\", labelpad=14, fontsize = 12)\n",
        "plt.ylabel(\"Total night charge\", labelpad=14, fontsize = 12)\n",
        "plt.title(\"Total Night Charge affecting the Churn Rate\", fontsize = 15)\n",
        "plt.show()"
      ]
    },
    {
      "cell_type": "markdown",
      "metadata": {
        "id": "4jv9OiYrAnxH"
      },
      "source": [
        "Inference:\n",
        "\n",
        "1 Optimization of charges would lead to loyal customers.\n",
        "\n",
        "According to my hypothesis:\n",
        "\n",
        "1. As the average charge of churn and non-churn customer is almost same, where the reason for churn could be that some customers are not finding the network quality worth it.\n",
        "\n",
        "2. Price optimization and network upgradation is suggested."
      ]
    },
    {
      "cell_type": "markdown",
      "metadata": {
        "id": "r-Go3pZVpKuz"
      },
      "source": [
        "# **Total International Minutes affecting the churn rate**"
      ]
    },
    {
      "cell_type": "code",
      "execution_count": 615,
      "metadata": {
        "colab": {
          "base_uri": "https://localhost:8080/"
        },
        "id": "ctZfL4iPpT_d",
        "outputId": "b2d84ab4-7f81-49f1-95a8-0932d89cb960"
      },
      "outputs": [
        {
          "output_type": "stream",
          "name": "stdout",
          "text": [
            "Maximum number of minutes: 20.0\n",
            "Minimum number of minutes: 0.0\n",
            "Average number of minutes: 10.237293729372933\n"
          ]
        }
      ],
      "source": [
        "#Printing maximum, minimum and average number of minutes in International Calls\n",
        "\n",
        "print('Maximum number of minutes:',telecom_data['Total intl minutes'].max())\n",
        "print('Minimum number of minutes:',telecom_data['Total intl minutes'].min())\n",
        "print('Average number of minutes:',telecom_data['Total intl minutes'].mean())"
      ]
    },
    {
      "cell_type": "code",
      "execution_count": 616,
      "metadata": {
        "colab": {
          "base_uri": "https://localhost:8080/",
          "height": 419
        },
        "id": "NByzdBvlph6i",
        "outputId": "413b6545-1ac1-493b-9a69-f378eec50a25"
      },
      "outputs": [
        {
          "output_type": "display_data",
          "data": {
            "text/plain": [
              "<Figure size 576x432 with 1 Axes>"
            ],
            "image/png": "[encoded data removed]"
          },
          "metadata": {
            "needs_background": "light"
          }
        }
      ],
      "source": [
        "#Total International Minutes affecting the churn rate\n",
        "\n",
        "#setting figure size\n",
        "fig = plt.figure(figsize=(8,6))\n",
        "\n",
        "#Creating boxplot\n",
        "sns.boxplot(y= telecom_data['Total intl minutes'], x = telecom_data['Churn'])\n",
        "plt.xlabel(\"Churn\", labelpad=14, fontsize = 12)\n",
        "plt.ylabel(\"Total International Minutes\", labelpad=14, fontsize = 12)\n",
        "plt.title(\"Total International Minutes affecting the Churn Rate\", fontsize = 15)\n",
        "plt.show()"
      ]
    },
    {
      "cell_type": "markdown",
      "metadata": {
        "id": "5bopJKMmpmTE"
      },
      "source": [
        "Inference:\n",
        "\n",
        "1. From above boxplot, we can observe that IQR(Interquartile Range) of international call duration are more for churned customers.\n",
        "\n",
        "According to my hypothesis:\n",
        "\n",
        "1. Network improvement or smarter technology is required to improve voice quality."
      ]
    },
    {
      "cell_type": "markdown",
      "metadata": {
        "id": "pM1EIpfOpyv5"
      },
      "source": [
        "# **Total International Calls affecting the churn rate**"
      ]
    },
    {
      "cell_type": "code",
      "execution_count": 617,
      "metadata": {
        "colab": {
          "base_uri": "https://localhost:8080/"
        },
        "id": "pOL4IW4Jp2Ep",
        "outputId": "97aab213-c621-49c5-f323-9b45dd9de51b"
      },
      "outputs": [
        {
          "output_type": "stream",
          "name": "stdout",
          "text": [
            "Maximum number of calls: 20\n",
            "Minimum number of calls: 0\n",
            "Average number of calls: 4.4794479447944795\n"
          ]
        }
      ],
      "source": [
        "#Printing maximum, minimum and average number of calls in International Calls\n",
        "\n",
        "print('Maximum number of calls:',telecom_data['Total intl calls'].max())\n",
        "print('Minimum number of calls:',telecom_data['Total intl calls'].min())\n",
        "print('Average number of calls:',telecom_data['Total intl calls'].mean())"
      ]
    },
    {
      "cell_type": "code",
      "execution_count": 618,
      "metadata": {
        "colab": {
          "base_uri": "https://localhost:8080/",
          "height": 419
        },
        "id": "NjND3bjoqHP5",
        "outputId": "30ecd589-50f2-49c9-cd7d-5764e35df597"
      },
      "outputs": [
        {
          "output_type": "display_data",
          "data": {
            "text/plain": [
              "<Figure size 576x432 with 1 Axes>"
            ],
            "image/png": "[encoded data removed]"
          },
          "metadata": {
            "needs_background": "light"
          }
        }
      ],
      "source": [
        "#Total International Calls affecting the churn rate\n",
        "\n",
        "#setting figure size\n",
        "fig = plt.figure(figsize=(8,6))\n",
        "\n",
        "#Creating boxplot\n",
        "sns.boxplot(y= telecom_data['Total intl calls'], x = telecom_data['Churn'])\n",
        "plt.xlabel(\"Churn\", labelpad=14, fontsize = 12)\n",
        "plt.ylabel(\"Total International Calls\", labelpad=14, fontsize = 12)\n",
        "plt.title(\"Total International Calls affecting the Churn Rate\", fontsize = 15)\n",
        "plt.show()"
      ]
    },
    {
      "cell_type": "markdown",
      "metadata": {
        "id": "4fEIiGoqqWJa"
      },
      "source": [
        "Inference:\n",
        "\n",
        "1. More number of calls are made by customers who didn't churn.\n",
        "\n",
        "According to my hypothesis:\n",
        "\n",
        "1. Reason for churn could be network disturbance or call drop.\n",
        "\n",
        "2. Network upgradation is suggested."
      ]
    },
    {
      "cell_type": "markdown",
      "metadata": {
        "id": "NgUN6CH9qlJP"
      },
      "source": [
        "# **Total International Charge affecting the churn rate**"
      ]
    },
    {
      "cell_type": "code",
      "execution_count": 619,
      "metadata": {
        "colab": {
          "base_uri": "https://localhost:8080/"
        },
        "id": "s7cWSv4RqpOh",
        "outputId": "ed8f8947-9f51-4898-fdf8-bdaee391622c"
      },
      "outputs": [
        {
          "output_type": "stream",
          "name": "stdout",
          "text": [
            "Maximum call charge: 5.4\n",
            "Minimum call charge: 0.0\n",
            "Average call charge: 2.764581458145804\n"
          ]
        }
      ],
      "source": [
        "#Printing maximum, minimum and average call charge in International Calls\n",
        "\n",
        "print('Maximum call charge:',telecom_data['Total intl charge'].max())\n",
        "print('Minimum call charge:',telecom_data['Total intl charge'].min())\n",
        "print('Average call charge:',telecom_data['Total intl charge'].mean())"
      ]
    },
    {
      "cell_type": "code",
      "execution_count": 620,
      "metadata": {
        "colab": {
          "base_uri": "https://localhost:8080/",
          "height": 419
        },
        "id": "Rhq7yDxnquJV",
        "outputId": "2c2bcf48-a9bc-4aa2-b63f-e6abcf78c5d7"
      },
      "outputs": [
        {
          "output_type": "display_data",
          "data": {
            "text/plain": [
              "<Figure size 576x432 with 1 Axes>"
            ],
            "image/png": "[encoded data removed]"
          },
          "metadata": {
            "needs_background": "light"
          }
        }
      ],
      "source": [
        "#Total International Charge affecting the churn rate\n",
        "\n",
        "#setting figure size\n",
        "fig = plt.figure(figsize=(8,6))\n",
        "\n",
        "#Creating boxplot\n",
        "sns.boxplot(y= telecom_data['Total intl charge'], x = telecom_data['Churn'])\n",
        "plt.xlabel(\"Churn\", labelpad=14, fontsize = 12)\n",
        "plt.ylabel(\"Total International charge\", labelpad=14, fontsize = 12)\n",
        "plt.title(\"Total International Charge affecting the Churn Rate\", fontsize = 15)\n",
        "plt.show()"
      ]
    },
    {
      "cell_type": "markdown",
      "metadata": {
        "id": "HrwBlQN9q3uZ"
      },
      "source": [
        "Inference:\n",
        "\n",
        "1. From above boxplot, we can observe that customers who spend more time(thereby paying higher charges) on the network are more likely to churn.\n",
        "\n",
        "According to my hypothesis:\n",
        "\n",
        "1. International Calling Rate Optimization would lead to lower churn."
      ]
    },
    {
      "cell_type": "markdown",
      "metadata": {
        "id": "Z7TKuChzrHAf"
      },
      "source": [
        "# **Churn According to Customer Service Calls**"
      ]
    },
    {
      "cell_type": "code",
      "execution_count": 621,
      "metadata": {
        "colab": {
          "base_uri": "https://localhost:8080/",
          "height": 365
        },
        "id": "sftdR1t2rPp8",
        "outputId": "0f37fb83-8f95-4ab4-8f58-f74f457c31cd"
      },
      "outputs": [
        {
          "output_type": "display_data",
          "data": {
            "text/plain": [
              "<Figure size 576x360 with 1 Axes>"
            ],
            "image/png": "[encoded data removed]"
          },
          "metadata": {
            "needs_background": "light"
          }
        }
      ],
      "source": [
        "#Churn According to Customer Service Calls\n",
        "\n",
        "#setting figure size\n",
        "fig = plt.figure(figsize=(8,5))\n",
        "\n",
        "#count plot to display Churn According to Customer Service Calls\n",
        "sns.countplot(data=telecom_data, x='Customer service calls', hue='Churn')\n",
        "plt.xlabel(\"Customer Service Calls\", labelpad=14, fontsize = 12)\n",
        "plt.ylabel(\"Count\", labelpad=14, fontsize = 12)\n",
        "plt.title(\"Churn According to Customer Service Calls\", fontsize = 15)\n",
        "plt.show()"
      ]
    },
    {
      "cell_type": "markdown",
      "metadata": {
        "id": "LCNp-AIUrUz3"
      },
      "source": [
        "Inference:\n",
        "\n",
        "1. From above we can observe that the customer query and problem resolved in less no. of service calls (0-3 calls) are more likely to be retained in the network.\n",
        "\n",
        "2. The customer with more no. of service calls (4-9 calls) are more likely to churn.\n",
        "\n",
        "3. Some customers have switched to other network operator without resolving their issue(i.e. 0 service call), while customers who have called once also have high churn rate indicating that their issue was not resolved in first attempt.\n",
        "\n",
        "According to my hypothesis:\n",
        "\n",
        "1. Customer query and problems should be resolved in minimum calls to avoid churn.\n",
        "\n",
        "2. Waiting time for service call should be minimized to retain the customer.\n",
        "\n",
        "3. Corporation should ensure the customer that their query and problems would be resolved in the first attempt."
      ]
    },
    {
      "cell_type": "markdown",
      "metadata": {
        "id": "eYsaQYr7CADR"
      },
      "source": [
        "# **Checking frequency distribution of all data using histogram**"
      ]
    },
    {
      "cell_type": "code",
      "execution_count": 622,
      "metadata": {
        "colab": {
          "base_uri": "https://localhost:8080/",
          "height": 908
        },
        "id": "3Ch-hrRhCETv",
        "outputId": "6e29e745-acf2-408e-d5d3-41392e750897"
      },
      "outputs": [
        {
          "output_type": "stream",
          "name": "stderr",
          "text": [
            "/usr/local/lib/python3.7/dist-packages/ipykernel_launcher.py:5: UserWarning: To output multiple subplots, the figure containing the passed axes is being cleared\n",
            "  \"\"\"\n"
          ]
        },
        {
          "output_type": "display_data",
          "data": {
            "text/plain": [
              "<Figure size 864x864 with 16 Axes>"
            ],
            "image/png": "[encoded data removed]"
          },
          "metadata": {
            "needs_background": "light"
          }
        }
      ],
      "source": [
        "#Frequency distribution of all data\n",
        "#Plotting the data to visualize their distribution\n",
        "\n",
        "fig, ax = plt.subplots(figsize=(12,12))\n",
        "pd.DataFrame.hist(telecom_data, ax=ax)\n",
        "plt.tight_layout()\n",
        "plt.show()"
      ]
    },
    {
      "cell_type": "markdown",
      "metadata": {
        "id": "4slfHml9CXje"
      },
      "source": [
        "Inference:\n",
        "\n",
        "Area code, Number vmail messages, Total intl calls and Customer service calls are not distributed uniformly whereas others are distributed uniformly."
      ]
    },
    {
      "cell_type": "markdown",
      "metadata": {
        "id": "bnBks-Zlrob1"
      },
      "source": [
        "# **Drawing heat map to compare the correlation between features.**"
      ]
    },
    {
      "cell_type": "code",
      "execution_count": 623,
      "metadata": {
        "colab": {
          "base_uri": "https://localhost:8080/",
          "height": 981
        },
        "id": "oRhV-NKBrubj",
        "outputId": "845c2162-4ced-400f-8c4b-df01a76bf82a"
      },
      "outputs": [
        {
          "output_type": "display_data",
          "data": {
            "text/plain": [
              "<Figure size 1440x1080 with 2 Axes>"
            ],
            "image/png": "[encoded data removed]"
          },
          "metadata": {
            "needs_background": "light"
          }
        }
      ],
      "source": [
        "#Drawing heat map to compare the correlation between features\n",
        "\n",
        "#setting figure size\n",
        "fig = plt.figure(figsize = (20,15))\n",
        "\n",
        "# Creating the data\n",
        "correlated_data = telecom_data.corr()\n",
        "\n",
        "#creating heatmap\n",
        "sns.heatmap(correlated_data,cmap='GnBu', annot = True)\n",
        "\n",
        "plt.show()"
      ]
    },
    {
      "cell_type": "markdown",
      "metadata": {
        "id": "Lkdh06d8r242"
      },
      "source": [
        "Inference:\n",
        "1. Perfect correlation between following features of our dataframe:\n",
        "  * 'Total day charge' and 'Total day minutes'\n",
        "  * 'Total eve charge' and 'Total eve minutes'\n",
        "  * 'Total night charge' and 'Total night minutes'\n",
        "  * 'Total intl charge' and 'Total intl minutes'\n",
        " \n",
        "2. Total day charge, Total day minutes and Customer service calls are more positively correlated with churn among given features.\n",
        "\n",
        "3. Area code, Total day calls, Total eve calls and Total night calls are positvely correlated with churn.\n",
        "\n",
        "4. Number vmail messages and Total intl calls are negatively correlated with churn."
      ]
    },
    {
      "cell_type": "markdown",
      "metadata": {
        "id": "zMlpmPamsCMC"
      },
      "source": [
        "# **Conclusion:**"
      ]
    },
    {
      "cell_type": "markdown",
      "metadata": {
        "id": "LFlhL0NrsF-p"
      },
      "source": [
        "Key factors responsible for customer churn:\n",
        " 1. Higher call charges.\n",
        " 2. Call drop.\n",
        " 3. Quality drop in voice-mail.\n",
        " 4. Network disturbance.\n",
        " 5. Delay in resolving customer query and problem.\n",
        "\n",
        "\n",
        "Recommendations to ensure customer retention:\n",
        " 1. To revaluate pricing strategy.\n",
        " 2. Implementing a better network infrastructure in New Jersey,Texas and Maryland Areas where there is more Churn Rate.\n",
        " 3. Need to improve our voice-mail feature or set a limit.\n",
        " 4. Updating and optimizing international call rates.\n",
        " 5. Upgrading network to improve service for long duration customers.\n",
        " 6. Corporation should ensure the customer that their query and problems would be resolved in the first attempt or as soon as possible."
      ]
    }
  ],
  "metadata": {
    "colab": {
      "collapsed_sections": [
        "Y06xIdG26kRF",
        "RNlLe8KhAHkk",
        "o0yHxvFGgfS7"
      ],
      "name": "Telecom Churn Analysis - Capstone Project.ipynb",
      "provenance": [],
      "include_colab_link": true
    },
    "kernelspec": {
      "display_name": "Python 3",
      "language": "python",
      "name": "python3"
    },
    "language_info": {
      "codemirror_mode": {
        "name": "ipython",
        "version": 3
      },
      "file_extension": ".py",
      "mimetype": "text/x-python",
      "name": "python",
      "nbconvert_exporter": "python",
      "pygments_lexer": "ipython3",
      "version": "3.6.6"
    }
  },
  "nbformat": 4,
  "nbformat_minor": 0
}